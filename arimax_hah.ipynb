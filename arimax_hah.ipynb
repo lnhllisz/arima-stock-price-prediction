{
  "cells": [
    {
      "cell_type": "markdown",
      "metadata": {
        "id": "8GaP9jxzhN9D"
      },
      "source": [
        "# **Packages needed**"
      ]
    },
    {
      "cell_type": "code",
      "execution_count": 1,
      "metadata": {
        "id": "mJevNczahMDw"
      },
      "outputs": [],
      "source": [
        "import yfinance as yf\n",
        "from datetime import datetime\n",
        "import pandas as pd\n",
        "import numpy as np\n",
        "import ta\n",
        "from sklearn.preprocessing import MinMaxScaler\n",
        "from sklearn.metrics import mean_squared_error, mean_absolute_percentage_error\n",
        "from sklearn.model_selection import train_test_split\n",
        "from statsmodels.tsa.statespace.sarimax import SARIMAX\n",
        "from pmdarima import auto_arima\n",
        "import matplotlib.pyplot as plt\n",
        "import warnings\n",
        "warnings.filterwarnings('ignore')"
      ]
    },
    {
      "cell_type": "markdown",
      "metadata": {
        "id": "ZnoVf9LqhT_S"
      },
      "source": [
        "# **Data needed**"
      ]
    },
    {
      "cell_type": "code",
      "execution_count": 2,
      "metadata": {
        "colab": {
          "base_uri": "https://localhost:8080/"
        },
        "id": "IqEFDUdb9PUJ",
        "outputId": "9c2bdf51-5c78-481f-c93c-a30028c680aa"
      },
      "outputs": [
        {
          "name": "stdout",
          "output_type": "stream",
          "text": [
            "         Date  High   Low  Open  Close   Volume\n",
            "0  06/03/2025  51.7  50.0  51.2   50.7  3492300\n",
            "1  05/03/2025  52.8  51.0  52.0   51.0  2064800\n",
            "2  04/03/2025  52.4  51.5  52.4   52.1  2057600\n",
            "3  03/03/2025  53.1  51.5  53.1   52.2  4080100\n",
            "4  28/02/2025  53.7  52.3  52.8   53.2  2077900\n"
          ]
        }
      ],
      "source": [
        "hah_df = pd.read_csv('hah_df.csv')\n",
        "\n",
        "print(hah_df.head())\n"
      ]
    },
    {
      "cell_type": "code",
      "execution_count": 3,
      "metadata": {
        "colab": {
          "base_uri": "https://localhost:8080/"
        },
        "id": "SFxse0srLT9A",
        "outputId": "06de13ff-b80c-4a9c-b3c1-bd42aefeda2b"
      },
      "outputs": [
        {
          "name": "stdout",
          "output_type": "stream",
          "text": [
            "<class 'pandas.core.frame.DataFrame'>\n",
            "RangeIndex: 1500 entries, 0 to 1499\n",
            "Data columns (total 6 columns):\n",
            " #   Column  Non-Null Count  Dtype  \n",
            "---  ------  --------------  -----  \n",
            " 0   Date    1500 non-null   object \n",
            " 1   High    1500 non-null   float64\n",
            " 2   Low     1500 non-null   float64\n",
            " 3   Open    1500 non-null   float64\n",
            " 4   Close   1500 non-null   float64\n",
            " 5   Volume  1500 non-null   int64  \n",
            "dtypes: float64(4), int64(1), object(1)\n",
            "memory usage: 70.4+ KB\n",
            "None\n"
          ]
        }
      ],
      "source": [
        "# View basic information\n",
        "print(hah_df.info())"
      ]
    },
    {
      "cell_type": "code",
      "execution_count": 4,
      "metadata": {
        "colab": {
          "base_uri": "https://localhost:8080/",
          "height": 434
        },
        "id": "3sxepfNGLXVx",
        "outputId": "5fdc0474-52df-4863-91a8-e3d3ed9d53fa"
      },
      "outputs": [
        {
          "data": {
            "application/vnd.microsoft.datawrangler.viewer.v0+json": {
              "columns": [
                {
                  "name": "index",
                  "rawType": "int64",
                  "type": "integer"
                },
                {
                  "name": "Date",
                  "rawType": "datetime64[ns]",
                  "type": "datetime"
                },
                {
                  "name": "High",
                  "rawType": "float64",
                  "type": "float"
                },
                {
                  "name": "Low",
                  "rawType": "float64",
                  "type": "float"
                },
                {
                  "name": "Open",
                  "rawType": "float64",
                  "type": "float"
                },
                {
                  "name": "Close",
                  "rawType": "float64",
                  "type": "float"
                },
                {
                  "name": "Volume",
                  "rawType": "int64",
                  "type": "integer"
                }
              ],
              "conversionMethod": "pd.DataFrame",
              "ref": "73a4b9c4-3fde-40db-b34f-ae7d318f77cb",
              "rows": [
                [
                  "0",
                  "2025-03-06 00:00:00",
                  "51.7",
                  "50.0",
                  "51.2",
                  "50.7",
                  "3492300"
                ],
                [
                  "1",
                  "2025-03-05 00:00:00",
                  "52.8",
                  "51.0",
                  "52.0",
                  "51.0",
                  "2064800"
                ],
                [
                  "2",
                  "2025-03-04 00:00:00",
                  "52.4",
                  "51.5",
                  "52.4",
                  "52.1",
                  "2057600"
                ],
                [
                  "3",
                  "2025-03-03 00:00:00",
                  "53.1",
                  "51.5",
                  "53.1",
                  "52.2",
                  "4080100"
                ],
                [
                  "4",
                  "2025-02-28 00:00:00",
                  "53.7",
                  "52.3",
                  "52.8",
                  "53.2",
                  "2077900"
                ]
              ],
              "shape": {
                "columns": 6,
                "rows": 5
              }
            },
            "text/html": [
              "<div>\n",
              "<style scoped>\n",
              "    .dataframe tbody tr th:only-of-type {\n",
              "        vertical-align: middle;\n",
              "    }\n",
              "\n",
              "    .dataframe tbody tr th {\n",
              "        vertical-align: top;\n",
              "    }\n",
              "\n",
              "    .dataframe thead th {\n",
              "        text-align: right;\n",
              "    }\n",
              "</style>\n",
              "<table border=\"1\" class=\"dataframe\">\n",
              "  <thead>\n",
              "    <tr style=\"text-align: right;\">\n",
              "      <th></th>\n",
              "      <th>Date</th>\n",
              "      <th>High</th>\n",
              "      <th>Low</th>\n",
              "      <th>Open</th>\n",
              "      <th>Close</th>\n",
              "      <th>Volume</th>\n",
              "    </tr>\n",
              "  </thead>\n",
              "  <tbody>\n",
              "    <tr>\n",
              "      <th>0</th>\n",
              "      <td>2025-03-06</td>\n",
              "      <td>51.7</td>\n",
              "      <td>50.0</td>\n",
              "      <td>51.2</td>\n",
              "      <td>50.7</td>\n",
              "      <td>3492300</td>\n",
              "    </tr>\n",
              "    <tr>\n",
              "      <th>1</th>\n",
              "      <td>2025-03-05</td>\n",
              "      <td>52.8</td>\n",
              "      <td>51.0</td>\n",
              "      <td>52.0</td>\n",
              "      <td>51.0</td>\n",
              "      <td>2064800</td>\n",
              "    </tr>\n",
              "    <tr>\n",
              "      <th>2</th>\n",
              "      <td>2025-03-04</td>\n",
              "      <td>52.4</td>\n",
              "      <td>51.5</td>\n",
              "      <td>52.4</td>\n",
              "      <td>52.1</td>\n",
              "      <td>2057600</td>\n",
              "    </tr>\n",
              "    <tr>\n",
              "      <th>3</th>\n",
              "      <td>2025-03-03</td>\n",
              "      <td>53.1</td>\n",
              "      <td>51.5</td>\n",
              "      <td>53.1</td>\n",
              "      <td>52.2</td>\n",
              "      <td>4080100</td>\n",
              "    </tr>\n",
              "    <tr>\n",
              "      <th>4</th>\n",
              "      <td>2025-02-28</td>\n",
              "      <td>53.7</td>\n",
              "      <td>52.3</td>\n",
              "      <td>52.8</td>\n",
              "      <td>53.2</td>\n",
              "      <td>2077900</td>\n",
              "    </tr>\n",
              "  </tbody>\n",
              "</table>\n",
              "</div>"
            ],
            "text/plain": [
              "        Date  High   Low  Open  Close   Volume\n",
              "0 2025-03-06  51.7  50.0  51.2   50.7  3492300\n",
              "1 2025-03-05  52.8  51.0  52.0   51.0  2064800\n",
              "2 2025-03-04  52.4  51.5  52.4   52.1  2057600\n",
              "3 2025-03-03  53.1  51.5  53.1   52.2  4080100\n",
              "4 2025-02-28  53.7  52.3  52.8   53.2  2077900"
            ]
          },
          "execution_count": 4,
          "metadata": {},
          "output_type": "execute_result"
        }
      ],
      "source": [
        "# Change all to datetimelike\n",
        "hah_df['Date'] = pd.to_datetime(hah_df['Date'], dayfirst=True)\n",
        "\n",
        "# View one of them to recheck\n",
        "hah_df.head()"
      ]
    },
    {
      "cell_type": "code",
      "execution_count": 5,
      "metadata": {
        "colab": {
          "base_uri": "https://localhost:8080/",
          "height": 206
        },
        "id": "NWZf26vUpxTp",
        "outputId": "c06b7f0f-99b8-4aa7-c68d-7ff7c486233b"
      },
      "outputs": [
        {
          "data": {
            "application/vnd.microsoft.datawrangler.viewer.v0+json": {
              "columns": [
                {
                  "name": "index",
                  "rawType": "int64",
                  "type": "integer"
                },
                {
                  "name": "Date",
                  "rawType": "datetime64[ns]",
                  "type": "datetime"
                },
                {
                  "name": "High",
                  "rawType": "float64",
                  "type": "float"
                },
                {
                  "name": "Low",
                  "rawType": "float64",
                  "type": "float"
                },
                {
                  "name": "Open",
                  "rawType": "float64",
                  "type": "float"
                },
                {
                  "name": "Close",
                  "rawType": "float64",
                  "type": "float"
                },
                {
                  "name": "Volume",
                  "rawType": "int64",
                  "type": "integer"
                }
              ],
              "conversionMethod": "pd.DataFrame",
              "ref": "f908ac31-5fd9-4e6e-9c0e-a38324845aa6",
              "rows": [
                [
                  "1499",
                  "2019-03-05 00:00:00",
                  "13.5",
                  "13.1",
                  "13.2",
                  "13.25",
                  "445260"
                ],
                [
                  "1498",
                  "2019-03-06 00:00:00",
                  "13.6",
                  "13.3",
                  "13.4",
                  "13.45",
                  "433950"
                ],
                [
                  "1497",
                  "2019-03-07 00:00:00",
                  "13.5",
                  "13.15",
                  "13.45",
                  "13.15",
                  "221500"
                ],
                [
                  "1496",
                  "2019-03-08 00:00:00",
                  "13.9",
                  "13.15",
                  "13.15",
                  "13.5",
                  "342780"
                ],
                [
                  "1495",
                  "2019-03-11 00:00:00",
                  "14.2",
                  "13.5",
                  "13.55",
                  "13.95",
                  "886450"
                ]
              ],
              "shape": {
                "columns": 6,
                "rows": 5
              }
            },
            "text/html": [
              "<div>\n",
              "<style scoped>\n",
              "    .dataframe tbody tr th:only-of-type {\n",
              "        vertical-align: middle;\n",
              "    }\n",
              "\n",
              "    .dataframe tbody tr th {\n",
              "        vertical-align: top;\n",
              "    }\n",
              "\n",
              "    .dataframe thead th {\n",
              "        text-align: right;\n",
              "    }\n",
              "</style>\n",
              "<table border=\"1\" class=\"dataframe\">\n",
              "  <thead>\n",
              "    <tr style=\"text-align: right;\">\n",
              "      <th></th>\n",
              "      <th>Date</th>\n",
              "      <th>High</th>\n",
              "      <th>Low</th>\n",
              "      <th>Open</th>\n",
              "      <th>Close</th>\n",
              "      <th>Volume</th>\n",
              "    </tr>\n",
              "  </thead>\n",
              "  <tbody>\n",
              "    <tr>\n",
              "      <th>1499</th>\n",
              "      <td>2019-03-05</td>\n",
              "      <td>13.5</td>\n",
              "      <td>13.10</td>\n",
              "      <td>13.20</td>\n",
              "      <td>13.25</td>\n",
              "      <td>445260</td>\n",
              "    </tr>\n",
              "    <tr>\n",
              "      <th>1498</th>\n",
              "      <td>2019-03-06</td>\n",
              "      <td>13.6</td>\n",
              "      <td>13.30</td>\n",
              "      <td>13.40</td>\n",
              "      <td>13.45</td>\n",
              "      <td>433950</td>\n",
              "    </tr>\n",
              "    <tr>\n",
              "      <th>1497</th>\n",
              "      <td>2019-03-07</td>\n",
              "      <td>13.5</td>\n",
              "      <td>13.15</td>\n",
              "      <td>13.45</td>\n",
              "      <td>13.15</td>\n",
              "      <td>221500</td>\n",
              "    </tr>\n",
              "    <tr>\n",
              "      <th>1496</th>\n",
              "      <td>2019-03-08</td>\n",
              "      <td>13.9</td>\n",
              "      <td>13.15</td>\n",
              "      <td>13.15</td>\n",
              "      <td>13.50</td>\n",
              "      <td>342780</td>\n",
              "    </tr>\n",
              "    <tr>\n",
              "      <th>1495</th>\n",
              "      <td>2019-03-11</td>\n",
              "      <td>14.2</td>\n",
              "      <td>13.50</td>\n",
              "      <td>13.55</td>\n",
              "      <td>13.95</td>\n",
              "      <td>886450</td>\n",
              "    </tr>\n",
              "  </tbody>\n",
              "</table>\n",
              "</div>"
            ],
            "text/plain": [
              "           Date  High    Low   Open  Close  Volume\n",
              "1499 2019-03-05  13.5  13.10  13.20  13.25  445260\n",
              "1498 2019-03-06  13.6  13.30  13.40  13.45  433950\n",
              "1497 2019-03-07  13.5  13.15  13.45  13.15  221500\n",
              "1496 2019-03-08  13.9  13.15  13.15  13.50  342780\n",
              "1495 2019-03-11  14.2  13.50  13.55  13.95  886450"
            ]
          },
          "execution_count": 5,
          "metadata": {},
          "output_type": "execute_result"
        }
      ],
      "source": [
        "# Reverse the datasets\n",
        "hah_df = hah_df.iloc[::-1]\n",
        "\n",
        "# View one of them to recheck\n",
        "hah_df.head()"
      ]
    },
    {
      "cell_type": "markdown",
      "metadata": {
        "id": "LmPJ09QdracD"
      },
      "source": [
        "## **Technical indicators**"
      ]
    },
    {
      "cell_type": "code",
      "execution_count": 6,
      "metadata": {
        "colab": {
          "base_uri": "https://localhost:8080/",
          "height": 206
        },
        "id": "4pE_Wi_3L5Rf",
        "outputId": "b1dcfb19-a198-4c7e-e003-828808158b09"
      },
      "outputs": [
        {
          "data": {
            "application/vnd.microsoft.datawrangler.viewer.v0+json": {
              "columns": [
                {
                  "name": "index",
                  "rawType": "int64",
                  "type": "integer"
                },
                {
                  "name": "Date",
                  "rawType": "datetime64[ns]",
                  "type": "datetime"
                },
                {
                  "name": "High",
                  "rawType": "float64",
                  "type": "float"
                },
                {
                  "name": "Low",
                  "rawType": "float64",
                  "type": "float"
                },
                {
                  "name": "Open",
                  "rawType": "float64",
                  "type": "float"
                },
                {
                  "name": "Close",
                  "rawType": "float64",
                  "type": "float"
                },
                {
                  "name": "Volume",
                  "rawType": "int64",
                  "type": "integer"
                },
                {
                  "name": "SMA_200",
                  "rawType": "float64",
                  "type": "float"
                }
              ],
              "conversionMethod": "pd.DataFrame",
              "ref": "c9f62ab7-8d16-4654-ba79-16012a35b1a0",
              "rows": [
                [
                  "1300",
                  "2019-12-16 00:00:00",
                  "12.35",
                  "12.1",
                  "12.1",
                  "12.2",
                  "91960",
                  "13.508"
                ],
                [
                  "1299",
                  "2019-12-17 00:00:00",
                  "12.2",
                  "12.0",
                  "12.2",
                  "12.15",
                  "105160",
                  "13.5025"
                ],
                [
                  "1298",
                  "2019-12-18 00:00:00",
                  "12.15",
                  "11.9",
                  "12.1",
                  "12.15",
                  "191200",
                  "13.496000000000002"
                ],
                [
                  "1297",
                  "2019-12-19 00:00:00",
                  "12.2",
                  "11.65",
                  "12.0",
                  "12.0",
                  "291450",
                  "13.490250000000001"
                ],
                [
                  "1296",
                  "2019-12-20 00:00:00",
                  "12.0",
                  "11.7",
                  "11.95",
                  "11.95",
                  "40160",
                  "13.4825"
                ]
              ],
              "shape": {
                "columns": 7,
                "rows": 5
              }
            },
            "text/html": [
              "<div>\n",
              "<style scoped>\n",
              "    .dataframe tbody tr th:only-of-type {\n",
              "        vertical-align: middle;\n",
              "    }\n",
              "\n",
              "    .dataframe tbody tr th {\n",
              "        vertical-align: top;\n",
              "    }\n",
              "\n",
              "    .dataframe thead th {\n",
              "        text-align: right;\n",
              "    }\n",
              "</style>\n",
              "<table border=\"1\" class=\"dataframe\">\n",
              "  <thead>\n",
              "    <tr style=\"text-align: right;\">\n",
              "      <th></th>\n",
              "      <th>Date</th>\n",
              "      <th>High</th>\n",
              "      <th>Low</th>\n",
              "      <th>Open</th>\n",
              "      <th>Close</th>\n",
              "      <th>Volume</th>\n",
              "      <th>SMA_200</th>\n",
              "    </tr>\n",
              "  </thead>\n",
              "  <tbody>\n",
              "    <tr>\n",
              "      <th>1300</th>\n",
              "      <td>2019-12-16</td>\n",
              "      <td>12.35</td>\n",
              "      <td>12.10</td>\n",
              "      <td>12.10</td>\n",
              "      <td>12.20</td>\n",
              "      <td>91960</td>\n",
              "      <td>13.50800</td>\n",
              "    </tr>\n",
              "    <tr>\n",
              "      <th>1299</th>\n",
              "      <td>2019-12-17</td>\n",
              "      <td>12.20</td>\n",
              "      <td>12.00</td>\n",
              "      <td>12.20</td>\n",
              "      <td>12.15</td>\n",
              "      <td>105160</td>\n",
              "      <td>13.50250</td>\n",
              "    </tr>\n",
              "    <tr>\n",
              "      <th>1298</th>\n",
              "      <td>2019-12-18</td>\n",
              "      <td>12.15</td>\n",
              "      <td>11.90</td>\n",
              "      <td>12.10</td>\n",
              "      <td>12.15</td>\n",
              "      <td>191200</td>\n",
              "      <td>13.49600</td>\n",
              "    </tr>\n",
              "    <tr>\n",
              "      <th>1297</th>\n",
              "      <td>2019-12-19</td>\n",
              "      <td>12.20</td>\n",
              "      <td>11.65</td>\n",
              "      <td>12.00</td>\n",
              "      <td>12.00</td>\n",
              "      <td>291450</td>\n",
              "      <td>13.49025</td>\n",
              "    </tr>\n",
              "    <tr>\n",
              "      <th>1296</th>\n",
              "      <td>2019-12-20</td>\n",
              "      <td>12.00</td>\n",
              "      <td>11.70</td>\n",
              "      <td>11.95</td>\n",
              "      <td>11.95</td>\n",
              "      <td>40160</td>\n",
              "      <td>13.48250</td>\n",
              "    </tr>\n",
              "  </tbody>\n",
              "</table>\n",
              "</div>"
            ],
            "text/plain": [
              "           Date   High    Low   Open  Close  Volume   SMA_200\n",
              "1300 2019-12-16  12.35  12.10  12.10  12.20   91960  13.50800\n",
              "1299 2019-12-17  12.20  12.00  12.20  12.15  105160  13.50250\n",
              "1298 2019-12-18  12.15  11.90  12.10  12.15  191200  13.49600\n",
              "1297 2019-12-19  12.20  11.65  12.00  12.00  291450  13.49025\n",
              "1296 2019-12-20  12.00  11.70  11.95  11.95   40160  13.48250"
            ]
          },
          "execution_count": 6,
          "metadata": {},
          "output_type": "execute_result"
        }
      ],
      "source": [
        "# Calculate simple moving average\n",
        "hah_df['SMA_200'] = hah_df['Close'].rolling(window = 200).mean()\n",
        "\n",
        "# Drop all empty rows\n",
        "hah_df.dropna(inplace = True)\n",
        "\n",
        "# View one to check\n",
        "hah_df.head()"
      ]
    },
    {
      "cell_type": "code",
      "execution_count": 7,
      "metadata": {
        "colab": {
          "base_uri": "https://localhost:8080/",
          "height": 206
        },
        "id": "ei4985bGtDNR",
        "outputId": "fa65a191-e6fa-4d55-f1f8-53ad4d5449b5"
      },
      "outputs": [
        {
          "data": {
            "application/vnd.microsoft.datawrangler.viewer.v0+json": {
              "columns": [
                {
                  "name": "index",
                  "rawType": "int64",
                  "type": "integer"
                },
                {
                  "name": "Date",
                  "rawType": "datetime64[ns]",
                  "type": "datetime"
                },
                {
                  "name": "High",
                  "rawType": "float64",
                  "type": "float"
                },
                {
                  "name": "Low",
                  "rawType": "float64",
                  "type": "float"
                },
                {
                  "name": "Open",
                  "rawType": "float64",
                  "type": "float"
                },
                {
                  "name": "Close",
                  "rawType": "float64",
                  "type": "float"
                },
                {
                  "name": "Volume",
                  "rawType": "int64",
                  "type": "integer"
                },
                {
                  "name": "SMA_200",
                  "rawType": "float64",
                  "type": "float"
                },
                {
                  "name": "RSI",
                  "rawType": "float64",
                  "type": "float"
                }
              ],
              "conversionMethod": "pd.DataFrame",
              "ref": "adee9dcf-5923-4a13-8f85-d6a7517df1fa",
              "rows": [
                [
                  "1300",
                  "2019-12-16 00:00:00",
                  "12.35",
                  "12.1",
                  "12.1",
                  "12.2",
                  "91960",
                  "13.508",
                  null
                ],
                [
                  "1299",
                  "2019-12-17 00:00:00",
                  "12.2",
                  "12.0",
                  "12.2",
                  "12.15",
                  "105160",
                  "13.5025",
                  null
                ],
                [
                  "1298",
                  "2019-12-18 00:00:00",
                  "12.15",
                  "11.9",
                  "12.1",
                  "12.15",
                  "191200",
                  "13.496000000000002",
                  null
                ],
                [
                  "1297",
                  "2019-12-19 00:00:00",
                  "12.2",
                  "11.65",
                  "12.0",
                  "12.0",
                  "291450",
                  "13.490250000000001",
                  null
                ],
                [
                  "1296",
                  "2019-12-20 00:00:00",
                  "12.0",
                  "11.7",
                  "11.95",
                  "11.95",
                  "40160",
                  "13.4825",
                  null
                ]
              ],
              "shape": {
                "columns": 8,
                "rows": 5
              }
            },
            "text/html": [
              "<div>\n",
              "<style scoped>\n",
              "    .dataframe tbody tr th:only-of-type {\n",
              "        vertical-align: middle;\n",
              "    }\n",
              "\n",
              "    .dataframe tbody tr th {\n",
              "        vertical-align: top;\n",
              "    }\n",
              "\n",
              "    .dataframe thead th {\n",
              "        text-align: right;\n",
              "    }\n",
              "</style>\n",
              "<table border=\"1\" class=\"dataframe\">\n",
              "  <thead>\n",
              "    <tr style=\"text-align: right;\">\n",
              "      <th></th>\n",
              "      <th>Date</th>\n",
              "      <th>High</th>\n",
              "      <th>Low</th>\n",
              "      <th>Open</th>\n",
              "      <th>Close</th>\n",
              "      <th>Volume</th>\n",
              "      <th>SMA_200</th>\n",
              "      <th>RSI</th>\n",
              "    </tr>\n",
              "  </thead>\n",
              "  <tbody>\n",
              "    <tr>\n",
              "      <th>1300</th>\n",
              "      <td>2019-12-16</td>\n",
              "      <td>12.35</td>\n",
              "      <td>12.10</td>\n",
              "      <td>12.10</td>\n",
              "      <td>12.20</td>\n",
              "      <td>91960</td>\n",
              "      <td>13.50800</td>\n",
              "      <td>NaN</td>\n",
              "    </tr>\n",
              "    <tr>\n",
              "      <th>1299</th>\n",
              "      <td>2019-12-17</td>\n",
              "      <td>12.20</td>\n",
              "      <td>12.00</td>\n",
              "      <td>12.20</td>\n",
              "      <td>12.15</td>\n",
              "      <td>105160</td>\n",
              "      <td>13.50250</td>\n",
              "      <td>NaN</td>\n",
              "    </tr>\n",
              "    <tr>\n",
              "      <th>1298</th>\n",
              "      <td>2019-12-18</td>\n",
              "      <td>12.15</td>\n",
              "      <td>11.90</td>\n",
              "      <td>12.10</td>\n",
              "      <td>12.15</td>\n",
              "      <td>191200</td>\n",
              "      <td>13.49600</td>\n",
              "      <td>NaN</td>\n",
              "    </tr>\n",
              "    <tr>\n",
              "      <th>1297</th>\n",
              "      <td>2019-12-19</td>\n",
              "      <td>12.20</td>\n",
              "      <td>11.65</td>\n",
              "      <td>12.00</td>\n",
              "      <td>12.00</td>\n",
              "      <td>291450</td>\n",
              "      <td>13.49025</td>\n",
              "      <td>NaN</td>\n",
              "    </tr>\n",
              "    <tr>\n",
              "      <th>1296</th>\n",
              "      <td>2019-12-20</td>\n",
              "      <td>12.00</td>\n",
              "      <td>11.70</td>\n",
              "      <td>11.95</td>\n",
              "      <td>11.95</td>\n",
              "      <td>40160</td>\n",
              "      <td>13.48250</td>\n",
              "      <td>NaN</td>\n",
              "    </tr>\n",
              "  </tbody>\n",
              "</table>\n",
              "</div>"
            ],
            "text/plain": [
              "           Date   High    Low   Open  Close  Volume   SMA_200  RSI\n",
              "1300 2019-12-16  12.35  12.10  12.10  12.20   91960  13.50800  NaN\n",
              "1299 2019-12-17  12.20  12.00  12.20  12.15  105160  13.50250  NaN\n",
              "1298 2019-12-18  12.15  11.90  12.10  12.15  191200  13.49600  NaN\n",
              "1297 2019-12-19  12.20  11.65  12.00  12.00  291450  13.49025  NaN\n",
              "1296 2019-12-20  12.00  11.70  11.95  11.95   40160  13.48250  NaN"
            ]
          },
          "execution_count": 7,
          "metadata": {},
          "output_type": "execute_result"
        }
      ],
      "source": [
        "# Calculate RSI\n",
        "hah_df['RSI'] = ta.momentum.RSIIndicator(hah_df['Close'].squeeze(), window = 14).rsi()\n",
        "\n",
        "# View one to check\n",
        "hah_df.head()"
      ]
    },
    {
      "cell_type": "code",
      "execution_count": 8,
      "metadata": {
        "colab": {
          "base_uri": "https://localhost:8080/",
          "height": 206
        },
        "id": "dNUb_s9Xuayz",
        "outputId": "cc06af37-148f-484b-9f8f-c1f8baa1e9b2"
      },
      "outputs": [
        {
          "data": {
            "application/vnd.microsoft.datawrangler.viewer.v0+json": {
              "columns": [
                {
                  "name": "index",
                  "rawType": "int64",
                  "type": "integer"
                },
                {
                  "name": "Date",
                  "rawType": "datetime64[ns]",
                  "type": "datetime"
                },
                {
                  "name": "High",
                  "rawType": "float64",
                  "type": "float"
                },
                {
                  "name": "Low",
                  "rawType": "float64",
                  "type": "float"
                },
                {
                  "name": "Open",
                  "rawType": "float64",
                  "type": "float"
                },
                {
                  "name": "Close",
                  "rawType": "float64",
                  "type": "float"
                },
                {
                  "name": "Volume",
                  "rawType": "int64",
                  "type": "integer"
                },
                {
                  "name": "SMA_200",
                  "rawType": "float64",
                  "type": "float"
                },
                {
                  "name": "RSI",
                  "rawType": "float64",
                  "type": "float"
                },
                {
                  "name": "STOCH",
                  "rawType": "float64",
                  "type": "float"
                }
              ],
              "conversionMethod": "pd.DataFrame",
              "ref": "e20f43c0-ad5c-4c41-b8a2-5e00cf1de3ea",
              "rows": [
                [
                  "1300",
                  "2019-12-16 00:00:00",
                  "12.35",
                  "12.1",
                  "12.1",
                  "12.2",
                  "91960",
                  "13.508",
                  null,
                  null
                ],
                [
                  "1299",
                  "2019-12-17 00:00:00",
                  "12.2",
                  "12.0",
                  "12.2",
                  "12.15",
                  "105160",
                  "13.5025",
                  null,
                  null
                ],
                [
                  "1298",
                  "2019-12-18 00:00:00",
                  "12.15",
                  "11.9",
                  "12.1",
                  "12.15",
                  "191200",
                  "13.496000000000002",
                  null,
                  null
                ],
                [
                  "1297",
                  "2019-12-19 00:00:00",
                  "12.2",
                  "11.65",
                  "12.0",
                  "12.0",
                  "291450",
                  "13.490250000000001",
                  null,
                  null
                ],
                [
                  "1296",
                  "2019-12-20 00:00:00",
                  "12.0",
                  "11.7",
                  "11.95",
                  "11.95",
                  "40160",
                  "13.4825",
                  null,
                  null
                ]
              ],
              "shape": {
                "columns": 9,
                "rows": 5
              }
            },
            "text/html": [
              "<div>\n",
              "<style scoped>\n",
              "    .dataframe tbody tr th:only-of-type {\n",
              "        vertical-align: middle;\n",
              "    }\n",
              "\n",
              "    .dataframe tbody tr th {\n",
              "        vertical-align: top;\n",
              "    }\n",
              "\n",
              "    .dataframe thead th {\n",
              "        text-align: right;\n",
              "    }\n",
              "</style>\n",
              "<table border=\"1\" class=\"dataframe\">\n",
              "  <thead>\n",
              "    <tr style=\"text-align: right;\">\n",
              "      <th></th>\n",
              "      <th>Date</th>\n",
              "      <th>High</th>\n",
              "      <th>Low</th>\n",
              "      <th>Open</th>\n",
              "      <th>Close</th>\n",
              "      <th>Volume</th>\n",
              "      <th>SMA_200</th>\n",
              "      <th>RSI</th>\n",
              "      <th>STOCH</th>\n",
              "    </tr>\n",
              "  </thead>\n",
              "  <tbody>\n",
              "    <tr>\n",
              "      <th>1300</th>\n",
              "      <td>2019-12-16</td>\n",
              "      <td>12.35</td>\n",
              "      <td>12.10</td>\n",
              "      <td>12.10</td>\n",
              "      <td>12.20</td>\n",
              "      <td>91960</td>\n",
              "      <td>13.50800</td>\n",
              "      <td>NaN</td>\n",
              "      <td>NaN</td>\n",
              "    </tr>\n",
              "    <tr>\n",
              "      <th>1299</th>\n",
              "      <td>2019-12-17</td>\n",
              "      <td>12.20</td>\n",
              "      <td>12.00</td>\n",
              "      <td>12.20</td>\n",
              "      <td>12.15</td>\n",
              "      <td>105160</td>\n",
              "      <td>13.50250</td>\n",
              "      <td>NaN</td>\n",
              "      <td>NaN</td>\n",
              "    </tr>\n",
              "    <tr>\n",
              "      <th>1298</th>\n",
              "      <td>2019-12-18</td>\n",
              "      <td>12.15</td>\n",
              "      <td>11.90</td>\n",
              "      <td>12.10</td>\n",
              "      <td>12.15</td>\n",
              "      <td>191200</td>\n",
              "      <td>13.49600</td>\n",
              "      <td>NaN</td>\n",
              "      <td>NaN</td>\n",
              "    </tr>\n",
              "    <tr>\n",
              "      <th>1297</th>\n",
              "      <td>2019-12-19</td>\n",
              "      <td>12.20</td>\n",
              "      <td>11.65</td>\n",
              "      <td>12.00</td>\n",
              "      <td>12.00</td>\n",
              "      <td>291450</td>\n",
              "      <td>13.49025</td>\n",
              "      <td>NaN</td>\n",
              "      <td>NaN</td>\n",
              "    </tr>\n",
              "    <tr>\n",
              "      <th>1296</th>\n",
              "      <td>2019-12-20</td>\n",
              "      <td>12.00</td>\n",
              "      <td>11.70</td>\n",
              "      <td>11.95</td>\n",
              "      <td>11.95</td>\n",
              "      <td>40160</td>\n",
              "      <td>13.48250</td>\n",
              "      <td>NaN</td>\n",
              "      <td>NaN</td>\n",
              "    </tr>\n",
              "  </tbody>\n",
              "</table>\n",
              "</div>"
            ],
            "text/plain": [
              "           Date   High    Low   Open  Close  Volume   SMA_200  RSI  STOCH\n",
              "1300 2019-12-16  12.35  12.10  12.10  12.20   91960  13.50800  NaN    NaN\n",
              "1299 2019-12-17  12.20  12.00  12.20  12.15  105160  13.50250  NaN    NaN\n",
              "1298 2019-12-18  12.15  11.90  12.10  12.15  191200  13.49600  NaN    NaN\n",
              "1297 2019-12-19  12.20  11.65  12.00  12.00  291450  13.49025  NaN    NaN\n",
              "1296 2019-12-20  12.00  11.70  11.95  11.95   40160  13.48250  NaN    NaN"
            ]
          },
          "execution_count": 8,
          "metadata": {},
          "output_type": "execute_result"
        }
      ],
      "source": [
        "# Calculate stochastic oscillator\n",
        "hah_df['STOCH'] = ta.momentum.StochasticOscillator(high = hah_df['High'], low = hah_df['Low'], close = hah_df['Close'], window = 14).stoch()\n",
        "\n",
        "# View one to see\n",
        "hah_df.head()"
      ]
    },
    {
      "cell_type": "code",
      "execution_count": 9,
      "metadata": {
        "colab": {
          "base_uri": "https://localhost:8080/",
          "height": 237
        },
        "id": "sbsq3wl4u-PX",
        "outputId": "d72bf3eb-3524-4faf-c1a9-87eb1219d245"
      },
      "outputs": [
        {
          "data": {
            "application/vnd.microsoft.datawrangler.viewer.v0+json": {
              "columns": [
                {
                  "name": "Date",
                  "rawType": "datetime64[ns]",
                  "type": "datetime"
                },
                {
                  "name": "High",
                  "rawType": "float64",
                  "type": "float"
                },
                {
                  "name": "Low",
                  "rawType": "float64",
                  "type": "float"
                },
                {
                  "name": "Open",
                  "rawType": "float64",
                  "type": "float"
                },
                {
                  "name": "Close",
                  "rawType": "float64",
                  "type": "float"
                },
                {
                  "name": "Volume",
                  "rawType": "int64",
                  "type": "integer"
                },
                {
                  "name": "SMA_200",
                  "rawType": "float64",
                  "type": "float"
                },
                {
                  "name": "RSI",
                  "rawType": "float64",
                  "type": "float"
                },
                {
                  "name": "STOCH",
                  "rawType": "float64",
                  "type": "float"
                }
              ],
              "conversionMethod": "pd.DataFrame",
              "ref": "a7a4610e-30e2-4a22-97b2-bdb1b2cc82a4",
              "rows": [
                [
                  "2020-01-22 00:00:00",
                  "11.6",
                  "11.35",
                  "11.35",
                  "11.5",
                  "65470",
                  "13.22575",
                  "45.06043706747654",
                  "50.0"
                ],
                [
                  "2020-01-30 00:00:00",
                  "11.45",
                  "11.1",
                  "11.35",
                  "11.3",
                  "124060",
                  "13.212749999999998",
                  "37.12381995375511",
                  "42.857142857143"
                ],
                [
                  "2020-01-31 00:00:00",
                  "11.25",
                  "10.55",
                  "11.25",
                  "10.9",
                  "113390",
                  "13.198",
                  "26.913746512708812",
                  "33.333333333333336"
                ],
                [
                  "2020-02-03 00:00:00",
                  "10.8",
                  "10.15",
                  "10.3",
                  "10.3",
                  "89900",
                  "13.18125",
                  "18.63477611110835",
                  "10.344827586206927"
                ],
                [
                  "2020-02-04 00:00:00",
                  "10.8",
                  "9.8",
                  "10.3",
                  "10.3",
                  "377140",
                  "13.165249999999999",
                  "18.63477611110835",
                  "27.777777777777793"
                ]
              ],
              "shape": {
                "columns": 8,
                "rows": 5
              }
            },
            "text/html": [
              "<div>\n",
              "<style scoped>\n",
              "    .dataframe tbody tr th:only-of-type {\n",
              "        vertical-align: middle;\n",
              "    }\n",
              "\n",
              "    .dataframe tbody tr th {\n",
              "        vertical-align: top;\n",
              "    }\n",
              "\n",
              "    .dataframe thead th {\n",
              "        text-align: right;\n",
              "    }\n",
              "</style>\n",
              "<table border=\"1\" class=\"dataframe\">\n",
              "  <thead>\n",
              "    <tr style=\"text-align: right;\">\n",
              "      <th></th>\n",
              "      <th>High</th>\n",
              "      <th>Low</th>\n",
              "      <th>Open</th>\n",
              "      <th>Close</th>\n",
              "      <th>Volume</th>\n",
              "      <th>SMA_200</th>\n",
              "      <th>RSI</th>\n",
              "      <th>STOCH</th>\n",
              "    </tr>\n",
              "    <tr>\n",
              "      <th>Date</th>\n",
              "      <th></th>\n",
              "      <th></th>\n",
              "      <th></th>\n",
              "      <th></th>\n",
              "      <th></th>\n",
              "      <th></th>\n",
              "      <th></th>\n",
              "      <th></th>\n",
              "    </tr>\n",
              "  </thead>\n",
              "  <tbody>\n",
              "    <tr>\n",
              "      <th>2020-01-22</th>\n",
              "      <td>11.60</td>\n",
              "      <td>11.35</td>\n",
              "      <td>11.35</td>\n",
              "      <td>11.5</td>\n",
              "      <td>65470</td>\n",
              "      <td>13.22575</td>\n",
              "      <td>45.060437</td>\n",
              "      <td>50.000000</td>\n",
              "    </tr>\n",
              "    <tr>\n",
              "      <th>2020-01-30</th>\n",
              "      <td>11.45</td>\n",
              "      <td>11.10</td>\n",
              "      <td>11.35</td>\n",
              "      <td>11.3</td>\n",
              "      <td>124060</td>\n",
              "      <td>13.21275</td>\n",
              "      <td>37.123820</td>\n",
              "      <td>42.857143</td>\n",
              "    </tr>\n",
              "    <tr>\n",
              "      <th>2020-01-31</th>\n",
              "      <td>11.25</td>\n",
              "      <td>10.55</td>\n",
              "      <td>11.25</td>\n",
              "      <td>10.9</td>\n",
              "      <td>113390</td>\n",
              "      <td>13.19800</td>\n",
              "      <td>26.913747</td>\n",
              "      <td>33.333333</td>\n",
              "    </tr>\n",
              "    <tr>\n",
              "      <th>2020-02-03</th>\n",
              "      <td>10.80</td>\n",
              "      <td>10.15</td>\n",
              "      <td>10.30</td>\n",
              "      <td>10.3</td>\n",
              "      <td>89900</td>\n",
              "      <td>13.18125</td>\n",
              "      <td>18.634776</td>\n",
              "      <td>10.344828</td>\n",
              "    </tr>\n",
              "    <tr>\n",
              "      <th>2020-02-04</th>\n",
              "      <td>10.80</td>\n",
              "      <td>9.80</td>\n",
              "      <td>10.30</td>\n",
              "      <td>10.3</td>\n",
              "      <td>377140</td>\n",
              "      <td>13.16525</td>\n",
              "      <td>18.634776</td>\n",
              "      <td>27.777778</td>\n",
              "    </tr>\n",
              "  </tbody>\n",
              "</table>\n",
              "</div>"
            ],
            "text/plain": [
              "             High    Low   Open  Close  Volume   SMA_200        RSI      STOCH\n",
              "Date                                                                          \n",
              "2020-01-22  11.60  11.35  11.35   11.5   65470  13.22575  45.060437  50.000000\n",
              "2020-01-30  11.45  11.10  11.35   11.3  124060  13.21275  37.123820  42.857143\n",
              "2020-01-31  11.25  10.55  11.25   10.9  113390  13.19800  26.913747  33.333333\n",
              "2020-02-03  10.80  10.15  10.30   10.3   89900  13.18125  18.634776  10.344828\n",
              "2020-02-04  10.80   9.80  10.30   10.3  377140  13.16525  18.634776  27.777778"
            ]
          },
          "execution_count": 9,
          "metadata": {},
          "output_type": "execute_result"
        }
      ],
      "source": [
        "# Drop all null columns\n",
        "hah_df.dropna(inplace = True)\n",
        "\n",
        "# Filter to get only from 2020-01-22 to 2025-01-14\n",
        "hah_df = hah_df[(hah_df['Date'] >= '2020-01-22') & (hah_df['Date'] <= '2025-01-14')]\n",
        "\n",
        "# And set date to be index\n",
        "hah_df.set_index('Date', inplace = True)\n",
        "\n",
        "# View one to check\n",
        "hah_df.head()"
      ]
    },
    {
      "cell_type": "markdown",
      "metadata": {
        "id": "m-Tr_KEov5g3"
      },
      "source": [
        "# **Add more data**"
      ]
    },
    {
      "cell_type": "code",
      "execution_count": 10,
      "metadata": {
        "colab": {
          "base_uri": "https://localhost:8080/",
          "height": 676
        },
        "id": "PNtRGtVIvuzw",
        "outputId": "37899fa3-fee2-4197-bdb4-8056716aa043"
      },
      "outputs": [
        {
          "data": {
            "application/vnd.microsoft.datawrangler.viewer.v0+json": {
              "columns": [
                {
                  "name": "index",
                  "rawType": "int64",
                  "type": "integer"
                },
                {
                  "name": "Quarter",
                  "rawType": "object",
                  "type": "string"
                },
                {
                  "name": "%Growth",
                  "rawType": "float64",
                  "type": "float"
                }
              ],
              "conversionMethod": "pd.DataFrame",
              "ref": "ecc0ae2b-cbc5-42b7-80b5-0c8162fa68ea",
              "rows": [
                [
                  "0",
                  "Q1 2020",
                  "3.21"
                ],
                [
                  "1",
                  "Q2 2020",
                  "0.39"
                ],
                [
                  "2",
                  "Q3 2020",
                  "2.69"
                ],
                [
                  "3",
                  "Q4 2020",
                  "4.48"
                ],
                [
                  "4",
                  "Q1 2021",
                  "4.72"
                ],
                [
                  "5",
                  "Q2 2021",
                  "6.73"
                ],
                [
                  "6",
                  "Q3 2021",
                  "-6.02"
                ],
                [
                  "7",
                  "Q4 2021",
                  "5.22"
                ],
                [
                  "8",
                  "Q1 2022",
                  "5.05"
                ],
                [
                  "9",
                  "Q2 2022",
                  "7.99"
                ],
                [
                  "10",
                  "Q3 2022",
                  "13.71"
                ],
                [
                  "11",
                  "Q4 2022",
                  "5.92"
                ],
                [
                  "12",
                  "Q1 2023",
                  "3.41"
                ],
                [
                  "13",
                  "Q2 2023",
                  "4.25"
                ],
                [
                  "14",
                  "Q3 2023",
                  "5.47"
                ],
                [
                  "15",
                  "Q4 2023",
                  "6.72"
                ],
                [
                  "16",
                  "Q1 2024",
                  "5.98"
                ],
                [
                  "17",
                  "Q2 2024",
                  "7.25"
                ],
                [
                  "18",
                  "Q3 2024",
                  "7.43"
                ],
                [
                  "19",
                  "Q4 2024",
                  "7.55"
                ]
              ],
              "shape": {
                "columns": 2,
                "rows": 20
              }
            },
            "text/html": [
              "<div>\n",
              "<style scoped>\n",
              "    .dataframe tbody tr th:only-of-type {\n",
              "        vertical-align: middle;\n",
              "    }\n",
              "\n",
              "    .dataframe tbody tr th {\n",
              "        vertical-align: top;\n",
              "    }\n",
              "\n",
              "    .dataframe thead th {\n",
              "        text-align: right;\n",
              "    }\n",
              "</style>\n",
              "<table border=\"1\" class=\"dataframe\">\n",
              "  <thead>\n",
              "    <tr style=\"text-align: right;\">\n",
              "      <th></th>\n",
              "      <th>Quarter</th>\n",
              "      <th>%Growth</th>\n",
              "    </tr>\n",
              "  </thead>\n",
              "  <tbody>\n",
              "    <tr>\n",
              "      <th>0</th>\n",
              "      <td>Q1 2020</td>\n",
              "      <td>3.21</td>\n",
              "    </tr>\n",
              "    <tr>\n",
              "      <th>1</th>\n",
              "      <td>Q2 2020</td>\n",
              "      <td>0.39</td>\n",
              "    </tr>\n",
              "    <tr>\n",
              "      <th>2</th>\n",
              "      <td>Q3 2020</td>\n",
              "      <td>2.69</td>\n",
              "    </tr>\n",
              "    <tr>\n",
              "      <th>3</th>\n",
              "      <td>Q4 2020</td>\n",
              "      <td>4.48</td>\n",
              "    </tr>\n",
              "    <tr>\n",
              "      <th>4</th>\n",
              "      <td>Q1 2021</td>\n",
              "      <td>4.72</td>\n",
              "    </tr>\n",
              "    <tr>\n",
              "      <th>5</th>\n",
              "      <td>Q2 2021</td>\n",
              "      <td>6.73</td>\n",
              "    </tr>\n",
              "    <tr>\n",
              "      <th>6</th>\n",
              "      <td>Q3 2021</td>\n",
              "      <td>-6.02</td>\n",
              "    </tr>\n",
              "    <tr>\n",
              "      <th>7</th>\n",
              "      <td>Q4 2021</td>\n",
              "      <td>5.22</td>\n",
              "    </tr>\n",
              "    <tr>\n",
              "      <th>8</th>\n",
              "      <td>Q1 2022</td>\n",
              "      <td>5.05</td>\n",
              "    </tr>\n",
              "    <tr>\n",
              "      <th>9</th>\n",
              "      <td>Q2 2022</td>\n",
              "      <td>7.99</td>\n",
              "    </tr>\n",
              "    <tr>\n",
              "      <th>10</th>\n",
              "      <td>Q3 2022</td>\n",
              "      <td>13.71</td>\n",
              "    </tr>\n",
              "    <tr>\n",
              "      <th>11</th>\n",
              "      <td>Q4 2022</td>\n",
              "      <td>5.92</td>\n",
              "    </tr>\n",
              "    <tr>\n",
              "      <th>12</th>\n",
              "      <td>Q1 2023</td>\n",
              "      <td>3.41</td>\n",
              "    </tr>\n",
              "    <tr>\n",
              "      <th>13</th>\n",
              "      <td>Q2 2023</td>\n",
              "      <td>4.25</td>\n",
              "    </tr>\n",
              "    <tr>\n",
              "      <th>14</th>\n",
              "      <td>Q3 2023</td>\n",
              "      <td>5.47</td>\n",
              "    </tr>\n",
              "    <tr>\n",
              "      <th>15</th>\n",
              "      <td>Q4 2023</td>\n",
              "      <td>6.72</td>\n",
              "    </tr>\n",
              "    <tr>\n",
              "      <th>16</th>\n",
              "      <td>Q1 2024</td>\n",
              "      <td>5.98</td>\n",
              "    </tr>\n",
              "    <tr>\n",
              "      <th>17</th>\n",
              "      <td>Q2 2024</td>\n",
              "      <td>7.25</td>\n",
              "    </tr>\n",
              "    <tr>\n",
              "      <th>18</th>\n",
              "      <td>Q3 2024</td>\n",
              "      <td>7.43</td>\n",
              "    </tr>\n",
              "    <tr>\n",
              "      <th>19</th>\n",
              "      <td>Q4 2024</td>\n",
              "      <td>7.55</td>\n",
              "    </tr>\n",
              "  </tbody>\n",
              "</table>\n",
              "</div>"
            ],
            "text/plain": [
              "    Quarter  %Growth\n",
              "0   Q1 2020     3.21\n",
              "1   Q2 2020     0.39\n",
              "2   Q3 2020     2.69\n",
              "3   Q4 2020     4.48\n",
              "4   Q1 2021     4.72\n",
              "5   Q2 2021     6.73\n",
              "6   Q3 2021    -6.02\n",
              "7   Q4 2021     5.22\n",
              "8   Q1 2022     5.05\n",
              "9   Q2 2022     7.99\n",
              "10  Q3 2022    13.71\n",
              "11  Q4 2022     5.92\n",
              "12  Q1 2023     3.41\n",
              "13  Q2 2023     4.25\n",
              "14  Q3 2023     5.47\n",
              "15  Q4 2023     6.72\n",
              "16  Q1 2024     5.98\n",
              "17  Q2 2024     7.25\n",
              "18  Q3 2024     7.43\n",
              "19  Q4 2024     7.55"
            ]
          },
          "execution_count": 10,
          "metadata": {},
          "output_type": "execute_result"
        }
      ],
      "source": [
        "# Add GDP data in\n",
        "gdp = pd.read_csv('gdp.csv', parse_dates=[\"Quarter\"])\n",
        "gdp"
      ]
    },
    {
      "cell_type": "code",
      "execution_count": 11,
      "metadata": {
        "id": "5tZLGePbwBTV"
      },
      "outputs": [],
      "source": [
        "# Convert quarter of GDP dataset back to datetimelike\n",
        "gdp['Quarter'] = gdp['Quarter'].astype(str)\n",
        "gdp['Quarter'] = gdp['Quarter'].str.replace('Q1', '-01-01', regex=True)\\\n",
        "                                .str.replace('Q2', '-04-01', regex=True)\\\n",
        "                                .str.replace('Q3', '-07-01', regex=True)\\\n",
        "                                .str.replace('Q4', '-10-01', regex=True)"
      ]
    },
    {
      "cell_type": "code",
      "execution_count": 12,
      "metadata": {
        "colab": {
          "base_uri": "https://localhost:8080/",
          "height": 676
        },
        "id": "NeXkChYtw2L7",
        "outputId": "6490b783-34e4-4f5f-a126-6614fa45bd2b"
      },
      "outputs": [
        {
          "data": {
            "application/vnd.microsoft.datawrangler.viewer.v0+json": {
              "columns": [
                {
                  "name": "index",
                  "rawType": "int64",
                  "type": "integer"
                },
                {
                  "name": "Quarter",
                  "rawType": "datetime64[ns]",
                  "type": "datetime"
                },
                {
                  "name": "%Growth",
                  "rawType": "float64",
                  "type": "float"
                }
              ],
              "conversionMethod": "pd.DataFrame",
              "ref": "c7d4df54-e955-4140-a93c-60a0675c1f80",
              "rows": [
                [
                  "0",
                  "2020-01-01 00:00:00",
                  "3.21"
                ],
                [
                  "1",
                  "2020-04-01 00:00:00",
                  "0.39"
                ],
                [
                  "2",
                  "2020-07-01 00:00:00",
                  "2.69"
                ],
                [
                  "3",
                  "2020-10-01 00:00:00",
                  "4.48"
                ],
                [
                  "4",
                  "2021-01-01 00:00:00",
                  "4.72"
                ],
                [
                  "5",
                  "2021-04-01 00:00:00",
                  "6.73"
                ],
                [
                  "6",
                  "2021-07-01 00:00:00",
                  "-6.02"
                ],
                [
                  "7",
                  "2021-10-01 00:00:00",
                  "5.22"
                ],
                [
                  "8",
                  "2022-01-01 00:00:00",
                  "5.05"
                ],
                [
                  "9",
                  "2022-04-01 00:00:00",
                  "7.99"
                ],
                [
                  "10",
                  "2022-07-01 00:00:00",
                  "13.71"
                ],
                [
                  "11",
                  "2022-10-01 00:00:00",
                  "5.92"
                ],
                [
                  "12",
                  "2023-01-01 00:00:00",
                  "3.41"
                ],
                [
                  "13",
                  "2023-04-01 00:00:00",
                  "4.25"
                ],
                [
                  "14",
                  "2023-07-01 00:00:00",
                  "5.47"
                ],
                [
                  "15",
                  "2023-10-01 00:00:00",
                  "6.72"
                ],
                [
                  "16",
                  "2024-01-01 00:00:00",
                  "5.98"
                ],
                [
                  "17",
                  "2024-04-01 00:00:00",
                  "7.25"
                ],
                [
                  "18",
                  "2024-07-01 00:00:00",
                  "7.43"
                ],
                [
                  "19",
                  "2024-10-01 00:00:00",
                  "7.55"
                ]
              ],
              "shape": {
                "columns": 2,
                "rows": 20
              }
            },
            "text/html": [
              "<div>\n",
              "<style scoped>\n",
              "    .dataframe tbody tr th:only-of-type {\n",
              "        vertical-align: middle;\n",
              "    }\n",
              "\n",
              "    .dataframe tbody tr th {\n",
              "        vertical-align: top;\n",
              "    }\n",
              "\n",
              "    .dataframe thead th {\n",
              "        text-align: right;\n",
              "    }\n",
              "</style>\n",
              "<table border=\"1\" class=\"dataframe\">\n",
              "  <thead>\n",
              "    <tr style=\"text-align: right;\">\n",
              "      <th></th>\n",
              "      <th>Quarter</th>\n",
              "      <th>%Growth</th>\n",
              "    </tr>\n",
              "  </thead>\n",
              "  <tbody>\n",
              "    <tr>\n",
              "      <th>0</th>\n",
              "      <td>2020-01-01</td>\n",
              "      <td>3.21</td>\n",
              "    </tr>\n",
              "    <tr>\n",
              "      <th>1</th>\n",
              "      <td>2020-04-01</td>\n",
              "      <td>0.39</td>\n",
              "    </tr>\n",
              "    <tr>\n",
              "      <th>2</th>\n",
              "      <td>2020-07-01</td>\n",
              "      <td>2.69</td>\n",
              "    </tr>\n",
              "    <tr>\n",
              "      <th>3</th>\n",
              "      <td>2020-10-01</td>\n",
              "      <td>4.48</td>\n",
              "    </tr>\n",
              "    <tr>\n",
              "      <th>4</th>\n",
              "      <td>2021-01-01</td>\n",
              "      <td>4.72</td>\n",
              "    </tr>\n",
              "    <tr>\n",
              "      <th>5</th>\n",
              "      <td>2021-04-01</td>\n",
              "      <td>6.73</td>\n",
              "    </tr>\n",
              "    <tr>\n",
              "      <th>6</th>\n",
              "      <td>2021-07-01</td>\n",
              "      <td>-6.02</td>\n",
              "    </tr>\n",
              "    <tr>\n",
              "      <th>7</th>\n",
              "      <td>2021-10-01</td>\n",
              "      <td>5.22</td>\n",
              "    </tr>\n",
              "    <tr>\n",
              "      <th>8</th>\n",
              "      <td>2022-01-01</td>\n",
              "      <td>5.05</td>\n",
              "    </tr>\n",
              "    <tr>\n",
              "      <th>9</th>\n",
              "      <td>2022-04-01</td>\n",
              "      <td>7.99</td>\n",
              "    </tr>\n",
              "    <tr>\n",
              "      <th>10</th>\n",
              "      <td>2022-07-01</td>\n",
              "      <td>13.71</td>\n",
              "    </tr>\n",
              "    <tr>\n",
              "      <th>11</th>\n",
              "      <td>2022-10-01</td>\n",
              "      <td>5.92</td>\n",
              "    </tr>\n",
              "    <tr>\n",
              "      <th>12</th>\n",
              "      <td>2023-01-01</td>\n",
              "      <td>3.41</td>\n",
              "    </tr>\n",
              "    <tr>\n",
              "      <th>13</th>\n",
              "      <td>2023-04-01</td>\n",
              "      <td>4.25</td>\n",
              "    </tr>\n",
              "    <tr>\n",
              "      <th>14</th>\n",
              "      <td>2023-07-01</td>\n",
              "      <td>5.47</td>\n",
              "    </tr>\n",
              "    <tr>\n",
              "      <th>15</th>\n",
              "      <td>2023-10-01</td>\n",
              "      <td>6.72</td>\n",
              "    </tr>\n",
              "    <tr>\n",
              "      <th>16</th>\n",
              "      <td>2024-01-01</td>\n",
              "      <td>5.98</td>\n",
              "    </tr>\n",
              "    <tr>\n",
              "      <th>17</th>\n",
              "      <td>2024-04-01</td>\n",
              "      <td>7.25</td>\n",
              "    </tr>\n",
              "    <tr>\n",
              "      <th>18</th>\n",
              "      <td>2024-07-01</td>\n",
              "      <td>7.43</td>\n",
              "    </tr>\n",
              "    <tr>\n",
              "      <th>19</th>\n",
              "      <td>2024-10-01</td>\n",
              "      <td>7.55</td>\n",
              "    </tr>\n",
              "  </tbody>\n",
              "</table>\n",
              "</div>"
            ],
            "text/plain": [
              "      Quarter  %Growth\n",
              "0  2020-01-01     3.21\n",
              "1  2020-04-01     0.39\n",
              "2  2020-07-01     2.69\n",
              "3  2020-10-01     4.48\n",
              "4  2021-01-01     4.72\n",
              "5  2021-04-01     6.73\n",
              "6  2021-07-01    -6.02\n",
              "7  2021-10-01     5.22\n",
              "8  2022-01-01     5.05\n",
              "9  2022-04-01     7.99\n",
              "10 2022-07-01    13.71\n",
              "11 2022-10-01     5.92\n",
              "12 2023-01-01     3.41\n",
              "13 2023-04-01     4.25\n",
              "14 2023-07-01     5.47\n",
              "15 2023-10-01     6.72\n",
              "16 2024-01-01     5.98\n",
              "17 2024-04-01     7.25\n",
              "18 2024-07-01     7.43\n",
              "19 2024-10-01     7.55"
            ]
          },
          "execution_count": 12,
          "metadata": {},
          "output_type": "execute_result"
        }
      ],
      "source": [
        "gdp['Quarter'] = pd.to_datetime(gdp['Quarter'], errors='coerce')\n",
        "gdp"
      ]
    },
    {
      "cell_type": "code",
      "execution_count": 13,
      "metadata": {
        "colab": {
          "base_uri": "https://localhost:8080/",
          "height": 423
        },
        "id": "KCGxkZACxFZ2",
        "outputId": "2f0dfdda-e5f0-4d81-f350-51f446f15d8f"
      },
      "outputs": [
        {
          "data": {
            "application/vnd.microsoft.datawrangler.viewer.v0+json": {
              "columns": [
                {
                  "name": "index",
                  "rawType": "int64",
                  "type": "integer"
                },
                {
                  "name": "Date",
                  "rawType": "datetime64[ns]",
                  "type": "datetime"
                },
                {
                  "name": "Quarter",
                  "rawType": "datetime64[ns]",
                  "type": "datetime"
                },
                {
                  "name": "%Growth",
                  "rawType": "float64",
                  "type": "float"
                },
                {
                  "name": "Daily growth",
                  "rawType": "float64",
                  "type": "float"
                },
                {
                  "name": "GDP_Index",
                  "rawType": "float64",
                  "type": "float"
                }
              ],
              "conversionMethod": "pd.DataFrame",
              "ref": "78d78db2-38f9-42ef-8e2d-df88901479d2",
              "rows": [
                [
                  "0",
                  "2020-01-22 00:00:00",
                  null,
                  "0.0039000000000000003",
                  "4.324905239270948e-05",
                  "100.00432499876464"
                ],
                [
                  "1",
                  "2020-01-23 00:00:00",
                  null,
                  "0.0039000000000000003",
                  "4.324905239270948e-05",
                  "100.00865018458545"
                ],
                [
                  "2",
                  "2020-01-24 00:00:00",
                  null,
                  "0.0039000000000000003",
                  "4.324905239270948e-05",
                  "100.01297555747047"
                ],
                [
                  "3",
                  "2020-01-25 00:00:00",
                  null,
                  "0.0039000000000000003",
                  "4.324905239270948e-05",
                  "100.01730111742779"
                ],
                [
                  "4",
                  "2020-01-26 00:00:00",
                  null,
                  "0.0039000000000000003",
                  "4.324905239270948e-05",
                  "100.02162686446556"
                ],
                [
                  "5",
                  "2020-01-27 00:00:00",
                  null,
                  "0.0039000000000000003",
                  "4.324905239270948e-05",
                  "100.02595279859183"
                ],
                [
                  "6",
                  "2020-01-28 00:00:00",
                  null,
                  "0.0039000000000000003",
                  "4.324905239270948e-05",
                  "100.03027891981469"
                ],
                [
                  "7",
                  "2020-01-29 00:00:00",
                  null,
                  "0.0039000000000000003",
                  "4.324905239270948e-05",
                  "100.03460522814225"
                ],
                [
                  "8",
                  "2020-01-30 00:00:00",
                  null,
                  "0.0039000000000000003",
                  "4.324905239270948e-05",
                  "100.03893172358258"
                ],
                [
                  "9",
                  "2020-01-31 00:00:00",
                  null,
                  "0.0039000000000000003",
                  "4.324905239270948e-05",
                  "100.04325840614379"
                ],
                [
                  "10",
                  "2020-02-01 00:00:00",
                  null,
                  "0.0039000000000000003",
                  "4.324905239270948e-05",
                  "100.04758527583397"
                ],
                [
                  "11",
                  "2020-02-02 00:00:00",
                  null,
                  "0.0039000000000000003",
                  "4.324905239270948e-05",
                  "100.05191233266122"
                ],
                [
                  "12",
                  "2020-02-03 00:00:00",
                  null,
                  "0.0039000000000000003",
                  "4.324905239270948e-05",
                  "100.05623957663362"
                ],
                [
                  "13",
                  "2020-02-04 00:00:00",
                  null,
                  "0.0039000000000000003",
                  "4.324905239270948e-05",
                  "100.06056700775925"
                ],
                [
                  "14",
                  "2020-02-05 00:00:00",
                  null,
                  "0.0039000000000000003",
                  "4.324905239270948e-05",
                  "100.06489462604623"
                ],
                [
                  "15",
                  "2020-02-06 00:00:00",
                  null,
                  "0.0039000000000000003",
                  "4.324905239270948e-05",
                  "100.06922243150265"
                ],
                [
                  "16",
                  "2020-02-07 00:00:00",
                  null,
                  "0.0039000000000000003",
                  "4.324905239270948e-05",
                  "100.0735504241366"
                ],
                [
                  "17",
                  "2020-02-08 00:00:00",
                  null,
                  "0.0039000000000000003",
                  "4.324905239270948e-05",
                  "100.07787860395618"
                ],
                [
                  "18",
                  "2020-02-09 00:00:00",
                  null,
                  "0.0039000000000000003",
                  "4.324905239270948e-05",
                  "100.08220697096948"
                ],
                [
                  "19",
                  "2020-02-10 00:00:00",
                  null,
                  "0.0039000000000000003",
                  "4.324905239270948e-05",
                  "100.0865355251846"
                ],
                [
                  "20",
                  "2020-02-11 00:00:00",
                  null,
                  "0.0039000000000000003",
                  "4.324905239270948e-05",
                  "100.09086426660964"
                ],
                [
                  "21",
                  "2020-02-12 00:00:00",
                  null,
                  "0.0039000000000000003",
                  "4.324905239270948e-05",
                  "100.0951931952527"
                ],
                [
                  "22",
                  "2020-02-13 00:00:00",
                  null,
                  "0.0039000000000000003",
                  "4.324905239270948e-05",
                  "100.09952231112187"
                ],
                [
                  "23",
                  "2020-02-14 00:00:00",
                  null,
                  "0.0039000000000000003",
                  "4.324905239270948e-05",
                  "100.10385161422523"
                ],
                [
                  "24",
                  "2020-02-15 00:00:00",
                  null,
                  "0.0039000000000000003",
                  "4.324905239270948e-05",
                  "100.10818110457092"
                ],
                [
                  "25",
                  "2020-02-16 00:00:00",
                  null,
                  "0.0039000000000000003",
                  "4.324905239270948e-05",
                  "100.112510782167"
                ],
                [
                  "26",
                  "2020-02-17 00:00:00",
                  null,
                  "0.0039000000000000003",
                  "4.324905239270948e-05",
                  "100.1168406470216"
                ],
                [
                  "27",
                  "2020-02-18 00:00:00",
                  null,
                  "0.0039000000000000003",
                  "4.324905239270948e-05",
                  "100.12117069914277"
                ],
                [
                  "28",
                  "2020-02-19 00:00:00",
                  null,
                  "0.0039000000000000003",
                  "4.324905239270948e-05",
                  "100.12550093853866"
                ],
                [
                  "29",
                  "2020-02-20 00:00:00",
                  null,
                  "0.0039000000000000003",
                  "4.324905239270948e-05",
                  "100.12983136521736"
                ],
                [
                  "30",
                  "2020-02-21 00:00:00",
                  null,
                  "0.0039000000000000003",
                  "4.324905239270948e-05",
                  "100.13416197918694"
                ],
                [
                  "31",
                  "2020-02-22 00:00:00",
                  null,
                  "0.0039000000000000003",
                  "4.324905239270948e-05",
                  "100.13849278045552"
                ],
                [
                  "32",
                  "2020-02-23 00:00:00",
                  null,
                  "0.0039000000000000003",
                  "4.324905239270948e-05",
                  "100.14282376903121"
                ],
                [
                  "33",
                  "2020-02-24 00:00:00",
                  null,
                  "0.0039000000000000003",
                  "4.324905239270948e-05",
                  "100.14715494492211"
                ],
                [
                  "34",
                  "2020-02-25 00:00:00",
                  null,
                  "0.0039000000000000003",
                  "4.324905239270948e-05",
                  "100.1514863081363"
                ],
                [
                  "35",
                  "2020-02-26 00:00:00",
                  null,
                  "0.0039000000000000003",
                  "4.324905239270948e-05",
                  "100.1558178586819"
                ],
                [
                  "36",
                  "2020-02-27 00:00:00",
                  null,
                  "0.0039000000000000003",
                  "4.324905239270948e-05",
                  "100.16014959656701"
                ],
                [
                  "37",
                  "2020-02-28 00:00:00",
                  null,
                  "0.0039000000000000003",
                  "4.324905239270948e-05",
                  "100.16448152179973"
                ],
                [
                  "38",
                  "2020-02-29 00:00:00",
                  null,
                  "0.0039000000000000003",
                  "4.324905239270948e-05",
                  "100.16881363438816"
                ],
                [
                  "39",
                  "2020-03-01 00:00:00",
                  null,
                  "0.0039000000000000003",
                  "4.324905239270948e-05",
                  "100.17314593434041"
                ],
                [
                  "40",
                  "2020-03-02 00:00:00",
                  null,
                  "0.0039000000000000003",
                  "4.324905239270948e-05",
                  "100.17747842166457"
                ],
                [
                  "41",
                  "2020-03-03 00:00:00",
                  null,
                  "0.0039000000000000003",
                  "4.324905239270948e-05",
                  "100.18181109636876"
                ],
                [
                  "42",
                  "2020-03-04 00:00:00",
                  null,
                  "0.0039000000000000003",
                  "4.324905239270948e-05",
                  "100.18614395846109"
                ],
                [
                  "43",
                  "2020-03-05 00:00:00",
                  null,
                  "0.0039000000000000003",
                  "4.324905239270948e-05",
                  "100.19047700794962"
                ],
                [
                  "44",
                  "2020-03-06 00:00:00",
                  null,
                  "0.0039000000000000003",
                  "4.324905239270948e-05",
                  "100.19481024484251"
                ],
                [
                  "45",
                  "2020-03-07 00:00:00",
                  null,
                  "0.0039000000000000003",
                  "4.324905239270948e-05",
                  "100.19914366914786"
                ],
                [
                  "46",
                  "2020-03-08 00:00:00",
                  null,
                  "0.0039000000000000003",
                  "4.324905239270948e-05",
                  "100.20347728087373"
                ],
                [
                  "47",
                  "2020-03-09 00:00:00",
                  null,
                  "0.0039000000000000003",
                  "4.324905239270948e-05",
                  "100.20781108002825"
                ],
                [
                  "48",
                  "2020-03-10 00:00:00",
                  null,
                  "0.0039000000000000003",
                  "4.324905239270948e-05",
                  "100.21214506661956"
                ],
                [
                  "49",
                  "2020-03-11 00:00:00",
                  null,
                  "0.0039000000000000003",
                  "4.324905239270948e-05",
                  "100.21647924065572"
                ]
              ],
              "shape": {
                "columns": 5,
                "rows": 1820
              }
            },
            "text/html": [
              "<div>\n",
              "<style scoped>\n",
              "    .dataframe tbody tr th:only-of-type {\n",
              "        vertical-align: middle;\n",
              "    }\n",
              "\n",
              "    .dataframe tbody tr th {\n",
              "        vertical-align: top;\n",
              "    }\n",
              "\n",
              "    .dataframe thead th {\n",
              "        text-align: right;\n",
              "    }\n",
              "</style>\n",
              "<table border=\"1\" class=\"dataframe\">\n",
              "  <thead>\n",
              "    <tr style=\"text-align: right;\">\n",
              "      <th></th>\n",
              "      <th>Date</th>\n",
              "      <th>Quarter</th>\n",
              "      <th>%Growth</th>\n",
              "      <th>Daily growth</th>\n",
              "      <th>GDP_Index</th>\n",
              "    </tr>\n",
              "  </thead>\n",
              "  <tbody>\n",
              "    <tr>\n",
              "      <th>0</th>\n",
              "      <td>2020-01-22</td>\n",
              "      <td>NaT</td>\n",
              "      <td>0.0039</td>\n",
              "      <td>0.000043</td>\n",
              "      <td>100.004325</td>\n",
              "    </tr>\n",
              "    <tr>\n",
              "      <th>1</th>\n",
              "      <td>2020-01-23</td>\n",
              "      <td>NaT</td>\n",
              "      <td>0.0039</td>\n",
              "      <td>0.000043</td>\n",
              "      <td>100.008650</td>\n",
              "    </tr>\n",
              "    <tr>\n",
              "      <th>2</th>\n",
              "      <td>2020-01-24</td>\n",
              "      <td>NaT</td>\n",
              "      <td>0.0039</td>\n",
              "      <td>0.000043</td>\n",
              "      <td>100.012976</td>\n",
              "    </tr>\n",
              "    <tr>\n",
              "      <th>3</th>\n",
              "      <td>2020-01-25</td>\n",
              "      <td>NaT</td>\n",
              "      <td>0.0039</td>\n",
              "      <td>0.000043</td>\n",
              "      <td>100.017301</td>\n",
              "    </tr>\n",
              "    <tr>\n",
              "      <th>4</th>\n",
              "      <td>2020-01-26</td>\n",
              "      <td>NaT</td>\n",
              "      <td>0.0039</td>\n",
              "      <td>0.000043</td>\n",
              "      <td>100.021627</td>\n",
              "    </tr>\n",
              "    <tr>\n",
              "      <th>...</th>\n",
              "      <td>...</td>\n",
              "      <td>...</td>\n",
              "      <td>...</td>\n",
              "      <td>...</td>\n",
              "      <td>...</td>\n",
              "    </tr>\n",
              "    <tr>\n",
              "      <th>1815</th>\n",
              "      <td>2025-01-10</td>\n",
              "      <td>NaT</td>\n",
              "      <td>0.0755</td>\n",
              "      <td>0.000809</td>\n",
              "      <td>284.930202</td>\n",
              "    </tr>\n",
              "    <tr>\n",
              "      <th>1816</th>\n",
              "      <td>2025-01-11</td>\n",
              "      <td>NaT</td>\n",
              "      <td>0.0755</td>\n",
              "      <td>0.000809</td>\n",
              "      <td>285.160727</td>\n",
              "    </tr>\n",
              "    <tr>\n",
              "      <th>1817</th>\n",
              "      <td>2025-01-12</td>\n",
              "      <td>NaT</td>\n",
              "      <td>0.0755</td>\n",
              "      <td>0.000809</td>\n",
              "      <td>285.391438</td>\n",
              "    </tr>\n",
              "    <tr>\n",
              "      <th>1818</th>\n",
              "      <td>2025-01-13</td>\n",
              "      <td>NaT</td>\n",
              "      <td>0.0755</td>\n",
              "      <td>0.000809</td>\n",
              "      <td>285.622336</td>\n",
              "    </tr>\n",
              "    <tr>\n",
              "      <th>1819</th>\n",
              "      <td>2025-01-14</td>\n",
              "      <td>NaT</td>\n",
              "      <td>0.0755</td>\n",
              "      <td>0.000809</td>\n",
              "      <td>285.853421</td>\n",
              "    </tr>\n",
              "  </tbody>\n",
              "</table>\n",
              "<p>1820 rows × 5 columns</p>\n",
              "</div>"
            ],
            "text/plain": [
              "           Date Quarter  %Growth  Daily growth   GDP_Index\n",
              "0    2020-01-22     NaT   0.0039      0.000043  100.004325\n",
              "1    2020-01-23     NaT   0.0039      0.000043  100.008650\n",
              "2    2020-01-24     NaT   0.0039      0.000043  100.012976\n",
              "3    2020-01-25     NaT   0.0039      0.000043  100.017301\n",
              "4    2020-01-26     NaT   0.0039      0.000043  100.021627\n",
              "...         ...     ...      ...           ...         ...\n",
              "1815 2025-01-10     NaT   0.0755      0.000809  284.930202\n",
              "1816 2025-01-11     NaT   0.0755      0.000809  285.160727\n",
              "1817 2025-01-12     NaT   0.0755      0.000809  285.391438\n",
              "1818 2025-01-13     NaT   0.0755      0.000809  285.622336\n",
              "1819 2025-01-14     NaT   0.0755      0.000809  285.853421\n",
              "\n",
              "[1820 rows x 5 columns]"
            ]
          },
          "execution_count": 13,
          "metadata": {},
          "output_type": "execute_result"
        }
      ],
      "source": [
        "# Convert quarterly % growth to decimal\n",
        "gdp['%Growth'] = gdp['%Growth'] / 100\n",
        "\n",
        "# Create a full daily date range\n",
        "daily_dates = pd.date_range(start = hah_df.index.min(), end = hah_df.index.max(), freq = 'D')\n",
        "gdp_daily = pd.DataFrame({'Date': daily_dates})\n",
        "\n",
        "# Merge and forward-fill quarterly growth rates\n",
        "gdp_daily = gdp_daily.merge(gdp, left_on = 'Date', right_on = 'Quarter', how = 'left')\n",
        "gdp_daily['%Growth'] = gdp_daily['%Growth'].bfill().ffill()\n",
        "\n",
        "# Calculate daily growth rate assuming continuous compounding\n",
        "gdp_daily['Daily growth'] = np.log(1 + gdp_daily['%Growth']) / 90\n",
        "\n",
        "# Apply cumulative growth from a base value\n",
        "gdp_daily['GDP_Index'] = 100 * np.exp(gdp_daily['Daily growth'].cumsum())\n",
        "\n",
        "gdp_daily"
      ]
    },
    {
      "cell_type": "code",
      "execution_count": 14,
      "metadata": {
        "colab": {
          "base_uri": "https://localhost:8080/",
          "height": 237
        },
        "id": "8HFu2nts1JJ9",
        "outputId": "69775b68-a3de-4d0c-fc09-2f929b4c1ad9"
      },
      "outputs": [
        {
          "data": {
            "application/vnd.microsoft.datawrangler.viewer.v0+json": {
              "columns": [
                {
                  "name": "Date",
                  "rawType": "datetime64[ns]",
                  "type": "datetime"
                },
                {
                  "name": "High",
                  "rawType": "float64",
                  "type": "float"
                },
                {
                  "name": "Low",
                  "rawType": "float64",
                  "type": "float"
                },
                {
                  "name": "Open",
                  "rawType": "float64",
                  "type": "float"
                },
                {
                  "name": "Close",
                  "rawType": "float64",
                  "type": "float"
                },
                {
                  "name": "Volume",
                  "rawType": "int64",
                  "type": "integer"
                },
                {
                  "name": "SMA_200",
                  "rawType": "float64",
                  "type": "float"
                },
                {
                  "name": "RSI",
                  "rawType": "float64",
                  "type": "float"
                },
                {
                  "name": "STOCH",
                  "rawType": "float64",
                  "type": "float"
                },
                {
                  "name": "GDP_Index",
                  "rawType": "float64",
                  "type": "float"
                }
              ],
              "conversionMethod": "pd.DataFrame",
              "ref": "9f950028-2951-4af0-b714-f732f4f48654",
              "rows": [
                [
                  "2020-01-22 00:00:00",
                  "11.6",
                  "11.35",
                  "11.35",
                  "11.5",
                  "65470",
                  "13.22575",
                  "45.06043706747654",
                  "50.0",
                  "100.00432499876464"
                ],
                [
                  "2020-01-30 00:00:00",
                  "11.45",
                  "11.1",
                  "11.35",
                  "11.3",
                  "124060",
                  "13.212749999999998",
                  "37.12381995375511",
                  "42.857142857143",
                  "100.03893172358258"
                ],
                [
                  "2020-01-31 00:00:00",
                  "11.25",
                  "10.55",
                  "11.25",
                  "10.9",
                  "113390",
                  "13.198",
                  "26.913746512708812",
                  "33.333333333333336",
                  "100.04325840614379"
                ],
                [
                  "2020-02-03 00:00:00",
                  "10.8",
                  "10.15",
                  "10.3",
                  "10.3",
                  "89900",
                  "13.18125",
                  "18.63477611110835",
                  "10.344827586206927",
                  "100.05623957663362"
                ],
                [
                  "2020-02-04 00:00:00",
                  "10.8",
                  "9.8",
                  "10.3",
                  "10.3",
                  "377140",
                  "13.165249999999999",
                  "18.63477611110835",
                  "27.777777777777793",
                  "100.06056700775925"
                ]
              ],
              "shape": {
                "columns": 9,
                "rows": 5
              }
            },
            "text/html": [
              "<div>\n",
              "<style scoped>\n",
              "    .dataframe tbody tr th:only-of-type {\n",
              "        vertical-align: middle;\n",
              "    }\n",
              "\n",
              "    .dataframe tbody tr th {\n",
              "        vertical-align: top;\n",
              "    }\n",
              "\n",
              "    .dataframe thead th {\n",
              "        text-align: right;\n",
              "    }\n",
              "</style>\n",
              "<table border=\"1\" class=\"dataframe\">\n",
              "  <thead>\n",
              "    <tr style=\"text-align: right;\">\n",
              "      <th></th>\n",
              "      <th>High</th>\n",
              "      <th>Low</th>\n",
              "      <th>Open</th>\n",
              "      <th>Close</th>\n",
              "      <th>Volume</th>\n",
              "      <th>SMA_200</th>\n",
              "      <th>RSI</th>\n",
              "      <th>STOCH</th>\n",
              "      <th>GDP_Index</th>\n",
              "    </tr>\n",
              "    <tr>\n",
              "      <th>Date</th>\n",
              "      <th></th>\n",
              "      <th></th>\n",
              "      <th></th>\n",
              "      <th></th>\n",
              "      <th></th>\n",
              "      <th></th>\n",
              "      <th></th>\n",
              "      <th></th>\n",
              "      <th></th>\n",
              "    </tr>\n",
              "  </thead>\n",
              "  <tbody>\n",
              "    <tr>\n",
              "      <th>2020-01-22</th>\n",
              "      <td>11.60</td>\n",
              "      <td>11.35</td>\n",
              "      <td>11.35</td>\n",
              "      <td>11.5</td>\n",
              "      <td>65470</td>\n",
              "      <td>13.22575</td>\n",
              "      <td>45.060437</td>\n",
              "      <td>50.000000</td>\n",
              "      <td>100.004325</td>\n",
              "    </tr>\n",
              "    <tr>\n",
              "      <th>2020-01-30</th>\n",
              "      <td>11.45</td>\n",
              "      <td>11.10</td>\n",
              "      <td>11.35</td>\n",
              "      <td>11.3</td>\n",
              "      <td>124060</td>\n",
              "      <td>13.21275</td>\n",
              "      <td>37.123820</td>\n",
              "      <td>42.857143</td>\n",
              "      <td>100.038932</td>\n",
              "    </tr>\n",
              "    <tr>\n",
              "      <th>2020-01-31</th>\n",
              "      <td>11.25</td>\n",
              "      <td>10.55</td>\n",
              "      <td>11.25</td>\n",
              "      <td>10.9</td>\n",
              "      <td>113390</td>\n",
              "      <td>13.19800</td>\n",
              "      <td>26.913747</td>\n",
              "      <td>33.333333</td>\n",
              "      <td>100.043258</td>\n",
              "    </tr>\n",
              "    <tr>\n",
              "      <th>2020-02-03</th>\n",
              "      <td>10.80</td>\n",
              "      <td>10.15</td>\n",
              "      <td>10.30</td>\n",
              "      <td>10.3</td>\n",
              "      <td>89900</td>\n",
              "      <td>13.18125</td>\n",
              "      <td>18.634776</td>\n",
              "      <td>10.344828</td>\n",
              "      <td>100.056240</td>\n",
              "    </tr>\n",
              "    <tr>\n",
              "      <th>2020-02-04</th>\n",
              "      <td>10.80</td>\n",
              "      <td>9.80</td>\n",
              "      <td>10.30</td>\n",
              "      <td>10.3</td>\n",
              "      <td>377140</td>\n",
              "      <td>13.16525</td>\n",
              "      <td>18.634776</td>\n",
              "      <td>27.777778</td>\n",
              "      <td>100.060567</td>\n",
              "    </tr>\n",
              "  </tbody>\n",
              "</table>\n",
              "</div>"
            ],
            "text/plain": [
              "             High    Low   Open  Close  Volume   SMA_200        RSI  \\\n",
              "Date                                                                  \n",
              "2020-01-22  11.60  11.35  11.35   11.5   65470  13.22575  45.060437   \n",
              "2020-01-30  11.45  11.10  11.35   11.3  124060  13.21275  37.123820   \n",
              "2020-01-31  11.25  10.55  11.25   10.9  113390  13.19800  26.913747   \n",
              "2020-02-03  10.80  10.15  10.30   10.3   89900  13.18125  18.634776   \n",
              "2020-02-04  10.80   9.80  10.30   10.3  377140  13.16525  18.634776   \n",
              "\n",
              "                STOCH   GDP_Index  \n",
              "Date                               \n",
              "2020-01-22  50.000000  100.004325  \n",
              "2020-01-30  42.857143  100.038932  \n",
              "2020-01-31  33.333333  100.043258  \n",
              "2020-02-03  10.344828  100.056240  \n",
              "2020-02-04  27.777778  100.060567  "
            ]
          },
          "execution_count": 14,
          "metadata": {},
          "output_type": "execute_result"
        }
      ],
      "source": [
        "# We use GDP index\n",
        "gdp_daily = gdp_daily[['Date', 'GDP_Index']]\n",
        "gdp_daily.set_index('Date', inplace = True)\n",
        "\n",
        "# Merge this with 6 datasets\n",
        "hah_df = hah_df.merge(gdp_daily, left_index = True, right_index = True)\n",
        "\n",
        "# View one to check\n",
        "hah_df.head()"
      ]
    },
    {
      "cell_type": "markdown",
      "metadata": {
        "id": "0qTGiKmh6P15"
      },
      "source": [
        "## **Interest rates**"
      ]
    },
    {
      "cell_type": "code",
      "execution_count": 15,
      "metadata": {
        "colab": {
          "base_uri": "https://localhost:8080/",
          "height": 206
        },
        "id": "OpeVMnB06LD3",
        "outputId": "1dd4ff84-3eaf-41db-9816-0c59ffd2eefc"
      },
      "outputs": [
        {
          "data": {
            "application/vnd.microsoft.datawrangler.viewer.v0+json": {
              "columns": [
                {
                  "name": "index",
                  "rawType": "int64",
                  "type": "integer"
                },
                {
                  "name": "Date",
                  "rawType": "datetime64[ns]",
                  "type": "datetime"
                },
                {
                  "name": "%",
                  "rawType": "float64",
                  "type": "float"
                }
              ],
              "conversionMethod": "pd.DataFrame",
              "ref": "ea451b11-4081-4dc6-afd6-da5883c1aa2b",
              "rows": [
                [
                  "0",
                  "2020-01-31 00:00:00",
                  "6.0"
                ],
                [
                  "1",
                  "2020-02-29 00:00:00",
                  "6.0"
                ],
                [
                  "2",
                  "2020-03-17 00:00:00",
                  "5.0"
                ],
                [
                  "3",
                  "2020-04-30 00:00:00",
                  "5.0"
                ],
                [
                  "4",
                  "2020-05-12 00:00:00",
                  "4.5"
                ]
              ],
              "shape": {
                "columns": 2,
                "rows": 5
              }
            },
            "text/html": [
              "<div>\n",
              "<style scoped>\n",
              "    .dataframe tbody tr th:only-of-type {\n",
              "        vertical-align: middle;\n",
              "    }\n",
              "\n",
              "    .dataframe tbody tr th {\n",
              "        vertical-align: top;\n",
              "    }\n",
              "\n",
              "    .dataframe thead th {\n",
              "        text-align: right;\n",
              "    }\n",
              "</style>\n",
              "<table border=\"1\" class=\"dataframe\">\n",
              "  <thead>\n",
              "    <tr style=\"text-align: right;\">\n",
              "      <th></th>\n",
              "      <th>Date</th>\n",
              "      <th>%</th>\n",
              "    </tr>\n",
              "  </thead>\n",
              "  <tbody>\n",
              "    <tr>\n",
              "      <th>0</th>\n",
              "      <td>2020-01-31</td>\n",
              "      <td>6.0</td>\n",
              "    </tr>\n",
              "    <tr>\n",
              "      <th>1</th>\n",
              "      <td>2020-02-29</td>\n",
              "      <td>6.0</td>\n",
              "    </tr>\n",
              "    <tr>\n",
              "      <th>2</th>\n",
              "      <td>2020-03-17</td>\n",
              "      <td>5.0</td>\n",
              "    </tr>\n",
              "    <tr>\n",
              "      <th>3</th>\n",
              "      <td>2020-04-30</td>\n",
              "      <td>5.0</td>\n",
              "    </tr>\n",
              "    <tr>\n",
              "      <th>4</th>\n",
              "      <td>2020-05-12</td>\n",
              "      <td>4.5</td>\n",
              "    </tr>\n",
              "  </tbody>\n",
              "</table>\n",
              "</div>"
            ],
            "text/plain": [
              "        Date    %\n",
              "0 2020-01-31  6.0\n",
              "1 2020-02-29  6.0\n",
              "2 2020-03-17  5.0\n",
              "3 2020-04-30  5.0\n",
              "4 2020-05-12  4.5"
            ]
          },
          "execution_count": 15,
          "metadata": {},
          "output_type": "execute_result"
        }
      ],
      "source": [
        "ir = pd.read_excel('ir.xlsx')\n",
        "ir.head()"
      ]
    },
    {
      "cell_type": "code",
      "execution_count": 16,
      "metadata": {
        "colab": {
          "base_uri": "https://localhost:8080/",
          "height": 478
        },
        "id": "E4rCdRpu7e6D",
        "outputId": "531dd580-7bb3-4d47-851b-e8bf0674ee8f"
      },
      "outputs": [
        {
          "data": {
            "application/vnd.microsoft.datawrangler.viewer.v0+json": {
              "columns": [
                {
                  "name": "index",
                  "rawType": "int64",
                  "type": "integer"
                },
                {
                  "name": "Date",
                  "rawType": "datetime64[ns]",
                  "type": "datetime"
                },
                {
                  "name": "Interest rates",
                  "rawType": "float64",
                  "type": "float"
                }
              ],
              "conversionMethod": "pd.DataFrame",
              "ref": "4f2d053a-dd51-4a67-a010-647ac0cb9b8b",
              "rows": [
                [
                  "0",
                  "2020-01-22 00:00:00",
                  "6.0"
                ],
                [
                  "1",
                  "2020-01-23 00:00:00",
                  "6.0"
                ],
                [
                  "2",
                  "2020-01-24 00:00:00",
                  "6.0"
                ],
                [
                  "3",
                  "2020-01-25 00:00:00",
                  "6.0"
                ],
                [
                  "4",
                  "2020-01-26 00:00:00",
                  "6.0"
                ],
                [
                  "5",
                  "2020-01-27 00:00:00",
                  "6.0"
                ],
                [
                  "6",
                  "2020-01-28 00:00:00",
                  "6.0"
                ],
                [
                  "7",
                  "2020-01-29 00:00:00",
                  "6.0"
                ],
                [
                  "8",
                  "2020-01-30 00:00:00",
                  "6.0"
                ],
                [
                  "9",
                  "2020-01-31 00:00:00",
                  "6.0"
                ],
                [
                  "10",
                  "2020-02-01 00:00:00",
                  "6.0"
                ],
                [
                  "11",
                  "2020-02-02 00:00:00",
                  "6.0"
                ],
                [
                  "12",
                  "2020-02-03 00:00:00",
                  "6.0"
                ],
                [
                  "13",
                  "2020-02-04 00:00:00",
                  "6.0"
                ],
                [
                  "14",
                  "2020-02-05 00:00:00",
                  "6.0"
                ],
                [
                  "15",
                  "2020-02-06 00:00:00",
                  "6.0"
                ],
                [
                  "16",
                  "2020-02-07 00:00:00",
                  "6.0"
                ],
                [
                  "17",
                  "2020-02-08 00:00:00",
                  "6.0"
                ],
                [
                  "18",
                  "2020-02-09 00:00:00",
                  "6.0"
                ],
                [
                  "19",
                  "2020-02-10 00:00:00",
                  "6.0"
                ],
                [
                  "20",
                  "2020-02-11 00:00:00",
                  "6.0"
                ],
                [
                  "21",
                  "2020-02-12 00:00:00",
                  "6.0"
                ],
                [
                  "22",
                  "2020-02-13 00:00:00",
                  "6.0"
                ],
                [
                  "23",
                  "2020-02-14 00:00:00",
                  "6.0"
                ],
                [
                  "24",
                  "2020-02-15 00:00:00",
                  "6.0"
                ],
                [
                  "25",
                  "2020-02-16 00:00:00",
                  "6.0"
                ],
                [
                  "26",
                  "2020-02-17 00:00:00",
                  "6.0"
                ],
                [
                  "27",
                  "2020-02-18 00:00:00",
                  "6.0"
                ],
                [
                  "28",
                  "2020-02-19 00:00:00",
                  "6.0"
                ],
                [
                  "29",
                  "2020-02-20 00:00:00",
                  "6.0"
                ],
                [
                  "30",
                  "2020-02-21 00:00:00",
                  "6.0"
                ],
                [
                  "31",
                  "2020-02-22 00:00:00",
                  "6.0"
                ],
                [
                  "32",
                  "2020-02-23 00:00:00",
                  "6.0"
                ],
                [
                  "33",
                  "2020-02-24 00:00:00",
                  "6.0"
                ],
                [
                  "34",
                  "2020-02-25 00:00:00",
                  "6.0"
                ],
                [
                  "35",
                  "2020-02-26 00:00:00",
                  "6.0"
                ],
                [
                  "36",
                  "2020-02-27 00:00:00",
                  "6.0"
                ],
                [
                  "37",
                  "2020-02-28 00:00:00",
                  "6.0"
                ],
                [
                  "38",
                  "2020-02-29 00:00:00",
                  "6.0"
                ],
                [
                  "39",
                  "2020-03-01 00:00:00",
                  "5.9411764705882355"
                ],
                [
                  "40",
                  "2020-03-02 00:00:00",
                  "5.882352941176471"
                ],
                [
                  "41",
                  "2020-03-03 00:00:00",
                  "5.823529411764706"
                ],
                [
                  "42",
                  "2020-03-04 00:00:00",
                  "5.764705882352941"
                ],
                [
                  "43",
                  "2020-03-05 00:00:00",
                  "5.705882352941177"
                ],
                [
                  "44",
                  "2020-03-06 00:00:00",
                  "5.647058823529412"
                ],
                [
                  "45",
                  "2020-03-07 00:00:00",
                  "5.588235294117647"
                ],
                [
                  "46",
                  "2020-03-08 00:00:00",
                  "5.529411764705882"
                ],
                [
                  "47",
                  "2020-03-09 00:00:00",
                  "5.470588235294118"
                ],
                [
                  "48",
                  "2020-03-10 00:00:00",
                  "5.411764705882353"
                ],
                [
                  "49",
                  "2020-03-11 00:00:00",
                  "5.352941176470588"
                ]
              ],
              "shape": {
                "columns": 2,
                "rows": 1820
              }
            },
            "text/html": [
              "<div>\n",
              "<style scoped>\n",
              "    .dataframe tbody tr th:only-of-type {\n",
              "        vertical-align: middle;\n",
              "    }\n",
              "\n",
              "    .dataframe tbody tr th {\n",
              "        vertical-align: top;\n",
              "    }\n",
              "\n",
              "    .dataframe thead th {\n",
              "        text-align: right;\n",
              "    }\n",
              "</style>\n",
              "<table border=\"1\" class=\"dataframe\">\n",
              "  <thead>\n",
              "    <tr style=\"text-align: right;\">\n",
              "      <th></th>\n",
              "      <th>Date</th>\n",
              "      <th>Interest rates</th>\n",
              "    </tr>\n",
              "  </thead>\n",
              "  <tbody>\n",
              "    <tr>\n",
              "      <th>0</th>\n",
              "      <td>2020-01-22</td>\n",
              "      <td>6.0</td>\n",
              "    </tr>\n",
              "    <tr>\n",
              "      <th>1</th>\n",
              "      <td>2020-01-23</td>\n",
              "      <td>6.0</td>\n",
              "    </tr>\n",
              "    <tr>\n",
              "      <th>2</th>\n",
              "      <td>2020-01-24</td>\n",
              "      <td>6.0</td>\n",
              "    </tr>\n",
              "    <tr>\n",
              "      <th>3</th>\n",
              "      <td>2020-01-25</td>\n",
              "      <td>6.0</td>\n",
              "    </tr>\n",
              "    <tr>\n",
              "      <th>4</th>\n",
              "      <td>2020-01-26</td>\n",
              "      <td>6.0</td>\n",
              "    </tr>\n",
              "    <tr>\n",
              "      <th>...</th>\n",
              "      <td>...</td>\n",
              "      <td>...</td>\n",
              "    </tr>\n",
              "    <tr>\n",
              "      <th>1815</th>\n",
              "      <td>2025-01-10</td>\n",
              "      <td>4.5</td>\n",
              "    </tr>\n",
              "    <tr>\n",
              "      <th>1816</th>\n",
              "      <td>2025-01-11</td>\n",
              "      <td>4.5</td>\n",
              "    </tr>\n",
              "    <tr>\n",
              "      <th>1817</th>\n",
              "      <td>2025-01-12</td>\n",
              "      <td>4.5</td>\n",
              "    </tr>\n",
              "    <tr>\n",
              "      <th>1818</th>\n",
              "      <td>2025-01-13</td>\n",
              "      <td>4.5</td>\n",
              "    </tr>\n",
              "    <tr>\n",
              "      <th>1819</th>\n",
              "      <td>2025-01-14</td>\n",
              "      <td>4.5</td>\n",
              "    </tr>\n",
              "  </tbody>\n",
              "</table>\n",
              "<p>1820 rows × 2 columns</p>\n",
              "</div>"
            ],
            "text/plain": [
              "           Date  Interest rates\n",
              "0    2020-01-22             6.0\n",
              "1    2020-01-23             6.0\n",
              "2    2020-01-24             6.0\n",
              "3    2020-01-25             6.0\n",
              "4    2020-01-26             6.0\n",
              "...         ...             ...\n",
              "1815 2025-01-10             4.5\n",
              "1816 2025-01-11             4.5\n",
              "1817 2025-01-12             4.5\n",
              "1818 2025-01-13             4.5\n",
              "1819 2025-01-14             4.5\n",
              "\n",
              "[1820 rows x 2 columns]"
            ]
          },
          "execution_count": 16,
          "metadata": {},
          "output_type": "execute_result"
        }
      ],
      "source": [
        "ir['Date'] = pd.to_datetime(ir['Date'])\n",
        "ir.rename(columns={\"%\": \"Interest rates\"}, inplace=True)\n",
        "# Create a full daily date range from min to max date\n",
        "daily_dates = pd.date_range(start=hah_df.index.min(), end=hah_df.index.max(), freq=\"D\")\n",
        "daily_ir = pd.DataFrame({\"Date\": daily_dates})\n",
        "\n",
        "# Merge and forward-fill quarterly growth rates\n",
        "daily_ir = daily_ir.merge(ir, on = 'Date', how=\"left\")\n",
        "\n",
        "# Calculate daily growth rate assuming continuous compounding\n",
        "daily_ir['Interest rates'] = daily_ir['Interest rates'].interpolate(method = 'linear')\n",
        "daily_ir['Interest rates'] = daily_ir['Interest rates'].fillna(method = 'bfill')\n",
        "\n",
        "daily_ir"
      ]
    },
    {
      "cell_type": "code",
      "execution_count": 17,
      "metadata": {
        "colab": {
          "base_uri": "https://localhost:8080/",
          "height": 237
        },
        "id": "cRXKbwsx8Mxt",
        "outputId": "3f0151ae-6de5-4e52-eebf-70b55bc6ba3e"
      },
      "outputs": [
        {
          "data": {
            "application/vnd.microsoft.datawrangler.viewer.v0+json": {
              "columns": [
                {
                  "name": "Date",
                  "rawType": "datetime64[ns]",
                  "type": "datetime"
                },
                {
                  "name": "High",
                  "rawType": "float64",
                  "type": "float"
                },
                {
                  "name": "Low",
                  "rawType": "float64",
                  "type": "float"
                },
                {
                  "name": "Open",
                  "rawType": "float64",
                  "type": "float"
                },
                {
                  "name": "Close",
                  "rawType": "float64",
                  "type": "float"
                },
                {
                  "name": "Volume",
                  "rawType": "int64",
                  "type": "integer"
                },
                {
                  "name": "SMA_200",
                  "rawType": "float64",
                  "type": "float"
                },
                {
                  "name": "RSI",
                  "rawType": "float64",
                  "type": "float"
                },
                {
                  "name": "STOCH",
                  "rawType": "float64",
                  "type": "float"
                },
                {
                  "name": "GDP_Index",
                  "rawType": "float64",
                  "type": "float"
                },
                {
                  "name": "Interest rates",
                  "rawType": "float64",
                  "type": "float"
                }
              ],
              "conversionMethod": "pd.DataFrame",
              "ref": "5bb3e5ea-cfb1-44f9-9ae0-ed923b235cfd",
              "rows": [
                [
                  "2020-01-22 00:00:00",
                  "11.6",
                  "11.35",
                  "11.35",
                  "11.5",
                  "65470",
                  "13.22575",
                  "45.06043706747654",
                  "50.0",
                  "100.00432499876464",
                  "6.0"
                ],
                [
                  "2020-01-30 00:00:00",
                  "11.45",
                  "11.1",
                  "11.35",
                  "11.3",
                  "124060",
                  "13.212749999999998",
                  "37.12381995375511",
                  "42.857142857143",
                  "100.03893172358258",
                  "6.0"
                ],
                [
                  "2020-01-31 00:00:00",
                  "11.25",
                  "10.55",
                  "11.25",
                  "10.9",
                  "113390",
                  "13.198",
                  "26.913746512708812",
                  "33.333333333333336",
                  "100.04325840614379",
                  "6.0"
                ],
                [
                  "2020-02-03 00:00:00",
                  "10.8",
                  "10.15",
                  "10.3",
                  "10.3",
                  "89900",
                  "13.18125",
                  "18.63477611110835",
                  "10.344827586206927",
                  "100.05623957663362",
                  "6.0"
                ],
                [
                  "2020-02-04 00:00:00",
                  "10.8",
                  "9.8",
                  "10.3",
                  "10.3",
                  "377140",
                  "13.165249999999999",
                  "18.63477611110835",
                  "27.777777777777793",
                  "100.06056700775925",
                  "6.0"
                ]
              ],
              "shape": {
                "columns": 10,
                "rows": 5
              }
            },
            "text/html": [
              "<div>\n",
              "<style scoped>\n",
              "    .dataframe tbody tr th:only-of-type {\n",
              "        vertical-align: middle;\n",
              "    }\n",
              "\n",
              "    .dataframe tbody tr th {\n",
              "        vertical-align: top;\n",
              "    }\n",
              "\n",
              "    .dataframe thead th {\n",
              "        text-align: right;\n",
              "    }\n",
              "</style>\n",
              "<table border=\"1\" class=\"dataframe\">\n",
              "  <thead>\n",
              "    <tr style=\"text-align: right;\">\n",
              "      <th></th>\n",
              "      <th>High</th>\n",
              "      <th>Low</th>\n",
              "      <th>Open</th>\n",
              "      <th>Close</th>\n",
              "      <th>Volume</th>\n",
              "      <th>SMA_200</th>\n",
              "      <th>RSI</th>\n",
              "      <th>STOCH</th>\n",
              "      <th>GDP_Index</th>\n",
              "      <th>Interest rates</th>\n",
              "    </tr>\n",
              "    <tr>\n",
              "      <th>Date</th>\n",
              "      <th></th>\n",
              "      <th></th>\n",
              "      <th></th>\n",
              "      <th></th>\n",
              "      <th></th>\n",
              "      <th></th>\n",
              "      <th></th>\n",
              "      <th></th>\n",
              "      <th></th>\n",
              "      <th></th>\n",
              "    </tr>\n",
              "  </thead>\n",
              "  <tbody>\n",
              "    <tr>\n",
              "      <th>2020-01-22</th>\n",
              "      <td>11.60</td>\n",
              "      <td>11.35</td>\n",
              "      <td>11.35</td>\n",
              "      <td>11.5</td>\n",
              "      <td>65470</td>\n",
              "      <td>13.22575</td>\n",
              "      <td>45.060437</td>\n",
              "      <td>50.000000</td>\n",
              "      <td>100.004325</td>\n",
              "      <td>6.0</td>\n",
              "    </tr>\n",
              "    <tr>\n",
              "      <th>2020-01-30</th>\n",
              "      <td>11.45</td>\n",
              "      <td>11.10</td>\n",
              "      <td>11.35</td>\n",
              "      <td>11.3</td>\n",
              "      <td>124060</td>\n",
              "      <td>13.21275</td>\n",
              "      <td>37.123820</td>\n",
              "      <td>42.857143</td>\n",
              "      <td>100.038932</td>\n",
              "      <td>6.0</td>\n",
              "    </tr>\n",
              "    <tr>\n",
              "      <th>2020-01-31</th>\n",
              "      <td>11.25</td>\n",
              "      <td>10.55</td>\n",
              "      <td>11.25</td>\n",
              "      <td>10.9</td>\n",
              "      <td>113390</td>\n",
              "      <td>13.19800</td>\n",
              "      <td>26.913747</td>\n",
              "      <td>33.333333</td>\n",
              "      <td>100.043258</td>\n",
              "      <td>6.0</td>\n",
              "    </tr>\n",
              "    <tr>\n",
              "      <th>2020-02-03</th>\n",
              "      <td>10.80</td>\n",
              "      <td>10.15</td>\n",
              "      <td>10.30</td>\n",
              "      <td>10.3</td>\n",
              "      <td>89900</td>\n",
              "      <td>13.18125</td>\n",
              "      <td>18.634776</td>\n",
              "      <td>10.344828</td>\n",
              "      <td>100.056240</td>\n",
              "      <td>6.0</td>\n",
              "    </tr>\n",
              "    <tr>\n",
              "      <th>2020-02-04</th>\n",
              "      <td>10.80</td>\n",
              "      <td>9.80</td>\n",
              "      <td>10.30</td>\n",
              "      <td>10.3</td>\n",
              "      <td>377140</td>\n",
              "      <td>13.16525</td>\n",
              "      <td>18.634776</td>\n",
              "      <td>27.777778</td>\n",
              "      <td>100.060567</td>\n",
              "      <td>6.0</td>\n",
              "    </tr>\n",
              "  </tbody>\n",
              "</table>\n",
              "</div>"
            ],
            "text/plain": [
              "             High    Low   Open  Close  Volume   SMA_200        RSI  \\\n",
              "Date                                                                  \n",
              "2020-01-22  11.60  11.35  11.35   11.5   65470  13.22575  45.060437   \n",
              "2020-01-30  11.45  11.10  11.35   11.3  124060  13.21275  37.123820   \n",
              "2020-01-31  11.25  10.55  11.25   10.9  113390  13.19800  26.913747   \n",
              "2020-02-03  10.80  10.15  10.30   10.3   89900  13.18125  18.634776   \n",
              "2020-02-04  10.80   9.80  10.30   10.3  377140  13.16525  18.634776   \n",
              "\n",
              "                STOCH   GDP_Index  Interest rates  \n",
              "Date                                               \n",
              "2020-01-22  50.000000  100.004325             6.0  \n",
              "2020-01-30  42.857143  100.038932             6.0  \n",
              "2020-01-31  33.333333  100.043258             6.0  \n",
              "2020-02-03  10.344828  100.056240             6.0  \n",
              "2020-02-04  27.777778  100.060567             6.0  "
            ]
          },
          "execution_count": 17,
          "metadata": {},
          "output_type": "execute_result"
        }
      ],
      "source": [
        "# Merge with 6 datasets\n",
        "daily_ir.set_index('Date', inplace = True)\n",
        "\n",
        "hah_df = hah_df.merge(daily_ir, left_index = True, right_index = True)\n",
        "\n",
        "# View one to see\n",
        "hah_df.head()"
      ]
    },
    {
      "cell_type": "code",
      "execution_count": 18,
      "metadata": {
        "colab": {
          "base_uri": "https://localhost:8080/",
          "height": 237
        },
        "id": "QboUYvnI-V6l",
        "outputId": "3e583600-2017-4378-bcd1-fe11fa20b26b"
      },
      "outputs": [
        {
          "data": {
            "application/vnd.microsoft.datawrangler.viewer.v0+json": {
              "columns": [
                {
                  "name": "Date",
                  "rawType": "datetime64[ns]",
                  "type": "datetime"
                },
                {
                  "name": "Close",
                  "rawType": "float64",
                  "type": "float"
                },
                {
                  "name": "SMA_200",
                  "rawType": "float64",
                  "type": "float"
                },
                {
                  "name": "RSI",
                  "rawType": "float64",
                  "type": "float"
                },
                {
                  "name": "STOCH",
                  "rawType": "float64",
                  "type": "float"
                },
                {
                  "name": "GDP_Index",
                  "rawType": "float64",
                  "type": "float"
                },
                {
                  "name": "Interest rates",
                  "rawType": "float64",
                  "type": "float"
                }
              ],
              "conversionMethod": "pd.DataFrame",
              "ref": "766372be-6855-4a51-849a-d835b0b72abc",
              "rows": [
                [
                  "2020-01-22 00:00:00",
                  "11.5",
                  "13.22575",
                  "45.06043706747654",
                  "50.0",
                  "100.00432499876464",
                  "6.0"
                ],
                [
                  "2020-01-30 00:00:00",
                  "11.3",
                  "13.212749999999998",
                  "37.12381995375511",
                  "42.857142857143",
                  "100.03893172358258",
                  "6.0"
                ],
                [
                  "2020-01-31 00:00:00",
                  "10.9",
                  "13.198",
                  "26.913746512708812",
                  "33.333333333333336",
                  "100.04325840614379",
                  "6.0"
                ],
                [
                  "2020-02-03 00:00:00",
                  "10.3",
                  "13.18125",
                  "18.63477611110835",
                  "10.344827586206927",
                  "100.05623957663362",
                  "6.0"
                ],
                [
                  "2020-02-04 00:00:00",
                  "10.3",
                  "13.165249999999999",
                  "18.63477611110835",
                  "27.777777777777793",
                  "100.06056700775925",
                  "6.0"
                ]
              ],
              "shape": {
                "columns": 6,
                "rows": 5
              }
            },
            "text/html": [
              "<div>\n",
              "<style scoped>\n",
              "    .dataframe tbody tr th:only-of-type {\n",
              "        vertical-align: middle;\n",
              "    }\n",
              "\n",
              "    .dataframe tbody tr th {\n",
              "        vertical-align: top;\n",
              "    }\n",
              "\n",
              "    .dataframe thead th {\n",
              "        text-align: right;\n",
              "    }\n",
              "</style>\n",
              "<table border=\"1\" class=\"dataframe\">\n",
              "  <thead>\n",
              "    <tr style=\"text-align: right;\">\n",
              "      <th></th>\n",
              "      <th>Close</th>\n",
              "      <th>SMA_200</th>\n",
              "      <th>RSI</th>\n",
              "      <th>STOCH</th>\n",
              "      <th>GDP_Index</th>\n",
              "      <th>Interest rates</th>\n",
              "    </tr>\n",
              "    <tr>\n",
              "      <th>Date</th>\n",
              "      <th></th>\n",
              "      <th></th>\n",
              "      <th></th>\n",
              "      <th></th>\n",
              "      <th></th>\n",
              "      <th></th>\n",
              "    </tr>\n",
              "  </thead>\n",
              "  <tbody>\n",
              "    <tr>\n",
              "      <th>2020-01-22</th>\n",
              "      <td>11.5</td>\n",
              "      <td>13.22575</td>\n",
              "      <td>45.060437</td>\n",
              "      <td>50.000000</td>\n",
              "      <td>100.004325</td>\n",
              "      <td>6.0</td>\n",
              "    </tr>\n",
              "    <tr>\n",
              "      <th>2020-01-30</th>\n",
              "      <td>11.3</td>\n",
              "      <td>13.21275</td>\n",
              "      <td>37.123820</td>\n",
              "      <td>42.857143</td>\n",
              "      <td>100.038932</td>\n",
              "      <td>6.0</td>\n",
              "    </tr>\n",
              "    <tr>\n",
              "      <th>2020-01-31</th>\n",
              "      <td>10.9</td>\n",
              "      <td>13.19800</td>\n",
              "      <td>26.913747</td>\n",
              "      <td>33.333333</td>\n",
              "      <td>100.043258</td>\n",
              "      <td>6.0</td>\n",
              "    </tr>\n",
              "    <tr>\n",
              "      <th>2020-02-03</th>\n",
              "      <td>10.3</td>\n",
              "      <td>13.18125</td>\n",
              "      <td>18.634776</td>\n",
              "      <td>10.344828</td>\n",
              "      <td>100.056240</td>\n",
              "      <td>6.0</td>\n",
              "    </tr>\n",
              "    <tr>\n",
              "      <th>2020-02-04</th>\n",
              "      <td>10.3</td>\n",
              "      <td>13.16525</td>\n",
              "      <td>18.634776</td>\n",
              "      <td>27.777778</td>\n",
              "      <td>100.060567</td>\n",
              "      <td>6.0</td>\n",
              "    </tr>\n",
              "  </tbody>\n",
              "</table>\n",
              "</div>"
            ],
            "text/plain": [
              "            Close   SMA_200        RSI      STOCH   GDP_Index  Interest rates\n",
              "Date                                                                         \n",
              "2020-01-22   11.5  13.22575  45.060437  50.000000  100.004325             6.0\n",
              "2020-01-30   11.3  13.21275  37.123820  42.857143  100.038932             6.0\n",
              "2020-01-31   10.9  13.19800  26.913747  33.333333  100.043258             6.0\n",
              "2020-02-03   10.3  13.18125  18.634776  10.344828  100.056240             6.0\n",
              "2020-02-04   10.3  13.16525  18.634776  27.777778  100.060567             6.0"
            ]
          },
          "execution_count": 18,
          "metadata": {},
          "output_type": "execute_result"
        }
      ],
      "source": [
        "# Drop unnecessary columns\n",
        "hah_df.drop(['High', 'Low', 'Open', 'Volume'], axis = 1, inplace = True)\n",
        "\n",
        "hah_df.head()"
      ]
    },
    {
      "cell_type": "markdown",
      "metadata": {
        "id": "Nj6rQcmD-i2G"
      },
      "source": [
        "# **ARIMAX models**"
      ]
    },
    {
      "cell_type": "code",
      "execution_count": 19,
      "metadata": {},
      "outputs": [],
      "source": [
        "# Define evaluation metrics\n",
        "def calculate_accuracy(real, predict):\n",
        "    return (1 - np.sqrt(np.mean(np.square((real - predict) / real)))) * 100\n",
        "\n",
        "def evaluate_performance(real, predict):\n",
        "    mse = mean_squared_error(real, predict)\n",
        "    rmse = np.sqrt(mse)\n",
        "    accuracy = calculate_accuracy(real, predict)\n",
        "    return mse, rmse, accuracy"
      ]
    },
    {
      "cell_type": "code",
      "execution_count": 20,
      "metadata": {},
      "outputs": [],
      "source": [
        "# Split data into train and test (80:20)\n",
        "train_size = int(len(hah_df) * 0.8)\n",
        "train, test = hah_df.iloc[:train_size], hah_df.iloc[train_size:]\n",
        "\n",
        "# Define target variable and exogenous features\n",
        "y_train, y_test = train['Close'], test['Close']\n",
        "exog_train = train[['SMA_200', 'RSI', 'STOCH', 'GDP_Index', 'Interest rates']]\n",
        "exog_test = test[['SMA_200', 'RSI', 'STOCH', 'GDP_Index', 'Interest rates']]"
      ]
    },
    {
      "cell_type": "code",
      "execution_count": 21,
      "metadata": {},
      "outputs": [
        {
          "name": "stdout",
          "output_type": "stream",
          "text": [
            "Best ARIMA Order: (1, 1, 2)\n",
            "                               SARIMAX Results                                \n",
            "==============================================================================\n",
            "Dep. Variable:                      y   No. Observations:                  995\n",
            "Model:               SARIMAX(1, 1, 2)   Log Likelihood               -2064.840\n",
            "Date:                Fri, 07 Mar 2025   AIC                           4137.680\n",
            "Time:                        02:06:14   BIC                           4157.287\n",
            "Sample:                             0   HQIC                          4145.134\n",
            "                                - 995                                         \n",
            "Covariance Type:                  opg                                         \n",
            "==============================================================================\n",
            "                 coef    std err          z      P>|z|      [0.025      0.975]\n",
            "------------------------------------------------------------------------------\n",
            "ar.L1          0.6449      0.135      4.760      0.000       0.379       0.910\n",
            "ma.L1         -0.5377      0.135     -3.986      0.000      -0.802      -0.273\n",
            "ma.L2         -0.1460      0.021     -7.117      0.000      -0.186      -0.106\n",
            "sigma2         3.7311      0.045     82.515      0.000       3.642       3.820\n",
            "===================================================================================\n",
            "Ljung-Box (L1) (Q):                   0.00   Jarque-Bera (JB):            296246.03\n",
            "Prob(Q):                              0.99   Prob(JB):                         0.00\n",
            "Heteroskedasticity (H):               9.24   Skew:                            -5.24\n",
            "Prob(H) (two-sided):                  0.00   Kurtosis:                        86.92\n",
            "===================================================================================\n",
            "\n",
            "Warnings:\n",
            "[1] Covariance matrix calculated using the outer product of gradients (complex-step).\n"
          ]
        }
      ],
      "source": [
        "# Use auto_arima to find the best (p, d, q) order\n",
        "auto_arima_model = auto_arima(y_train, exogenous=exog_train, seasonal=False, stepwise=True, suppress_warnings=True)\n",
        "best_order = auto_arima_model.order\n",
        "print(f\"Best ARIMA Order: {best_order}\")\n",
        "print(auto_arima_model.summary())"
      ]
    },
    {
      "cell_type": "code",
      "execution_count": 22,
      "metadata": {},
      "outputs": [
        {
          "name": "stdout",
          "output_type": "stream",
          "text": [
            "                               SARIMAX Results                                \n",
            "==============================================================================\n",
            "Dep. Variable:                  Close   No. Observations:                  995\n",
            "Model:               SARIMAX(1, 1, 2)   Log Likelihood               -1703.067\n",
            "Date:                Fri, 07 Mar 2025   AIC                           3424.134\n",
            "Time:                        02:06:16   BIC                           3468.223\n",
            "Sample:                             0   HQIC                          3440.898\n",
            "                                - 995                                         \n",
            "Covariance Type:                  opg                                         \n",
            "==================================================================================\n",
            "                     coef    std err          z      P>|z|      [0.025      0.975]\n",
            "----------------------------------------------------------------------------------\n",
            "SMA_200            1.1513      0.414      2.782      0.005       0.340       1.962\n",
            "RSI                0.3163      0.014     22.837      0.000       0.289       0.343\n",
            "STOCH             -0.0073      0.005     -1.416      0.157      -0.018       0.003\n",
            "GDP_Index         -0.7310      0.282     -2.596      0.009      -1.283      -0.179\n",
            "Interest rates    -5.2849      3.316     -1.594      0.111     -11.784       1.214\n",
            "ar.L1              0.4368      0.481      0.907      0.364      -0.507       1.380\n",
            "ma.L1             -0.3084      0.482     -0.639      0.523      -1.254       0.637\n",
            "ma.L2             -0.0852      0.062     -1.382      0.167      -0.206       0.036\n",
            "sigma2             1.8201      0.031     58.630      0.000       1.759       1.881\n",
            "===================================================================================\n",
            "Ljung-Box (L1) (Q):                   0.00   Jarque-Bera (JB):            754534.12\n",
            "Prob(Q):                              0.99   Prob(JB):                         0.00\n",
            "Heteroskedasticity (H):               0.24   Skew:                            -6.98\n",
            "Prob(H) (two-sided):                  0.00   Kurtosis:                       137.46\n",
            "===================================================================================\n",
            "\n",
            "Warnings:\n",
            "[1] Covariance matrix calculated using the outer product of gradients (complex-step).\n"
          ]
        }
      ],
      "source": [
        "# Fit SARIMAX model using the best order\n",
        "sarimax_model = SARIMAX(y_train, exog=exog_train, order=best_order, enforce_stationarity=False, enforce_invertibility=False)\n",
        "sarimax_result = sarimax_model.fit(disp=False)\n",
        "# Print model summary\n",
        "print(sarimax_result.summary())"
      ]
    },
    {
      "cell_type": "code",
      "execution_count": 23,
      "metadata": {},
      "outputs": [
        {
          "data": {
            "image/png": "[encoded data removed]",
            "text/plain": [
              "<Figure size 1200x600 with 1 Axes>"
            ]
          },
          "metadata": {},
          "output_type": "display_data"
        }
      ],
      "source": [
        "# Make predictions on the test set\n",
        "predictions = sarimax_result.predict(start=len(y_train), end=len(y_train) + len(y_test) - 1, exog=exog_test)\n",
        "\n",
        "# Visualization\n",
        "plt.figure(figsize=(12, 6))\n",
        "plt.plot(test.index, y_test, label=\"Actual\", color=\"skyblue\")\n",
        "plt.plot(test.index, predictions, label=\"Predicted\", color=\"orange\", linestyle=\"dashed\")\n",
        "plt.xlabel(\"Date\")\n",
        "plt.ylabel(\"Stock Price\")\n",
        "plt.title(\"ARIMAX Stock Price Prediction - HAH\")\n",
        "plt.legend()\n",
        "plt.grid()\n",
        "plt.show()"
      ]
    },
    {
      "cell_type": "code",
      "execution_count": 24,
      "metadata": {},
      "outputs": [],
      "source": [
        "predictions.index = y_test.index  # Assign y_test's index to predictions"
      ]
    },
    {
      "cell_type": "code",
      "execution_count": 25,
      "metadata": {},
      "outputs": [
        {
          "name": "stdout",
          "output_type": "stream",
          "text": [
            "MSE: 1114.48\n",
            "RMSE: 33.38\n",
            "Accuracy: 25.30%\n"
          ]
        }
      ],
      "source": [
        "# Evaluate performance\n",
        "mse, rmse, accuracy = evaluate_performance(y_test, predictions)\n",
        "\n",
        "print(f\"MSE: {mse:.2f}\")\n",
        "print(f\"RMSE: {rmse:.2f}\")\n",
        "print(f\"Accuracy: {accuracy:.2f}%\")"
      ]
    }
  ],
  "metadata": {
    "colab": {
      "provenance": [],
      "toc_visible": true
    },
    "kernelspec": {
      "display_name": "tensorflow",
      "language": "python",
      "name": "python3"
    },
    "language_info": {
      "codemirror_mode": {
        "name": "ipython",
        "version": 3
      },
      "file_extension": ".py",
      "mimetype": "text/x-python",
      "name": "python",
      "nbconvert_exporter": "python",
      "pygments_lexer": "ipython3",
      "version": "3.12.4"
    }
  },
  "nbformat": 4,
  "nbformat_minor": 0
}
