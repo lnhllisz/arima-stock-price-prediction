{
  "cells": [
    {
      "cell_type": "markdown",
      "metadata": {
        "id": "8GaP9jxzhN9D"
      },
      "source": [
        "# **Packages needed**"
      ]
    },
    {
      "cell_type": "code",
      "execution_count": 1,
      "metadata": {
        "id": "mJevNczahMDw"
      },
      "outputs": [],
      "source": [
        "import yfinance as yf\n",
        "from datetime import datetime\n",
        "import pandas as pd\n",
        "import numpy as np\n",
        "import ta\n",
        "from sklearn.preprocessing import MinMaxScaler\n",
        "from sklearn.metrics import mean_squared_error, mean_absolute_percentage_error\n",
        "from sklearn.model_selection import train_test_split\n",
        "from statsmodels.tsa.statespace.sarimax import SARIMAX\n",
        "from pmdarima import auto_arima\n",
        "import matplotlib.pyplot as plt\n",
        "import warnings\n",
        "warnings.filterwarnings('ignore')"
      ]
    },
    {
      "cell_type": "markdown",
      "metadata": {
        "id": "ZnoVf9LqhT_S"
      },
      "source": [
        "# **Data needed**"
      ]
    },
    {
      "cell_type": "code",
      "execution_count": 2,
      "metadata": {
        "colab": {
          "base_uri": "https://localhost:8080/"
        },
        "id": "IqEFDUdb9PUJ",
        "outputId": "9c2bdf51-5c78-481f-c93c-a30028c680aa"
      },
      "outputs": [
        {
          "name": "stdout",
          "output_type": "stream",
          "text": [
            "         Date  High   Low  Open  Close  Volume\n",
            "0  06/03/2025  7.94  7.94  7.94   7.94       0\n",
            "1  05/03/2025  7.96  7.80  7.96   7.94     400\n",
            "2  04/03/2025  8.15  7.85  8.15   7.85     800\n",
            "3  03/03/2025  7.80  7.68  7.80   7.68     300\n",
            "4  28/02/2025  7.68  7.60  7.67   7.60     800\n"
          ]
        }
      ],
      "source": [
        "dat_df = pd.read_csv('dat_df.csv')\n",
        "\n",
        "print(dat_df.head())\n"
      ]
    },
    {
      "cell_type": "code",
      "execution_count": 3,
      "metadata": {
        "colab": {
          "base_uri": "https://localhost:8080/"
        },
        "id": "SFxse0srLT9A",
        "outputId": "06de13ff-b80c-4a9c-b3c1-bd42aefeda2b"
      },
      "outputs": [
        {
          "name": "stdout",
          "output_type": "stream",
          "text": [
            "<class 'pandas.core.frame.DataFrame'>\n",
            "RangeIndex: 1500 entries, 0 to 1499\n",
            "Data columns (total 6 columns):\n",
            " #   Column  Non-Null Count  Dtype  \n",
            "---  ------  --------------  -----  \n",
            " 0   Date    1500 non-null   object \n",
            " 1   High    1500 non-null   float64\n",
            " 2   Low     1500 non-null   float64\n",
            " 3   Open    1500 non-null   float64\n",
            " 4   Close   1500 non-null   float64\n",
            " 5   Volume  1500 non-null   int64  \n",
            "dtypes: float64(4), int64(1), object(1)\n",
            "memory usage: 70.4+ KB\n",
            "None\n"
          ]
        }
      ],
      "source": [
        "# View basic information\n",
        "print(dat_df.info())"
      ]
    },
    {
      "cell_type": "code",
      "execution_count": 4,
      "metadata": {
        "colab": {
          "base_uri": "https://localhost:8080/",
          "height": 434
        },
        "id": "3sxepfNGLXVx",
        "outputId": "5fdc0474-52df-4863-91a8-e3d3ed9d53fa"
      },
      "outputs": [
        {
          "data": {
            "application/vnd.microsoft.datawrangler.viewer.v0+json": {
              "columns": [
                {
                  "name": "index",
                  "rawType": "int64",
                  "type": "integer"
                },
                {
                  "name": "Date",
                  "rawType": "datetime64[ns]",
                  "type": "datetime"
                },
                {
                  "name": "High",
                  "rawType": "float64",
                  "type": "float"
                },
                {
                  "name": "Low",
                  "rawType": "float64",
                  "type": "float"
                },
                {
                  "name": "Open",
                  "rawType": "float64",
                  "type": "float"
                },
                {
                  "name": "Close",
                  "rawType": "float64",
                  "type": "float"
                },
                {
                  "name": "Volume",
                  "rawType": "int64",
                  "type": "integer"
                }
              ],
              "conversionMethod": "pd.DataFrame",
              "ref": "eef87768-8e2e-45cd-915c-7c7e3c64c97e",
              "rows": [
                [
                  "0",
                  "2025-03-06 00:00:00",
                  "7.94",
                  "7.94",
                  "7.94",
                  "7.94",
                  "0"
                ],
                [
                  "1",
                  "2025-03-05 00:00:00",
                  "7.96",
                  "7.8",
                  "7.96",
                  "7.94",
                  "400"
                ],
                [
                  "2",
                  "2025-03-04 00:00:00",
                  "8.15",
                  "7.85",
                  "8.15",
                  "7.85",
                  "800"
                ],
                [
                  "3",
                  "2025-03-03 00:00:00",
                  "7.8",
                  "7.68",
                  "7.8",
                  "7.68",
                  "300"
                ],
                [
                  "4",
                  "2025-02-28 00:00:00",
                  "7.68",
                  "7.6",
                  "7.67",
                  "7.6",
                  "800"
                ]
              ],
              "shape": {
                "columns": 6,
                "rows": 5
              }
            },
            "text/html": [
              "<div>\n",
              "<style scoped>\n",
              "    .dataframe tbody tr th:only-of-type {\n",
              "        vertical-align: middle;\n",
              "    }\n",
              "\n",
              "    .dataframe tbody tr th {\n",
              "        vertical-align: top;\n",
              "    }\n",
              "\n",
              "    .dataframe thead th {\n",
              "        text-align: right;\n",
              "    }\n",
              "</style>\n",
              "<table border=\"1\" class=\"dataframe\">\n",
              "  <thead>\n",
              "    <tr style=\"text-align: right;\">\n",
              "      <th></th>\n",
              "      <th>Date</th>\n",
              "      <th>High</th>\n",
              "      <th>Low</th>\n",
              "      <th>Open</th>\n",
              "      <th>Close</th>\n",
              "      <th>Volume</th>\n",
              "    </tr>\n",
              "  </thead>\n",
              "  <tbody>\n",
              "    <tr>\n",
              "      <th>0</th>\n",
              "      <td>2025-03-06</td>\n",
              "      <td>7.94</td>\n",
              "      <td>7.94</td>\n",
              "      <td>7.94</td>\n",
              "      <td>7.94</td>\n",
              "      <td>0</td>\n",
              "    </tr>\n",
              "    <tr>\n",
              "      <th>1</th>\n",
              "      <td>2025-03-05</td>\n",
              "      <td>7.96</td>\n",
              "      <td>7.80</td>\n",
              "      <td>7.96</td>\n",
              "      <td>7.94</td>\n",
              "      <td>400</td>\n",
              "    </tr>\n",
              "    <tr>\n",
              "      <th>2</th>\n",
              "      <td>2025-03-04</td>\n",
              "      <td>8.15</td>\n",
              "      <td>7.85</td>\n",
              "      <td>8.15</td>\n",
              "      <td>7.85</td>\n",
              "      <td>800</td>\n",
              "    </tr>\n",
              "    <tr>\n",
              "      <th>3</th>\n",
              "      <td>2025-03-03</td>\n",
              "      <td>7.80</td>\n",
              "      <td>7.68</td>\n",
              "      <td>7.80</td>\n",
              "      <td>7.68</td>\n",
              "      <td>300</td>\n",
              "    </tr>\n",
              "    <tr>\n",
              "      <th>4</th>\n",
              "      <td>2025-02-28</td>\n",
              "      <td>7.68</td>\n",
              "      <td>7.60</td>\n",
              "      <td>7.67</td>\n",
              "      <td>7.60</td>\n",
              "      <td>800</td>\n",
              "    </tr>\n",
              "  </tbody>\n",
              "</table>\n",
              "</div>"
            ],
            "text/plain": [
              "        Date  High   Low  Open  Close  Volume\n",
              "0 2025-03-06  7.94  7.94  7.94   7.94       0\n",
              "1 2025-03-05  7.96  7.80  7.96   7.94     400\n",
              "2 2025-03-04  8.15  7.85  8.15   7.85     800\n",
              "3 2025-03-03  7.80  7.68  7.80   7.68     300\n",
              "4 2025-02-28  7.68  7.60  7.67   7.60     800"
            ]
          },
          "execution_count": 4,
          "metadata": {},
          "output_type": "execute_result"
        }
      ],
      "source": [
        "# Change all to datetimelike\n",
        "dat_df['Date'] = pd.to_datetime(dat_df['Date'], dayfirst=True)\n",
        "\n",
        "# View one of them to recheck\n",
        "dat_df.head()"
      ]
    },
    {
      "cell_type": "code",
      "execution_count": 5,
      "metadata": {
        "colab": {
          "base_uri": "https://localhost:8080/",
          "height": 206
        },
        "id": "NWZf26vUpxTp",
        "outputId": "c06b7f0f-99b8-4aa7-c68d-7ff7c486233b"
      },
      "outputs": [
        {
          "data": {
            "application/vnd.microsoft.datawrangler.viewer.v0+json": {
              "columns": [
                {
                  "name": "index",
                  "rawType": "int64",
                  "type": "integer"
                },
                {
                  "name": "Date",
                  "rawType": "datetime64[ns]",
                  "type": "datetime"
                },
                {
                  "name": "High",
                  "rawType": "float64",
                  "type": "float"
                },
                {
                  "name": "Low",
                  "rawType": "float64",
                  "type": "float"
                },
                {
                  "name": "Open",
                  "rawType": "float64",
                  "type": "float"
                },
                {
                  "name": "Close",
                  "rawType": "float64",
                  "type": "float"
                },
                {
                  "name": "Volume",
                  "rawType": "int64",
                  "type": "integer"
                }
              ],
              "conversionMethod": "pd.DataFrame",
              "ref": "f4ee3e55-d682-4365-ba6e-84b25740a41c",
              "rows": [
                [
                  "1499",
                  "2019-03-06 00:00:00",
                  "18.5",
                  "17.25",
                  "18.5",
                  "17.25",
                  "50"
                ],
                [
                  "1498",
                  "2019-03-07 00:00:00",
                  "17.0",
                  "17.0",
                  "17.0",
                  "17.0",
                  "100"
                ],
                [
                  "1497",
                  "2019-03-08 00:00:00",
                  "17.0",
                  "17.0",
                  "17.0",
                  "17.0",
                  "0"
                ],
                [
                  "1496",
                  "2019-03-11 00:00:00",
                  "17.0",
                  "17.0",
                  "17.0",
                  "17.0",
                  "0"
                ],
                [
                  "1495",
                  "2019-03-12 00:00:00",
                  "15.9",
                  "15.85",
                  "15.9",
                  "15.85",
                  "20"
                ]
              ],
              "shape": {
                "columns": 6,
                "rows": 5
              }
            },
            "text/html": [
              "<div>\n",
              "<style scoped>\n",
              "    .dataframe tbody tr th:only-of-type {\n",
              "        vertical-align: middle;\n",
              "    }\n",
              "\n",
              "    .dataframe tbody tr th {\n",
              "        vertical-align: top;\n",
              "    }\n",
              "\n",
              "    .dataframe thead th {\n",
              "        text-align: right;\n",
              "    }\n",
              "</style>\n",
              "<table border=\"1\" class=\"dataframe\">\n",
              "  <thead>\n",
              "    <tr style=\"text-align: right;\">\n",
              "      <th></th>\n",
              "      <th>Date</th>\n",
              "      <th>High</th>\n",
              "      <th>Low</th>\n",
              "      <th>Open</th>\n",
              "      <th>Close</th>\n",
              "      <th>Volume</th>\n",
              "    </tr>\n",
              "  </thead>\n",
              "  <tbody>\n",
              "    <tr>\n",
              "      <th>1499</th>\n",
              "      <td>2019-03-06</td>\n",
              "      <td>18.5</td>\n",
              "      <td>17.25</td>\n",
              "      <td>18.5</td>\n",
              "      <td>17.25</td>\n",
              "      <td>50</td>\n",
              "    </tr>\n",
              "    <tr>\n",
              "      <th>1498</th>\n",
              "      <td>2019-03-07</td>\n",
              "      <td>17.0</td>\n",
              "      <td>17.00</td>\n",
              "      <td>17.0</td>\n",
              "      <td>17.00</td>\n",
              "      <td>100</td>\n",
              "    </tr>\n",
              "    <tr>\n",
              "      <th>1497</th>\n",
              "      <td>2019-03-08</td>\n",
              "      <td>17.0</td>\n",
              "      <td>17.00</td>\n",
              "      <td>17.0</td>\n",
              "      <td>17.00</td>\n",
              "      <td>0</td>\n",
              "    </tr>\n",
              "    <tr>\n",
              "      <th>1496</th>\n",
              "      <td>2019-03-11</td>\n",
              "      <td>17.0</td>\n",
              "      <td>17.00</td>\n",
              "      <td>17.0</td>\n",
              "      <td>17.00</td>\n",
              "      <td>0</td>\n",
              "    </tr>\n",
              "    <tr>\n",
              "      <th>1495</th>\n",
              "      <td>2019-03-12</td>\n",
              "      <td>15.9</td>\n",
              "      <td>15.85</td>\n",
              "      <td>15.9</td>\n",
              "      <td>15.85</td>\n",
              "      <td>20</td>\n",
              "    </tr>\n",
              "  </tbody>\n",
              "</table>\n",
              "</div>"
            ],
            "text/plain": [
              "           Date  High    Low  Open  Close  Volume\n",
              "1499 2019-03-06  18.5  17.25  18.5  17.25      50\n",
              "1498 2019-03-07  17.0  17.00  17.0  17.00     100\n",
              "1497 2019-03-08  17.0  17.00  17.0  17.00       0\n",
              "1496 2019-03-11  17.0  17.00  17.0  17.00       0\n",
              "1495 2019-03-12  15.9  15.85  15.9  15.85      20"
            ]
          },
          "execution_count": 5,
          "metadata": {},
          "output_type": "execute_result"
        }
      ],
      "source": [
        "# Reverse the datasets\n",
        "dat_df = dat_df.iloc[::-1]\n",
        "\n",
        "# View one of them to recheck\n",
        "dat_df.head()"
      ]
    },
    {
      "cell_type": "markdown",
      "metadata": {
        "id": "LmPJ09QdracD"
      },
      "source": [
        "## **Technical indicators**"
      ]
    },
    {
      "cell_type": "code",
      "execution_count": 6,
      "metadata": {
        "colab": {
          "base_uri": "https://localhost:8080/",
          "height": 206
        },
        "id": "4pE_Wi_3L5Rf",
        "outputId": "b1dcfb19-a198-4c7e-e003-828808158b09"
      },
      "outputs": [
        {
          "data": {
            "application/vnd.microsoft.datawrangler.viewer.v0+json": {
              "columns": [
                {
                  "name": "index",
                  "rawType": "int64",
                  "type": "integer"
                },
                {
                  "name": "Date",
                  "rawType": "datetime64[ns]",
                  "type": "datetime"
                },
                {
                  "name": "High",
                  "rawType": "float64",
                  "type": "float"
                },
                {
                  "name": "Low",
                  "rawType": "float64",
                  "type": "float"
                },
                {
                  "name": "Open",
                  "rawType": "float64",
                  "type": "float"
                },
                {
                  "name": "Close",
                  "rawType": "float64",
                  "type": "float"
                },
                {
                  "name": "Volume",
                  "rawType": "int64",
                  "type": "integer"
                },
                {
                  "name": "SMA_200",
                  "rawType": "float64",
                  "type": "float"
                }
              ],
              "conversionMethod": "pd.DataFrame",
              "ref": "d1d1790c-4acd-4573-acfd-73a2ac45305d",
              "rows": [
                [
                  "1300",
                  "2019-12-17 00:00:00",
                  "16.3",
                  "16.3",
                  "16.3",
                  "16.3",
                  "0",
                  "17.20975"
                ],
                [
                  "1299",
                  "2019-12-18 00:00:00",
                  "17.35",
                  "17.35",
                  "17.35",
                  "17.35",
                  "10",
                  "17.210250000000002"
                ],
                [
                  "1298",
                  "2019-12-19 00:00:00",
                  "17.35",
                  "17.35",
                  "17.35",
                  "17.35",
                  "0",
                  "17.212"
                ],
                [
                  "1297",
                  "2019-12-20 00:00:00",
                  "17.35",
                  "17.35",
                  "17.35",
                  "17.35",
                  "0",
                  "17.21375"
                ],
                [
                  "1296",
                  "2019-12-23 00:00:00",
                  "17.35",
                  "17.35",
                  "17.35",
                  "17.35",
                  "0",
                  "17.2155"
                ]
              ],
              "shape": {
                "columns": 7,
                "rows": 5
              }
            },
            "text/html": [
              "<div>\n",
              "<style scoped>\n",
              "    .dataframe tbody tr th:only-of-type {\n",
              "        vertical-align: middle;\n",
              "    }\n",
              "\n",
              "    .dataframe tbody tr th {\n",
              "        vertical-align: top;\n",
              "    }\n",
              "\n",
              "    .dataframe thead th {\n",
              "        text-align: right;\n",
              "    }\n",
              "</style>\n",
              "<table border=\"1\" class=\"dataframe\">\n",
              "  <thead>\n",
              "    <tr style=\"text-align: right;\">\n",
              "      <th></th>\n",
              "      <th>Date</th>\n",
              "      <th>High</th>\n",
              "      <th>Low</th>\n",
              "      <th>Open</th>\n",
              "      <th>Close</th>\n",
              "      <th>Volume</th>\n",
              "      <th>SMA_200</th>\n",
              "    </tr>\n",
              "  </thead>\n",
              "  <tbody>\n",
              "    <tr>\n",
              "      <th>1300</th>\n",
              "      <td>2019-12-17</td>\n",
              "      <td>16.30</td>\n",
              "      <td>16.30</td>\n",
              "      <td>16.30</td>\n",
              "      <td>16.30</td>\n",
              "      <td>0</td>\n",
              "      <td>17.20975</td>\n",
              "    </tr>\n",
              "    <tr>\n",
              "      <th>1299</th>\n",
              "      <td>2019-12-18</td>\n",
              "      <td>17.35</td>\n",
              "      <td>17.35</td>\n",
              "      <td>17.35</td>\n",
              "      <td>17.35</td>\n",
              "      <td>10</td>\n",
              "      <td>17.21025</td>\n",
              "    </tr>\n",
              "    <tr>\n",
              "      <th>1298</th>\n",
              "      <td>2019-12-19</td>\n",
              "      <td>17.35</td>\n",
              "      <td>17.35</td>\n",
              "      <td>17.35</td>\n",
              "      <td>17.35</td>\n",
              "      <td>0</td>\n",
              "      <td>17.21200</td>\n",
              "    </tr>\n",
              "    <tr>\n",
              "      <th>1297</th>\n",
              "      <td>2019-12-20</td>\n",
              "      <td>17.35</td>\n",
              "      <td>17.35</td>\n",
              "      <td>17.35</td>\n",
              "      <td>17.35</td>\n",
              "      <td>0</td>\n",
              "      <td>17.21375</td>\n",
              "    </tr>\n",
              "    <tr>\n",
              "      <th>1296</th>\n",
              "      <td>2019-12-23</td>\n",
              "      <td>17.35</td>\n",
              "      <td>17.35</td>\n",
              "      <td>17.35</td>\n",
              "      <td>17.35</td>\n",
              "      <td>0</td>\n",
              "      <td>17.21550</td>\n",
              "    </tr>\n",
              "  </tbody>\n",
              "</table>\n",
              "</div>"
            ],
            "text/plain": [
              "           Date   High    Low   Open  Close  Volume   SMA_200\n",
              "1300 2019-12-17  16.30  16.30  16.30  16.30       0  17.20975\n",
              "1299 2019-12-18  17.35  17.35  17.35  17.35      10  17.21025\n",
              "1298 2019-12-19  17.35  17.35  17.35  17.35       0  17.21200\n",
              "1297 2019-12-20  17.35  17.35  17.35  17.35       0  17.21375\n",
              "1296 2019-12-23  17.35  17.35  17.35  17.35       0  17.21550"
            ]
          },
          "execution_count": 6,
          "metadata": {},
          "output_type": "execute_result"
        }
      ],
      "source": [
        "# Calculate simple moving average\n",
        "dat_df['SMA_200'] = dat_df['Close'].rolling(window = 200).mean()\n",
        "\n",
        "# Drop all empty rows\n",
        "dat_df.dropna(inplace = True)\n",
        "\n",
        "# View one to check\n",
        "dat_df.head()"
      ]
    },
    {
      "cell_type": "code",
      "execution_count": 7,
      "metadata": {
        "colab": {
          "base_uri": "https://localhost:8080/",
          "height": 206
        },
        "id": "ei4985bGtDNR",
        "outputId": "fa65a191-e6fa-4d55-f1f8-53ad4d5449b5"
      },
      "outputs": [
        {
          "data": {
            "application/vnd.microsoft.datawrangler.viewer.v0+json": {
              "columns": [
                {
                  "name": "index",
                  "rawType": "int64",
                  "type": "integer"
                },
                {
                  "name": "Date",
                  "rawType": "datetime64[ns]",
                  "type": "datetime"
                },
                {
                  "name": "High",
                  "rawType": "float64",
                  "type": "float"
                },
                {
                  "name": "Low",
                  "rawType": "float64",
                  "type": "float"
                },
                {
                  "name": "Open",
                  "rawType": "float64",
                  "type": "float"
                },
                {
                  "name": "Close",
                  "rawType": "float64",
                  "type": "float"
                },
                {
                  "name": "Volume",
                  "rawType": "int64",
                  "type": "integer"
                },
                {
                  "name": "SMA_200",
                  "rawType": "float64",
                  "type": "float"
                },
                {
                  "name": "RSI",
                  "rawType": "float64",
                  "type": "float"
                }
              ],
              "conversionMethod": "pd.DataFrame",
              "ref": "75c697aa-4c1d-49b8-9fa8-9ac20ac81b0d",
              "rows": [
                [
                  "1300",
                  "2019-12-17 00:00:00",
                  "16.3",
                  "16.3",
                  "16.3",
                  "16.3",
                  "0",
                  "17.20975",
                  null
                ],
                [
                  "1299",
                  "2019-12-18 00:00:00",
                  "17.35",
                  "17.35",
                  "17.35",
                  "17.35",
                  "10",
                  "17.210250000000002",
                  null
                ],
                [
                  "1298",
                  "2019-12-19 00:00:00",
                  "17.35",
                  "17.35",
                  "17.35",
                  "17.35",
                  "0",
                  "17.212",
                  null
                ],
                [
                  "1297",
                  "2019-12-20 00:00:00",
                  "17.35",
                  "17.35",
                  "17.35",
                  "17.35",
                  "0",
                  "17.21375",
                  null
                ],
                [
                  "1296",
                  "2019-12-23 00:00:00",
                  "17.35",
                  "17.35",
                  "17.35",
                  "17.35",
                  "0",
                  "17.2155",
                  null
                ]
              ],
              "shape": {
                "columns": 8,
                "rows": 5
              }
            },
            "text/html": [
              "<div>\n",
              "<style scoped>\n",
              "    .dataframe tbody tr th:only-of-type {\n",
              "        vertical-align: middle;\n",
              "    }\n",
              "\n",
              "    .dataframe tbody tr th {\n",
              "        vertical-align: top;\n",
              "    }\n",
              "\n",
              "    .dataframe thead th {\n",
              "        text-align: right;\n",
              "    }\n",
              "</style>\n",
              "<table border=\"1\" class=\"dataframe\">\n",
              "  <thead>\n",
              "    <tr style=\"text-align: right;\">\n",
              "      <th></th>\n",
              "      <th>Date</th>\n",
              "      <th>High</th>\n",
              "      <th>Low</th>\n",
              "      <th>Open</th>\n",
              "      <th>Close</th>\n",
              "      <th>Volume</th>\n",
              "      <th>SMA_200</th>\n",
              "      <th>RSI</th>\n",
              "    </tr>\n",
              "  </thead>\n",
              "  <tbody>\n",
              "    <tr>\n",
              "      <th>1300</th>\n",
              "      <td>2019-12-17</td>\n",
              "      <td>16.30</td>\n",
              "      <td>16.30</td>\n",
              "      <td>16.30</td>\n",
              "      <td>16.30</td>\n",
              "      <td>0</td>\n",
              "      <td>17.20975</td>\n",
              "      <td>NaN</td>\n",
              "    </tr>\n",
              "    <tr>\n",
              "      <th>1299</th>\n",
              "      <td>2019-12-18</td>\n",
              "      <td>17.35</td>\n",
              "      <td>17.35</td>\n",
              "      <td>17.35</td>\n",
              "      <td>17.35</td>\n",
              "      <td>10</td>\n",
              "      <td>17.21025</td>\n",
              "      <td>NaN</td>\n",
              "    </tr>\n",
              "    <tr>\n",
              "      <th>1298</th>\n",
              "      <td>2019-12-19</td>\n",
              "      <td>17.35</td>\n",
              "      <td>17.35</td>\n",
              "      <td>17.35</td>\n",
              "      <td>17.35</td>\n",
              "      <td>0</td>\n",
              "      <td>17.21200</td>\n",
              "      <td>NaN</td>\n",
              "    </tr>\n",
              "    <tr>\n",
              "      <th>1297</th>\n",
              "      <td>2019-12-20</td>\n",
              "      <td>17.35</td>\n",
              "      <td>17.35</td>\n",
              "      <td>17.35</td>\n",
              "      <td>17.35</td>\n",
              "      <td>0</td>\n",
              "      <td>17.21375</td>\n",
              "      <td>NaN</td>\n",
              "    </tr>\n",
              "    <tr>\n",
              "      <th>1296</th>\n",
              "      <td>2019-12-23</td>\n",
              "      <td>17.35</td>\n",
              "      <td>17.35</td>\n",
              "      <td>17.35</td>\n",
              "      <td>17.35</td>\n",
              "      <td>0</td>\n",
              "      <td>17.21550</td>\n",
              "      <td>NaN</td>\n",
              "    </tr>\n",
              "  </tbody>\n",
              "</table>\n",
              "</div>"
            ],
            "text/plain": [
              "           Date   High    Low   Open  Close  Volume   SMA_200  RSI\n",
              "1300 2019-12-17  16.30  16.30  16.30  16.30       0  17.20975  NaN\n",
              "1299 2019-12-18  17.35  17.35  17.35  17.35      10  17.21025  NaN\n",
              "1298 2019-12-19  17.35  17.35  17.35  17.35       0  17.21200  NaN\n",
              "1297 2019-12-20  17.35  17.35  17.35  17.35       0  17.21375  NaN\n",
              "1296 2019-12-23  17.35  17.35  17.35  17.35       0  17.21550  NaN"
            ]
          },
          "execution_count": 7,
          "metadata": {},
          "output_type": "execute_result"
        }
      ],
      "source": [
        "# Calculate RSI\n",
        "dat_df['RSI'] = ta.momentum.RSIIndicator(dat_df['Close'].squeeze(), window = 14).rsi()\n",
        "\n",
        "# View one to check\n",
        "dat_df.head()"
      ]
    },
    {
      "cell_type": "code",
      "execution_count": 8,
      "metadata": {
        "colab": {
          "base_uri": "https://localhost:8080/",
          "height": 206
        },
        "id": "dNUb_s9Xuayz",
        "outputId": "cc06af37-148f-484b-9f8f-c1f8baa1e9b2"
      },
      "outputs": [
        {
          "data": {
            "application/vnd.microsoft.datawrangler.viewer.v0+json": {
              "columns": [
                {
                  "name": "index",
                  "rawType": "int64",
                  "type": "integer"
                },
                {
                  "name": "Date",
                  "rawType": "datetime64[ns]",
                  "type": "datetime"
                },
                {
                  "name": "High",
                  "rawType": "float64",
                  "type": "float"
                },
                {
                  "name": "Low",
                  "rawType": "float64",
                  "type": "float"
                },
                {
                  "name": "Open",
                  "rawType": "float64",
                  "type": "float"
                },
                {
                  "name": "Close",
                  "rawType": "float64",
                  "type": "float"
                },
                {
                  "name": "Volume",
                  "rawType": "int64",
                  "type": "integer"
                },
                {
                  "name": "SMA_200",
                  "rawType": "float64",
                  "type": "float"
                },
                {
                  "name": "RSI",
                  "rawType": "float64",
                  "type": "float"
                },
                {
                  "name": "STOCH",
                  "rawType": "float64",
                  "type": "float"
                }
              ],
              "conversionMethod": "pd.DataFrame",
              "ref": "dfb6929d-3df0-4289-a8a7-eee8de86c510",
              "rows": [
                [
                  "1300",
                  "2019-12-17 00:00:00",
                  "16.3",
                  "16.3",
                  "16.3",
                  "16.3",
                  "0",
                  "17.20975",
                  null,
                  null
                ],
                [
                  "1299",
                  "2019-12-18 00:00:00",
                  "17.35",
                  "17.35",
                  "17.35",
                  "17.35",
                  "10",
                  "17.210250000000002",
                  null,
                  null
                ],
                [
                  "1298",
                  "2019-12-19 00:00:00",
                  "17.35",
                  "17.35",
                  "17.35",
                  "17.35",
                  "0",
                  "17.212",
                  null,
                  null
                ],
                [
                  "1297",
                  "2019-12-20 00:00:00",
                  "17.35",
                  "17.35",
                  "17.35",
                  "17.35",
                  "0",
                  "17.21375",
                  null,
                  null
                ],
                [
                  "1296",
                  "2019-12-23 00:00:00",
                  "17.35",
                  "17.35",
                  "17.35",
                  "17.35",
                  "0",
                  "17.2155",
                  null,
                  null
                ]
              ],
              "shape": {
                "columns": 9,
                "rows": 5
              }
            },
            "text/html": [
              "<div>\n",
              "<style scoped>\n",
              "    .dataframe tbody tr th:only-of-type {\n",
              "        vertical-align: middle;\n",
              "    }\n",
              "\n",
              "    .dataframe tbody tr th {\n",
              "        vertical-align: top;\n",
              "    }\n",
              "\n",
              "    .dataframe thead th {\n",
              "        text-align: right;\n",
              "    }\n",
              "</style>\n",
              "<table border=\"1\" class=\"dataframe\">\n",
              "  <thead>\n",
              "    <tr style=\"text-align: right;\">\n",
              "      <th></th>\n",
              "      <th>Date</th>\n",
              "      <th>High</th>\n",
              "      <th>Low</th>\n",
              "      <th>Open</th>\n",
              "      <th>Close</th>\n",
              "      <th>Volume</th>\n",
              "      <th>SMA_200</th>\n",
              "      <th>RSI</th>\n",
              "      <th>STOCH</th>\n",
              "    </tr>\n",
              "  </thead>\n",
              "  <tbody>\n",
              "    <tr>\n",
              "      <th>1300</th>\n",
              "      <td>2019-12-17</td>\n",
              "      <td>16.30</td>\n",
              "      <td>16.30</td>\n",
              "      <td>16.30</td>\n",
              "      <td>16.30</td>\n",
              "      <td>0</td>\n",
              "      <td>17.20975</td>\n",
              "      <td>NaN</td>\n",
              "      <td>NaN</td>\n",
              "    </tr>\n",
              "    <tr>\n",
              "      <th>1299</th>\n",
              "      <td>2019-12-18</td>\n",
              "      <td>17.35</td>\n",
              "      <td>17.35</td>\n",
              "      <td>17.35</td>\n",
              "      <td>17.35</td>\n",
              "      <td>10</td>\n",
              "      <td>17.21025</td>\n",
              "      <td>NaN</td>\n",
              "      <td>NaN</td>\n",
              "    </tr>\n",
              "    <tr>\n",
              "      <th>1298</th>\n",
              "      <td>2019-12-19</td>\n",
              "      <td>17.35</td>\n",
              "      <td>17.35</td>\n",
              "      <td>17.35</td>\n",
              "      <td>17.35</td>\n",
              "      <td>0</td>\n",
              "      <td>17.21200</td>\n",
              "      <td>NaN</td>\n",
              "      <td>NaN</td>\n",
              "    </tr>\n",
              "    <tr>\n",
              "      <th>1297</th>\n",
              "      <td>2019-12-20</td>\n",
              "      <td>17.35</td>\n",
              "      <td>17.35</td>\n",
              "      <td>17.35</td>\n",
              "      <td>17.35</td>\n",
              "      <td>0</td>\n",
              "      <td>17.21375</td>\n",
              "      <td>NaN</td>\n",
              "      <td>NaN</td>\n",
              "    </tr>\n",
              "    <tr>\n",
              "      <th>1296</th>\n",
              "      <td>2019-12-23</td>\n",
              "      <td>17.35</td>\n",
              "      <td>17.35</td>\n",
              "      <td>17.35</td>\n",
              "      <td>17.35</td>\n",
              "      <td>0</td>\n",
              "      <td>17.21550</td>\n",
              "      <td>NaN</td>\n",
              "      <td>NaN</td>\n",
              "    </tr>\n",
              "  </tbody>\n",
              "</table>\n",
              "</div>"
            ],
            "text/plain": [
              "           Date   High    Low   Open  Close  Volume   SMA_200  RSI  STOCH\n",
              "1300 2019-12-17  16.30  16.30  16.30  16.30       0  17.20975  NaN    NaN\n",
              "1299 2019-12-18  17.35  17.35  17.35  17.35      10  17.21025  NaN    NaN\n",
              "1298 2019-12-19  17.35  17.35  17.35  17.35       0  17.21200  NaN    NaN\n",
              "1297 2019-12-20  17.35  17.35  17.35  17.35       0  17.21375  NaN    NaN\n",
              "1296 2019-12-23  17.35  17.35  17.35  17.35       0  17.21550  NaN    NaN"
            ]
          },
          "execution_count": 8,
          "metadata": {},
          "output_type": "execute_result"
        }
      ],
      "source": [
        "# Calculate stochastic oscillator\n",
        "dat_df['STOCH'] = ta.momentum.StochasticOscillator(high = dat_df['High'], low = dat_df['Low'], close = dat_df['Close'], window = 14).stoch()\n",
        "\n",
        "# View one to see\n",
        "dat_df.head()"
      ]
    },
    {
      "cell_type": "code",
      "execution_count": 9,
      "metadata": {
        "colab": {
          "base_uri": "https://localhost:8080/",
          "height": 237
        },
        "id": "sbsq3wl4u-PX",
        "outputId": "d72bf3eb-3524-4faf-c1a9-87eb1219d245"
      },
      "outputs": [
        {
          "data": {
            "application/vnd.microsoft.datawrangler.viewer.v0+json": {
              "columns": [
                {
                  "name": "Date",
                  "rawType": "datetime64[ns]",
                  "type": "datetime"
                },
                {
                  "name": "High",
                  "rawType": "float64",
                  "type": "float"
                },
                {
                  "name": "Low",
                  "rawType": "float64",
                  "type": "float"
                },
                {
                  "name": "Open",
                  "rawType": "float64",
                  "type": "float"
                },
                {
                  "name": "Close",
                  "rawType": "float64",
                  "type": "float"
                },
                {
                  "name": "Volume",
                  "rawType": "int64",
                  "type": "integer"
                },
                {
                  "name": "SMA_200",
                  "rawType": "float64",
                  "type": "float"
                },
                {
                  "name": "RSI",
                  "rawType": "float64",
                  "type": "float"
                },
                {
                  "name": "STOCH",
                  "rawType": "float64",
                  "type": "float"
                }
              ],
              "conversionMethod": "pd.DataFrame",
              "ref": "7feab205-473a-4dd9-9b35-85c657ccc69a",
              "rows": [
                [
                  "2020-01-31 00:00:00",
                  "18.55",
                  "18.55",
                  "18.55",
                  "18.55",
                  "10",
                  "17.11625",
                  "100.0",
                  "100.0"
                ],
                [
                  "2020-02-03 00:00:00",
                  "18.55",
                  "18.55",
                  "18.55",
                  "18.55",
                  "0",
                  "17.114",
                  "100.0",
                  "100.0"
                ],
                [
                  "2020-02-04 00:00:00",
                  "18.55",
                  "18.55",
                  "18.55",
                  "18.55",
                  "0",
                  "17.11175",
                  "100.0",
                  "100.0"
                ],
                [
                  "2020-02-05 00:00:00",
                  "18.55",
                  "18.55",
                  "18.55",
                  "18.55",
                  "0",
                  "17.107",
                  "100.0",
                  "100.0"
                ],
                [
                  "2020-02-06 00:00:00",
                  "18.55",
                  "18.55",
                  "18.55",
                  "18.55",
                  "0",
                  "17.109",
                  "100.0",
                  "100.0"
                ]
              ],
              "shape": {
                "columns": 8,
                "rows": 5
              }
            },
            "text/html": [
              "<div>\n",
              "<style scoped>\n",
              "    .dataframe tbody tr th:only-of-type {\n",
              "        vertical-align: middle;\n",
              "    }\n",
              "\n",
              "    .dataframe tbody tr th {\n",
              "        vertical-align: top;\n",
              "    }\n",
              "\n",
              "    .dataframe thead th {\n",
              "        text-align: right;\n",
              "    }\n",
              "</style>\n",
              "<table border=\"1\" class=\"dataframe\">\n",
              "  <thead>\n",
              "    <tr style=\"text-align: right;\">\n",
              "      <th></th>\n",
              "      <th>High</th>\n",
              "      <th>Low</th>\n",
              "      <th>Open</th>\n",
              "      <th>Close</th>\n",
              "      <th>Volume</th>\n",
              "      <th>SMA_200</th>\n",
              "      <th>RSI</th>\n",
              "      <th>STOCH</th>\n",
              "    </tr>\n",
              "    <tr>\n",
              "      <th>Date</th>\n",
              "      <th></th>\n",
              "      <th></th>\n",
              "      <th></th>\n",
              "      <th></th>\n",
              "      <th></th>\n",
              "      <th></th>\n",
              "      <th></th>\n",
              "      <th></th>\n",
              "    </tr>\n",
              "  </thead>\n",
              "  <tbody>\n",
              "    <tr>\n",
              "      <th>2020-01-31</th>\n",
              "      <td>18.55</td>\n",
              "      <td>18.55</td>\n",
              "      <td>18.55</td>\n",
              "      <td>18.55</td>\n",
              "      <td>10</td>\n",
              "      <td>17.11625</td>\n",
              "      <td>100.0</td>\n",
              "      <td>100.0</td>\n",
              "    </tr>\n",
              "    <tr>\n",
              "      <th>2020-02-03</th>\n",
              "      <td>18.55</td>\n",
              "      <td>18.55</td>\n",
              "      <td>18.55</td>\n",
              "      <td>18.55</td>\n",
              "      <td>0</td>\n",
              "      <td>17.11400</td>\n",
              "      <td>100.0</td>\n",
              "      <td>100.0</td>\n",
              "    </tr>\n",
              "    <tr>\n",
              "      <th>2020-02-04</th>\n",
              "      <td>18.55</td>\n",
              "      <td>18.55</td>\n",
              "      <td>18.55</td>\n",
              "      <td>18.55</td>\n",
              "      <td>0</td>\n",
              "      <td>17.11175</td>\n",
              "      <td>100.0</td>\n",
              "      <td>100.0</td>\n",
              "    </tr>\n",
              "    <tr>\n",
              "      <th>2020-02-05</th>\n",
              "      <td>18.55</td>\n",
              "      <td>18.55</td>\n",
              "      <td>18.55</td>\n",
              "      <td>18.55</td>\n",
              "      <td>0</td>\n",
              "      <td>17.10700</td>\n",
              "      <td>100.0</td>\n",
              "      <td>100.0</td>\n",
              "    </tr>\n",
              "    <tr>\n",
              "      <th>2020-02-06</th>\n",
              "      <td>18.55</td>\n",
              "      <td>18.55</td>\n",
              "      <td>18.55</td>\n",
              "      <td>18.55</td>\n",
              "      <td>0</td>\n",
              "      <td>17.10900</td>\n",
              "      <td>100.0</td>\n",
              "      <td>100.0</td>\n",
              "    </tr>\n",
              "  </tbody>\n",
              "</table>\n",
              "</div>"
            ],
            "text/plain": [
              "             High    Low   Open  Close  Volume   SMA_200    RSI  STOCH\n",
              "Date                                                                  \n",
              "2020-01-31  18.55  18.55  18.55  18.55      10  17.11625  100.0  100.0\n",
              "2020-02-03  18.55  18.55  18.55  18.55       0  17.11400  100.0  100.0\n",
              "2020-02-04  18.55  18.55  18.55  18.55       0  17.11175  100.0  100.0\n",
              "2020-02-05  18.55  18.55  18.55  18.55       0  17.10700  100.0  100.0\n",
              "2020-02-06  18.55  18.55  18.55  18.55       0  17.10900  100.0  100.0"
            ]
          },
          "execution_count": 9,
          "metadata": {},
          "output_type": "execute_result"
        }
      ],
      "source": [
        "# Drop all null columns\n",
        "dat_df.dropna(inplace = True)\n",
        "\n",
        "# Filter to get only from 2020-01-22 to 2025-01-14\n",
        "dat_df = dat_df[(dat_df['Date'] >= '2020-01-22') & (dat_df['Date'] <= '2025-01-14')]\n",
        "\n",
        "# And set date to be index\n",
        "dat_df.set_index('Date', inplace = True)\n",
        "\n",
        "# View one to check\n",
        "dat_df.head()"
      ]
    },
    {
      "cell_type": "markdown",
      "metadata": {
        "id": "m-Tr_KEov5g3"
      },
      "source": [
        "# **Add more data**"
      ]
    },
    {
      "cell_type": "code",
      "execution_count": 10,
      "metadata": {
        "colab": {
          "base_uri": "https://localhost:8080/",
          "height": 676
        },
        "id": "PNtRGtVIvuzw",
        "outputId": "37899fa3-fee2-4197-bdb4-8056716aa043"
      },
      "outputs": [
        {
          "data": {
            "application/vnd.microsoft.datawrangler.viewer.v0+json": {
              "columns": [
                {
                  "name": "index",
                  "rawType": "int64",
                  "type": "integer"
                },
                {
                  "name": "Quarter",
                  "rawType": "object",
                  "type": "string"
                },
                {
                  "name": "%Growth",
                  "rawType": "float64",
                  "type": "float"
                }
              ],
              "conversionMethod": "pd.DataFrame",
              "ref": "07009f56-f6c7-4ea2-b71e-4e2bde4047c5",
              "rows": [
                [
                  "0",
                  "Q1 2020",
                  "3.21"
                ],
                [
                  "1",
                  "Q2 2020",
                  "0.39"
                ],
                [
                  "2",
                  "Q3 2020",
                  "2.69"
                ],
                [
                  "3",
                  "Q4 2020",
                  "4.48"
                ],
                [
                  "4",
                  "Q1 2021",
                  "4.72"
                ],
                [
                  "5",
                  "Q2 2021",
                  "6.73"
                ],
                [
                  "6",
                  "Q3 2021",
                  "-6.02"
                ],
                [
                  "7",
                  "Q4 2021",
                  "5.22"
                ],
                [
                  "8",
                  "Q1 2022",
                  "5.05"
                ],
                [
                  "9",
                  "Q2 2022",
                  "7.99"
                ],
                [
                  "10",
                  "Q3 2022",
                  "13.71"
                ],
                [
                  "11",
                  "Q4 2022",
                  "5.92"
                ],
                [
                  "12",
                  "Q1 2023",
                  "3.41"
                ],
                [
                  "13",
                  "Q2 2023",
                  "4.25"
                ],
                [
                  "14",
                  "Q3 2023",
                  "5.47"
                ],
                [
                  "15",
                  "Q4 2023",
                  "6.72"
                ],
                [
                  "16",
                  "Q1 2024",
                  "5.98"
                ],
                [
                  "17",
                  "Q2 2024",
                  "7.25"
                ],
                [
                  "18",
                  "Q3 2024",
                  "7.43"
                ],
                [
                  "19",
                  "Q4 2024",
                  "7.55"
                ]
              ],
              "shape": {
                "columns": 2,
                "rows": 20
              }
            },
            "text/html": [
              "<div>\n",
              "<style scoped>\n",
              "    .dataframe tbody tr th:only-of-type {\n",
              "        vertical-align: middle;\n",
              "    }\n",
              "\n",
              "    .dataframe tbody tr th {\n",
              "        vertical-align: top;\n",
              "    }\n",
              "\n",
              "    .dataframe thead th {\n",
              "        text-align: right;\n",
              "    }\n",
              "</style>\n",
              "<table border=\"1\" class=\"dataframe\">\n",
              "  <thead>\n",
              "    <tr style=\"text-align: right;\">\n",
              "      <th></th>\n",
              "      <th>Quarter</th>\n",
              "      <th>%Growth</th>\n",
              "    </tr>\n",
              "  </thead>\n",
              "  <tbody>\n",
              "    <tr>\n",
              "      <th>0</th>\n",
              "      <td>Q1 2020</td>\n",
              "      <td>3.21</td>\n",
              "    </tr>\n",
              "    <tr>\n",
              "      <th>1</th>\n",
              "      <td>Q2 2020</td>\n",
              "      <td>0.39</td>\n",
              "    </tr>\n",
              "    <tr>\n",
              "      <th>2</th>\n",
              "      <td>Q3 2020</td>\n",
              "      <td>2.69</td>\n",
              "    </tr>\n",
              "    <tr>\n",
              "      <th>3</th>\n",
              "      <td>Q4 2020</td>\n",
              "      <td>4.48</td>\n",
              "    </tr>\n",
              "    <tr>\n",
              "      <th>4</th>\n",
              "      <td>Q1 2021</td>\n",
              "      <td>4.72</td>\n",
              "    </tr>\n",
              "    <tr>\n",
              "      <th>5</th>\n",
              "      <td>Q2 2021</td>\n",
              "      <td>6.73</td>\n",
              "    </tr>\n",
              "    <tr>\n",
              "      <th>6</th>\n",
              "      <td>Q3 2021</td>\n",
              "      <td>-6.02</td>\n",
              "    </tr>\n",
              "    <tr>\n",
              "      <th>7</th>\n",
              "      <td>Q4 2021</td>\n",
              "      <td>5.22</td>\n",
              "    </tr>\n",
              "    <tr>\n",
              "      <th>8</th>\n",
              "      <td>Q1 2022</td>\n",
              "      <td>5.05</td>\n",
              "    </tr>\n",
              "    <tr>\n",
              "      <th>9</th>\n",
              "      <td>Q2 2022</td>\n",
              "      <td>7.99</td>\n",
              "    </tr>\n",
              "    <tr>\n",
              "      <th>10</th>\n",
              "      <td>Q3 2022</td>\n",
              "      <td>13.71</td>\n",
              "    </tr>\n",
              "    <tr>\n",
              "      <th>11</th>\n",
              "      <td>Q4 2022</td>\n",
              "      <td>5.92</td>\n",
              "    </tr>\n",
              "    <tr>\n",
              "      <th>12</th>\n",
              "      <td>Q1 2023</td>\n",
              "      <td>3.41</td>\n",
              "    </tr>\n",
              "    <tr>\n",
              "      <th>13</th>\n",
              "      <td>Q2 2023</td>\n",
              "      <td>4.25</td>\n",
              "    </tr>\n",
              "    <tr>\n",
              "      <th>14</th>\n",
              "      <td>Q3 2023</td>\n",
              "      <td>5.47</td>\n",
              "    </tr>\n",
              "    <tr>\n",
              "      <th>15</th>\n",
              "      <td>Q4 2023</td>\n",
              "      <td>6.72</td>\n",
              "    </tr>\n",
              "    <tr>\n",
              "      <th>16</th>\n",
              "      <td>Q1 2024</td>\n",
              "      <td>5.98</td>\n",
              "    </tr>\n",
              "    <tr>\n",
              "      <th>17</th>\n",
              "      <td>Q2 2024</td>\n",
              "      <td>7.25</td>\n",
              "    </tr>\n",
              "    <tr>\n",
              "      <th>18</th>\n",
              "      <td>Q3 2024</td>\n",
              "      <td>7.43</td>\n",
              "    </tr>\n",
              "    <tr>\n",
              "      <th>19</th>\n",
              "      <td>Q4 2024</td>\n",
              "      <td>7.55</td>\n",
              "    </tr>\n",
              "  </tbody>\n",
              "</table>\n",
              "</div>"
            ],
            "text/plain": [
              "    Quarter  %Growth\n",
              "0   Q1 2020     3.21\n",
              "1   Q2 2020     0.39\n",
              "2   Q3 2020     2.69\n",
              "3   Q4 2020     4.48\n",
              "4   Q1 2021     4.72\n",
              "5   Q2 2021     6.73\n",
              "6   Q3 2021    -6.02\n",
              "7   Q4 2021     5.22\n",
              "8   Q1 2022     5.05\n",
              "9   Q2 2022     7.99\n",
              "10  Q3 2022    13.71\n",
              "11  Q4 2022     5.92\n",
              "12  Q1 2023     3.41\n",
              "13  Q2 2023     4.25\n",
              "14  Q3 2023     5.47\n",
              "15  Q4 2023     6.72\n",
              "16  Q1 2024     5.98\n",
              "17  Q2 2024     7.25\n",
              "18  Q3 2024     7.43\n",
              "19  Q4 2024     7.55"
            ]
          },
          "execution_count": 10,
          "metadata": {},
          "output_type": "execute_result"
        }
      ],
      "source": [
        "# Add GDP data in\n",
        "gdp = pd.read_csv('gdp.csv', parse_dates=[\"Quarter\"])\n",
        "gdp"
      ]
    },
    {
      "cell_type": "code",
      "execution_count": 11,
      "metadata": {
        "id": "5tZLGePbwBTV"
      },
      "outputs": [],
      "source": [
        "# Convert quarter of GDP dataset back to datetimelike\n",
        "gdp['Quarter'] = gdp['Quarter'].astype(str)\n",
        "gdp['Quarter'] = gdp['Quarter'].str.replace('Q1', '-01-01', regex=True)\\\n",
        "                                .str.replace('Q2', '-04-01', regex=True)\\\n",
        "                                .str.replace('Q3', '-07-01', regex=True)\\\n",
        "                                .str.replace('Q4', '-10-01', regex=True)"
      ]
    },
    {
      "cell_type": "code",
      "execution_count": 12,
      "metadata": {
        "colab": {
          "base_uri": "https://localhost:8080/",
          "height": 676
        },
        "id": "NeXkChYtw2L7",
        "outputId": "6490b783-34e4-4f5f-a126-6614fa45bd2b"
      },
      "outputs": [
        {
          "data": {
            "application/vnd.microsoft.datawrangler.viewer.v0+json": {
              "columns": [
                {
                  "name": "index",
                  "rawType": "int64",
                  "type": "integer"
                },
                {
                  "name": "Quarter",
                  "rawType": "datetime64[ns]",
                  "type": "datetime"
                },
                {
                  "name": "%Growth",
                  "rawType": "float64",
                  "type": "float"
                }
              ],
              "conversionMethod": "pd.DataFrame",
              "ref": "74a56e77-a287-42df-8492-b6cd8498286a",
              "rows": [
                [
                  "0",
                  "2020-01-01 00:00:00",
                  "3.21"
                ],
                [
                  "1",
                  "2020-04-01 00:00:00",
                  "0.39"
                ],
                [
                  "2",
                  "2020-07-01 00:00:00",
                  "2.69"
                ],
                [
                  "3",
                  "2020-10-01 00:00:00",
                  "4.48"
                ],
                [
                  "4",
                  "2021-01-01 00:00:00",
                  "4.72"
                ],
                [
                  "5",
                  "2021-04-01 00:00:00",
                  "6.73"
                ],
                [
                  "6",
                  "2021-07-01 00:00:00",
                  "-6.02"
                ],
                [
                  "7",
                  "2021-10-01 00:00:00",
                  "5.22"
                ],
                [
                  "8",
                  "2022-01-01 00:00:00",
                  "5.05"
                ],
                [
                  "9",
                  "2022-04-01 00:00:00",
                  "7.99"
                ],
                [
                  "10",
                  "2022-07-01 00:00:00",
                  "13.71"
                ],
                [
                  "11",
                  "2022-10-01 00:00:00",
                  "5.92"
                ],
                [
                  "12",
                  "2023-01-01 00:00:00",
                  "3.41"
                ],
                [
                  "13",
                  "2023-04-01 00:00:00",
                  "4.25"
                ],
                [
                  "14",
                  "2023-07-01 00:00:00",
                  "5.47"
                ],
                [
                  "15",
                  "2023-10-01 00:00:00",
                  "6.72"
                ],
                [
                  "16",
                  "2024-01-01 00:00:00",
                  "5.98"
                ],
                [
                  "17",
                  "2024-04-01 00:00:00",
                  "7.25"
                ],
                [
                  "18",
                  "2024-07-01 00:00:00",
                  "7.43"
                ],
                [
                  "19",
                  "2024-10-01 00:00:00",
                  "7.55"
                ]
              ],
              "shape": {
                "columns": 2,
                "rows": 20
              }
            },
            "text/html": [
              "<div>\n",
              "<style scoped>\n",
              "    .dataframe tbody tr th:only-of-type {\n",
              "        vertical-align: middle;\n",
              "    }\n",
              "\n",
              "    .dataframe tbody tr th {\n",
              "        vertical-align: top;\n",
              "    }\n",
              "\n",
              "    .dataframe thead th {\n",
              "        text-align: right;\n",
              "    }\n",
              "</style>\n",
              "<table border=\"1\" class=\"dataframe\">\n",
              "  <thead>\n",
              "    <tr style=\"text-align: right;\">\n",
              "      <th></th>\n",
              "      <th>Quarter</th>\n",
              "      <th>%Growth</th>\n",
              "    </tr>\n",
              "  </thead>\n",
              "  <tbody>\n",
              "    <tr>\n",
              "      <th>0</th>\n",
              "      <td>2020-01-01</td>\n",
              "      <td>3.21</td>\n",
              "    </tr>\n",
              "    <tr>\n",
              "      <th>1</th>\n",
              "      <td>2020-04-01</td>\n",
              "      <td>0.39</td>\n",
              "    </tr>\n",
              "    <tr>\n",
              "      <th>2</th>\n",
              "      <td>2020-07-01</td>\n",
              "      <td>2.69</td>\n",
              "    </tr>\n",
              "    <tr>\n",
              "      <th>3</th>\n",
              "      <td>2020-10-01</td>\n",
              "      <td>4.48</td>\n",
              "    </tr>\n",
              "    <tr>\n",
              "      <th>4</th>\n",
              "      <td>2021-01-01</td>\n",
              "      <td>4.72</td>\n",
              "    </tr>\n",
              "    <tr>\n",
              "      <th>5</th>\n",
              "      <td>2021-04-01</td>\n",
              "      <td>6.73</td>\n",
              "    </tr>\n",
              "    <tr>\n",
              "      <th>6</th>\n",
              "      <td>2021-07-01</td>\n",
              "      <td>-6.02</td>\n",
              "    </tr>\n",
              "    <tr>\n",
              "      <th>7</th>\n",
              "      <td>2021-10-01</td>\n",
              "      <td>5.22</td>\n",
              "    </tr>\n",
              "    <tr>\n",
              "      <th>8</th>\n",
              "      <td>2022-01-01</td>\n",
              "      <td>5.05</td>\n",
              "    </tr>\n",
              "    <tr>\n",
              "      <th>9</th>\n",
              "      <td>2022-04-01</td>\n",
              "      <td>7.99</td>\n",
              "    </tr>\n",
              "    <tr>\n",
              "      <th>10</th>\n",
              "      <td>2022-07-01</td>\n",
              "      <td>13.71</td>\n",
              "    </tr>\n",
              "    <tr>\n",
              "      <th>11</th>\n",
              "      <td>2022-10-01</td>\n",
              "      <td>5.92</td>\n",
              "    </tr>\n",
              "    <tr>\n",
              "      <th>12</th>\n",
              "      <td>2023-01-01</td>\n",
              "      <td>3.41</td>\n",
              "    </tr>\n",
              "    <tr>\n",
              "      <th>13</th>\n",
              "      <td>2023-04-01</td>\n",
              "      <td>4.25</td>\n",
              "    </tr>\n",
              "    <tr>\n",
              "      <th>14</th>\n",
              "      <td>2023-07-01</td>\n",
              "      <td>5.47</td>\n",
              "    </tr>\n",
              "    <tr>\n",
              "      <th>15</th>\n",
              "      <td>2023-10-01</td>\n",
              "      <td>6.72</td>\n",
              "    </tr>\n",
              "    <tr>\n",
              "      <th>16</th>\n",
              "      <td>2024-01-01</td>\n",
              "      <td>5.98</td>\n",
              "    </tr>\n",
              "    <tr>\n",
              "      <th>17</th>\n",
              "      <td>2024-04-01</td>\n",
              "      <td>7.25</td>\n",
              "    </tr>\n",
              "    <tr>\n",
              "      <th>18</th>\n",
              "      <td>2024-07-01</td>\n",
              "      <td>7.43</td>\n",
              "    </tr>\n",
              "    <tr>\n",
              "      <th>19</th>\n",
              "      <td>2024-10-01</td>\n",
              "      <td>7.55</td>\n",
              "    </tr>\n",
              "  </tbody>\n",
              "</table>\n",
              "</div>"
            ],
            "text/plain": [
              "      Quarter  %Growth\n",
              "0  2020-01-01     3.21\n",
              "1  2020-04-01     0.39\n",
              "2  2020-07-01     2.69\n",
              "3  2020-10-01     4.48\n",
              "4  2021-01-01     4.72\n",
              "5  2021-04-01     6.73\n",
              "6  2021-07-01    -6.02\n",
              "7  2021-10-01     5.22\n",
              "8  2022-01-01     5.05\n",
              "9  2022-04-01     7.99\n",
              "10 2022-07-01    13.71\n",
              "11 2022-10-01     5.92\n",
              "12 2023-01-01     3.41\n",
              "13 2023-04-01     4.25\n",
              "14 2023-07-01     5.47\n",
              "15 2023-10-01     6.72\n",
              "16 2024-01-01     5.98\n",
              "17 2024-04-01     7.25\n",
              "18 2024-07-01     7.43\n",
              "19 2024-10-01     7.55"
            ]
          },
          "execution_count": 12,
          "metadata": {},
          "output_type": "execute_result"
        }
      ],
      "source": [
        "gdp['Quarter'] = pd.to_datetime(gdp['Quarter'], errors='coerce')\n",
        "gdp"
      ]
    },
    {
      "cell_type": "code",
      "execution_count": 13,
      "metadata": {
        "colab": {
          "base_uri": "https://localhost:8080/",
          "height": 423
        },
        "id": "KCGxkZACxFZ2",
        "outputId": "2f0dfdda-e5f0-4d81-f350-51f446f15d8f"
      },
      "outputs": [
        {
          "data": {
            "application/vnd.microsoft.datawrangler.viewer.v0+json": {
              "columns": [
                {
                  "name": "index",
                  "rawType": "int64",
                  "type": "integer"
                },
                {
                  "name": "Date",
                  "rawType": "datetime64[ns]",
                  "type": "datetime"
                },
                {
                  "name": "Quarter",
                  "rawType": "datetime64[ns]",
                  "type": "datetime"
                },
                {
                  "name": "%Growth",
                  "rawType": "float64",
                  "type": "float"
                },
                {
                  "name": "Daily growth",
                  "rawType": "float64",
                  "type": "float"
                },
                {
                  "name": "GDP_Index",
                  "rawType": "float64",
                  "type": "float"
                }
              ],
              "conversionMethod": "pd.DataFrame",
              "ref": "62aebc0b-e4ae-4a1e-a8a2-20e058f632b1",
              "rows": [
                [
                  "0",
                  "2020-01-31 00:00:00",
                  null,
                  "0.0039000000000000003",
                  "4.324905239270948e-05",
                  "100.00432499876464"
                ],
                [
                  "1",
                  "2020-02-01 00:00:00",
                  null,
                  "0.0039000000000000003",
                  "4.324905239270948e-05",
                  "100.00865018458545"
                ],
                [
                  "2",
                  "2020-02-02 00:00:00",
                  null,
                  "0.0039000000000000003",
                  "4.324905239270948e-05",
                  "100.01297555747047"
                ],
                [
                  "3",
                  "2020-02-03 00:00:00",
                  null,
                  "0.0039000000000000003",
                  "4.324905239270948e-05",
                  "100.01730111742779"
                ],
                [
                  "4",
                  "2020-02-04 00:00:00",
                  null,
                  "0.0039000000000000003",
                  "4.324905239270948e-05",
                  "100.02162686446556"
                ],
                [
                  "5",
                  "2020-02-05 00:00:00",
                  null,
                  "0.0039000000000000003",
                  "4.324905239270948e-05",
                  "100.02595279859183"
                ],
                [
                  "6",
                  "2020-02-06 00:00:00",
                  null,
                  "0.0039000000000000003",
                  "4.324905239270948e-05",
                  "100.03027891981469"
                ],
                [
                  "7",
                  "2020-02-07 00:00:00",
                  null,
                  "0.0039000000000000003",
                  "4.324905239270948e-05",
                  "100.03460522814225"
                ],
                [
                  "8",
                  "2020-02-08 00:00:00",
                  null,
                  "0.0039000000000000003",
                  "4.324905239270948e-05",
                  "100.03893172358258"
                ],
                [
                  "9",
                  "2020-02-09 00:00:00",
                  null,
                  "0.0039000000000000003",
                  "4.324905239270948e-05",
                  "100.04325840614379"
                ],
                [
                  "10",
                  "2020-02-10 00:00:00",
                  null,
                  "0.0039000000000000003",
                  "4.324905239270948e-05",
                  "100.04758527583397"
                ],
                [
                  "11",
                  "2020-02-11 00:00:00",
                  null,
                  "0.0039000000000000003",
                  "4.324905239270948e-05",
                  "100.05191233266122"
                ],
                [
                  "12",
                  "2020-02-12 00:00:00",
                  null,
                  "0.0039000000000000003",
                  "4.324905239270948e-05",
                  "100.05623957663362"
                ],
                [
                  "13",
                  "2020-02-13 00:00:00",
                  null,
                  "0.0039000000000000003",
                  "4.324905239270948e-05",
                  "100.06056700775925"
                ],
                [
                  "14",
                  "2020-02-14 00:00:00",
                  null,
                  "0.0039000000000000003",
                  "4.324905239270948e-05",
                  "100.06489462604623"
                ],
                [
                  "15",
                  "2020-02-15 00:00:00",
                  null,
                  "0.0039000000000000003",
                  "4.324905239270948e-05",
                  "100.06922243150265"
                ],
                [
                  "16",
                  "2020-02-16 00:00:00",
                  null,
                  "0.0039000000000000003",
                  "4.324905239270948e-05",
                  "100.0735504241366"
                ],
                [
                  "17",
                  "2020-02-17 00:00:00",
                  null,
                  "0.0039000000000000003",
                  "4.324905239270948e-05",
                  "100.07787860395618"
                ],
                [
                  "18",
                  "2020-02-18 00:00:00",
                  null,
                  "0.0039000000000000003",
                  "4.324905239270948e-05",
                  "100.08220697096948"
                ],
                [
                  "19",
                  "2020-02-19 00:00:00",
                  null,
                  "0.0039000000000000003",
                  "4.324905239270948e-05",
                  "100.0865355251846"
                ],
                [
                  "20",
                  "2020-02-20 00:00:00",
                  null,
                  "0.0039000000000000003",
                  "4.324905239270948e-05",
                  "100.09086426660964"
                ],
                [
                  "21",
                  "2020-02-21 00:00:00",
                  null,
                  "0.0039000000000000003",
                  "4.324905239270948e-05",
                  "100.0951931952527"
                ],
                [
                  "22",
                  "2020-02-22 00:00:00",
                  null,
                  "0.0039000000000000003",
                  "4.324905239270948e-05",
                  "100.09952231112187"
                ],
                [
                  "23",
                  "2020-02-23 00:00:00",
                  null,
                  "0.0039000000000000003",
                  "4.324905239270948e-05",
                  "100.10385161422523"
                ],
                [
                  "24",
                  "2020-02-24 00:00:00",
                  null,
                  "0.0039000000000000003",
                  "4.324905239270948e-05",
                  "100.10818110457092"
                ],
                [
                  "25",
                  "2020-02-25 00:00:00",
                  null,
                  "0.0039000000000000003",
                  "4.324905239270948e-05",
                  "100.112510782167"
                ],
                [
                  "26",
                  "2020-02-26 00:00:00",
                  null,
                  "0.0039000000000000003",
                  "4.324905239270948e-05",
                  "100.1168406470216"
                ],
                [
                  "27",
                  "2020-02-27 00:00:00",
                  null,
                  "0.0039000000000000003",
                  "4.324905239270948e-05",
                  "100.12117069914277"
                ],
                [
                  "28",
                  "2020-02-28 00:00:00",
                  null,
                  "0.0039000000000000003",
                  "4.324905239270948e-05",
                  "100.12550093853866"
                ],
                [
                  "29",
                  "2020-02-29 00:00:00",
                  null,
                  "0.0039000000000000003",
                  "4.324905239270948e-05",
                  "100.12983136521736"
                ],
                [
                  "30",
                  "2020-03-01 00:00:00",
                  null,
                  "0.0039000000000000003",
                  "4.324905239270948e-05",
                  "100.13416197918694"
                ],
                [
                  "31",
                  "2020-03-02 00:00:00",
                  null,
                  "0.0039000000000000003",
                  "4.324905239270948e-05",
                  "100.13849278045552"
                ],
                [
                  "32",
                  "2020-03-03 00:00:00",
                  null,
                  "0.0039000000000000003",
                  "4.324905239270948e-05",
                  "100.14282376903121"
                ],
                [
                  "33",
                  "2020-03-04 00:00:00",
                  null,
                  "0.0039000000000000003",
                  "4.324905239270948e-05",
                  "100.14715494492211"
                ],
                [
                  "34",
                  "2020-03-05 00:00:00",
                  null,
                  "0.0039000000000000003",
                  "4.324905239270948e-05",
                  "100.1514863081363"
                ],
                [
                  "35",
                  "2020-03-06 00:00:00",
                  null,
                  "0.0039000000000000003",
                  "4.324905239270948e-05",
                  "100.1558178586819"
                ],
                [
                  "36",
                  "2020-03-07 00:00:00",
                  null,
                  "0.0039000000000000003",
                  "4.324905239270948e-05",
                  "100.16014959656701"
                ],
                [
                  "37",
                  "2020-03-08 00:00:00",
                  null,
                  "0.0039000000000000003",
                  "4.324905239270948e-05",
                  "100.16448152179973"
                ],
                [
                  "38",
                  "2020-03-09 00:00:00",
                  null,
                  "0.0039000000000000003",
                  "4.324905239270948e-05",
                  "100.16881363438816"
                ],
                [
                  "39",
                  "2020-03-10 00:00:00",
                  null,
                  "0.0039000000000000003",
                  "4.324905239270948e-05",
                  "100.17314593434041"
                ],
                [
                  "40",
                  "2020-03-11 00:00:00",
                  null,
                  "0.0039000000000000003",
                  "4.324905239270948e-05",
                  "100.17747842166457"
                ],
                [
                  "41",
                  "2020-03-12 00:00:00",
                  null,
                  "0.0039000000000000003",
                  "4.324905239270948e-05",
                  "100.18181109636876"
                ],
                [
                  "42",
                  "2020-03-13 00:00:00",
                  null,
                  "0.0039000000000000003",
                  "4.324905239270948e-05",
                  "100.18614395846109"
                ],
                [
                  "43",
                  "2020-03-14 00:00:00",
                  null,
                  "0.0039000000000000003",
                  "4.324905239270948e-05",
                  "100.19047700794962"
                ],
                [
                  "44",
                  "2020-03-15 00:00:00",
                  null,
                  "0.0039000000000000003",
                  "4.324905239270948e-05",
                  "100.19481024484251"
                ],
                [
                  "45",
                  "2020-03-16 00:00:00",
                  null,
                  "0.0039000000000000003",
                  "4.324905239270948e-05",
                  "100.19914366914786"
                ],
                [
                  "46",
                  "2020-03-17 00:00:00",
                  null,
                  "0.0039000000000000003",
                  "4.324905239270948e-05",
                  "100.20347728087373"
                ],
                [
                  "47",
                  "2020-03-18 00:00:00",
                  null,
                  "0.0039000000000000003",
                  "4.324905239270948e-05",
                  "100.20781108002825"
                ],
                [
                  "48",
                  "2020-03-19 00:00:00",
                  null,
                  "0.0039000000000000003",
                  "4.324905239270948e-05",
                  "100.21214506661956"
                ],
                [
                  "49",
                  "2020-03-20 00:00:00",
                  null,
                  "0.0039000000000000003",
                  "4.324905239270948e-05",
                  "100.21647924065572"
                ]
              ],
              "shape": {
                "columns": 5,
                "rows": 1811
              }
            },
            "text/html": [
              "<div>\n",
              "<style scoped>\n",
              "    .dataframe tbody tr th:only-of-type {\n",
              "        vertical-align: middle;\n",
              "    }\n",
              "\n",
              "    .dataframe tbody tr th {\n",
              "        vertical-align: top;\n",
              "    }\n",
              "\n",
              "    .dataframe thead th {\n",
              "        text-align: right;\n",
              "    }\n",
              "</style>\n",
              "<table border=\"1\" class=\"dataframe\">\n",
              "  <thead>\n",
              "    <tr style=\"text-align: right;\">\n",
              "      <th></th>\n",
              "      <th>Date</th>\n",
              "      <th>Quarter</th>\n",
              "      <th>%Growth</th>\n",
              "      <th>Daily growth</th>\n",
              "      <th>GDP_Index</th>\n",
              "    </tr>\n",
              "  </thead>\n",
              "  <tbody>\n",
              "    <tr>\n",
              "      <th>0</th>\n",
              "      <td>2020-01-31</td>\n",
              "      <td>NaT</td>\n",
              "      <td>0.0039</td>\n",
              "      <td>0.000043</td>\n",
              "      <td>100.004325</td>\n",
              "    </tr>\n",
              "    <tr>\n",
              "      <th>1</th>\n",
              "      <td>2020-02-01</td>\n",
              "      <td>NaT</td>\n",
              "      <td>0.0039</td>\n",
              "      <td>0.000043</td>\n",
              "      <td>100.008650</td>\n",
              "    </tr>\n",
              "    <tr>\n",
              "      <th>2</th>\n",
              "      <td>2020-02-02</td>\n",
              "      <td>NaT</td>\n",
              "      <td>0.0039</td>\n",
              "      <td>0.000043</td>\n",
              "      <td>100.012976</td>\n",
              "    </tr>\n",
              "    <tr>\n",
              "      <th>3</th>\n",
              "      <td>2020-02-03</td>\n",
              "      <td>NaT</td>\n",
              "      <td>0.0039</td>\n",
              "      <td>0.000043</td>\n",
              "      <td>100.017301</td>\n",
              "    </tr>\n",
              "    <tr>\n",
              "      <th>4</th>\n",
              "      <td>2020-02-04</td>\n",
              "      <td>NaT</td>\n",
              "      <td>0.0039</td>\n",
              "      <td>0.000043</td>\n",
              "      <td>100.021627</td>\n",
              "    </tr>\n",
              "    <tr>\n",
              "      <th>...</th>\n",
              "      <td>...</td>\n",
              "      <td>...</td>\n",
              "      <td>...</td>\n",
              "      <td>...</td>\n",
              "      <td>...</td>\n",
              "    </tr>\n",
              "    <tr>\n",
              "      <th>1806</th>\n",
              "      <td>2025-01-10</td>\n",
              "      <td>NaT</td>\n",
              "      <td>0.0755</td>\n",
              "      <td>0.000809</td>\n",
              "      <td>284.819317</td>\n",
              "    </tr>\n",
              "    <tr>\n",
              "      <th>1807</th>\n",
              "      <td>2025-01-11</td>\n",
              "      <td>NaT</td>\n",
              "      <td>0.0755</td>\n",
              "      <td>0.000809</td>\n",
              "      <td>285.049752</td>\n",
              "    </tr>\n",
              "    <tr>\n",
              "      <th>1808</th>\n",
              "      <td>2025-01-12</td>\n",
              "      <td>NaT</td>\n",
              "      <td>0.0755</td>\n",
              "      <td>0.000809</td>\n",
              "      <td>285.280374</td>\n",
              "    </tr>\n",
              "    <tr>\n",
              "      <th>1809</th>\n",
              "      <td>2025-01-13</td>\n",
              "      <td>NaT</td>\n",
              "      <td>0.0755</td>\n",
              "      <td>0.000809</td>\n",
              "      <td>285.511182</td>\n",
              "    </tr>\n",
              "    <tr>\n",
              "      <th>1810</th>\n",
              "      <td>2025-01-14</td>\n",
              "      <td>NaT</td>\n",
              "      <td>0.0755</td>\n",
              "      <td>0.000809</td>\n",
              "      <td>285.742176</td>\n",
              "    </tr>\n",
              "  </tbody>\n",
              "</table>\n",
              "<p>1811 rows × 5 columns</p>\n",
              "</div>"
            ],
            "text/plain": [
              "           Date Quarter  %Growth  Daily growth   GDP_Index\n",
              "0    2020-01-31     NaT   0.0039      0.000043  100.004325\n",
              "1    2020-02-01     NaT   0.0039      0.000043  100.008650\n",
              "2    2020-02-02     NaT   0.0039      0.000043  100.012976\n",
              "3    2020-02-03     NaT   0.0039      0.000043  100.017301\n",
              "4    2020-02-04     NaT   0.0039      0.000043  100.021627\n",
              "...         ...     ...      ...           ...         ...\n",
              "1806 2025-01-10     NaT   0.0755      0.000809  284.819317\n",
              "1807 2025-01-11     NaT   0.0755      0.000809  285.049752\n",
              "1808 2025-01-12     NaT   0.0755      0.000809  285.280374\n",
              "1809 2025-01-13     NaT   0.0755      0.000809  285.511182\n",
              "1810 2025-01-14     NaT   0.0755      0.000809  285.742176\n",
              "\n",
              "[1811 rows x 5 columns]"
            ]
          },
          "execution_count": 13,
          "metadata": {},
          "output_type": "execute_result"
        }
      ],
      "source": [
        "# Convert quarterly % growth to decimal\n",
        "gdp['%Growth'] = gdp['%Growth'] / 100\n",
        "\n",
        "# Create a full daily date range\n",
        "daily_dates = pd.date_range(start = dat_df.index.min(), end = dat_df.index.max(), freq = 'D')\n",
        "gdp_daily = pd.DataFrame({'Date': daily_dates})\n",
        "\n",
        "# Merge and forward-fill quarterly growth rates\n",
        "gdp_daily = gdp_daily.merge(gdp, left_on = 'Date', right_on = 'Quarter', how = 'left')\n",
        "gdp_daily['%Growth'] = gdp_daily['%Growth'].bfill().ffill()\n",
        "\n",
        "# Calculate daily growth rate assuming continuous compounding\n",
        "gdp_daily['Daily growth'] = np.log(1 + gdp_daily['%Growth']) / 90\n",
        "\n",
        "# Apply cumulative growth from a base value\n",
        "gdp_daily['GDP_Index'] = 100 * np.exp(gdp_daily['Daily growth'].cumsum())\n",
        "\n",
        "gdp_daily"
      ]
    },
    {
      "cell_type": "code",
      "execution_count": 14,
      "metadata": {
        "colab": {
          "base_uri": "https://localhost:8080/",
          "height": 237
        },
        "id": "8HFu2nts1JJ9",
        "outputId": "69775b68-a3de-4d0c-fc09-2f929b4c1ad9"
      },
      "outputs": [
        {
          "data": {
            "application/vnd.microsoft.datawrangler.viewer.v0+json": {
              "columns": [
                {
                  "name": "Date",
                  "rawType": "datetime64[ns]",
                  "type": "datetime"
                },
                {
                  "name": "High",
                  "rawType": "float64",
                  "type": "float"
                },
                {
                  "name": "Low",
                  "rawType": "float64",
                  "type": "float"
                },
                {
                  "name": "Open",
                  "rawType": "float64",
                  "type": "float"
                },
                {
                  "name": "Close",
                  "rawType": "float64",
                  "type": "float"
                },
                {
                  "name": "Volume",
                  "rawType": "int64",
                  "type": "integer"
                },
                {
                  "name": "SMA_200",
                  "rawType": "float64",
                  "type": "float"
                },
                {
                  "name": "RSI",
                  "rawType": "float64",
                  "type": "float"
                },
                {
                  "name": "STOCH",
                  "rawType": "float64",
                  "type": "float"
                },
                {
                  "name": "GDP_Index",
                  "rawType": "float64",
                  "type": "float"
                }
              ],
              "conversionMethod": "pd.DataFrame",
              "ref": "6697e104-5958-4707-85f4-4ed172755775",
              "rows": [
                [
                  "2020-01-31 00:00:00",
                  "18.55",
                  "18.55",
                  "18.55",
                  "18.55",
                  "10",
                  "17.11625",
                  "100.0",
                  "100.0",
                  "100.00432499876464"
                ],
                [
                  "2020-02-03 00:00:00",
                  "18.55",
                  "18.55",
                  "18.55",
                  "18.55",
                  "0",
                  "17.114",
                  "100.0",
                  "100.0",
                  "100.01730111742779"
                ],
                [
                  "2020-02-04 00:00:00",
                  "18.55",
                  "18.55",
                  "18.55",
                  "18.55",
                  "0",
                  "17.11175",
                  "100.0",
                  "100.0",
                  "100.02162686446556"
                ],
                [
                  "2020-02-05 00:00:00",
                  "18.55",
                  "18.55",
                  "18.55",
                  "18.55",
                  "0",
                  "17.107",
                  "100.0",
                  "100.0",
                  "100.02595279859183"
                ],
                [
                  "2020-02-06 00:00:00",
                  "18.55",
                  "18.55",
                  "18.55",
                  "18.55",
                  "0",
                  "17.109",
                  "100.0",
                  "100.0",
                  "100.03027891981469"
                ]
              ],
              "shape": {
                "columns": 9,
                "rows": 5
              }
            },
            "text/html": [
              "<div>\n",
              "<style scoped>\n",
              "    .dataframe tbody tr th:only-of-type {\n",
              "        vertical-align: middle;\n",
              "    }\n",
              "\n",
              "    .dataframe tbody tr th {\n",
              "        vertical-align: top;\n",
              "    }\n",
              "\n",
              "    .dataframe thead th {\n",
              "        text-align: right;\n",
              "    }\n",
              "</style>\n",
              "<table border=\"1\" class=\"dataframe\">\n",
              "  <thead>\n",
              "    <tr style=\"text-align: right;\">\n",
              "      <th></th>\n",
              "      <th>High</th>\n",
              "      <th>Low</th>\n",
              "      <th>Open</th>\n",
              "      <th>Close</th>\n",
              "      <th>Volume</th>\n",
              "      <th>SMA_200</th>\n",
              "      <th>RSI</th>\n",
              "      <th>STOCH</th>\n",
              "      <th>GDP_Index</th>\n",
              "    </tr>\n",
              "    <tr>\n",
              "      <th>Date</th>\n",
              "      <th></th>\n",
              "      <th></th>\n",
              "      <th></th>\n",
              "      <th></th>\n",
              "      <th></th>\n",
              "      <th></th>\n",
              "      <th></th>\n",
              "      <th></th>\n",
              "      <th></th>\n",
              "    </tr>\n",
              "  </thead>\n",
              "  <tbody>\n",
              "    <tr>\n",
              "      <th>2020-01-31</th>\n",
              "      <td>18.55</td>\n",
              "      <td>18.55</td>\n",
              "      <td>18.55</td>\n",
              "      <td>18.55</td>\n",
              "      <td>10</td>\n",
              "      <td>17.11625</td>\n",
              "      <td>100.0</td>\n",
              "      <td>100.0</td>\n",
              "      <td>100.004325</td>\n",
              "    </tr>\n",
              "    <tr>\n",
              "      <th>2020-02-03</th>\n",
              "      <td>18.55</td>\n",
              "      <td>18.55</td>\n",
              "      <td>18.55</td>\n",
              "      <td>18.55</td>\n",
              "      <td>0</td>\n",
              "      <td>17.11400</td>\n",
              "      <td>100.0</td>\n",
              "      <td>100.0</td>\n",
              "      <td>100.017301</td>\n",
              "    </tr>\n",
              "    <tr>\n",
              "      <th>2020-02-04</th>\n",
              "      <td>18.55</td>\n",
              "      <td>18.55</td>\n",
              "      <td>18.55</td>\n",
              "      <td>18.55</td>\n",
              "      <td>0</td>\n",
              "      <td>17.11175</td>\n",
              "      <td>100.0</td>\n",
              "      <td>100.0</td>\n",
              "      <td>100.021627</td>\n",
              "    </tr>\n",
              "    <tr>\n",
              "      <th>2020-02-05</th>\n",
              "      <td>18.55</td>\n",
              "      <td>18.55</td>\n",
              "      <td>18.55</td>\n",
              "      <td>18.55</td>\n",
              "      <td>0</td>\n",
              "      <td>17.10700</td>\n",
              "      <td>100.0</td>\n",
              "      <td>100.0</td>\n",
              "      <td>100.025953</td>\n",
              "    </tr>\n",
              "    <tr>\n",
              "      <th>2020-02-06</th>\n",
              "      <td>18.55</td>\n",
              "      <td>18.55</td>\n",
              "      <td>18.55</td>\n",
              "      <td>18.55</td>\n",
              "      <td>0</td>\n",
              "      <td>17.10900</td>\n",
              "      <td>100.0</td>\n",
              "      <td>100.0</td>\n",
              "      <td>100.030279</td>\n",
              "    </tr>\n",
              "  </tbody>\n",
              "</table>\n",
              "</div>"
            ],
            "text/plain": [
              "             High    Low   Open  Close  Volume   SMA_200    RSI  STOCH  \\\n",
              "Date                                                                     \n",
              "2020-01-31  18.55  18.55  18.55  18.55      10  17.11625  100.0  100.0   \n",
              "2020-02-03  18.55  18.55  18.55  18.55       0  17.11400  100.0  100.0   \n",
              "2020-02-04  18.55  18.55  18.55  18.55       0  17.11175  100.0  100.0   \n",
              "2020-02-05  18.55  18.55  18.55  18.55       0  17.10700  100.0  100.0   \n",
              "2020-02-06  18.55  18.55  18.55  18.55       0  17.10900  100.0  100.0   \n",
              "\n",
              "             GDP_Index  \n",
              "Date                    \n",
              "2020-01-31  100.004325  \n",
              "2020-02-03  100.017301  \n",
              "2020-02-04  100.021627  \n",
              "2020-02-05  100.025953  \n",
              "2020-02-06  100.030279  "
            ]
          },
          "execution_count": 14,
          "metadata": {},
          "output_type": "execute_result"
        }
      ],
      "source": [
        "# We use GDP index\n",
        "gdp_daily = gdp_daily[['Date', 'GDP_Index']]\n",
        "gdp_daily.set_index('Date', inplace = True)\n",
        "\n",
        "# Merge this with 6 datasets\n",
        "dat_df = dat_df.merge(gdp_daily, left_index = True, right_index = True)\n",
        "\n",
        "# View one to check\n",
        "dat_df.head()"
      ]
    },
    {
      "cell_type": "markdown",
      "metadata": {
        "id": "0qTGiKmh6P15"
      },
      "source": [
        "## **Interest rates**"
      ]
    },
    {
      "cell_type": "code",
      "execution_count": 15,
      "metadata": {
        "colab": {
          "base_uri": "https://localhost:8080/",
          "height": 206
        },
        "id": "OpeVMnB06LD3",
        "outputId": "1dd4ff84-3eaf-41db-9816-0c59ffd2eefc"
      },
      "outputs": [
        {
          "data": {
            "application/vnd.microsoft.datawrangler.viewer.v0+json": {
              "columns": [
                {
                  "name": "index",
                  "rawType": "int64",
                  "type": "integer"
                },
                {
                  "name": "Date",
                  "rawType": "datetime64[ns]",
                  "type": "datetime"
                },
                {
                  "name": "%",
                  "rawType": "float64",
                  "type": "float"
                }
              ],
              "conversionMethod": "pd.DataFrame",
              "ref": "13dc84f7-1f1b-4833-99c2-00783440d51c",
              "rows": [
                [
                  "0",
                  "2020-01-31 00:00:00",
                  "6.0"
                ],
                [
                  "1",
                  "2020-02-29 00:00:00",
                  "6.0"
                ],
                [
                  "2",
                  "2020-03-17 00:00:00",
                  "5.0"
                ],
                [
                  "3",
                  "2020-04-30 00:00:00",
                  "5.0"
                ],
                [
                  "4",
                  "2020-05-12 00:00:00",
                  "4.5"
                ]
              ],
              "shape": {
                "columns": 2,
                "rows": 5
              }
            },
            "text/html": [
              "<div>\n",
              "<style scoped>\n",
              "    .dataframe tbody tr th:only-of-type {\n",
              "        vertical-align: middle;\n",
              "    }\n",
              "\n",
              "    .dataframe tbody tr th {\n",
              "        vertical-align: top;\n",
              "    }\n",
              "\n",
              "    .dataframe thead th {\n",
              "        text-align: right;\n",
              "    }\n",
              "</style>\n",
              "<table border=\"1\" class=\"dataframe\">\n",
              "  <thead>\n",
              "    <tr style=\"text-align: right;\">\n",
              "      <th></th>\n",
              "      <th>Date</th>\n",
              "      <th>%</th>\n",
              "    </tr>\n",
              "  </thead>\n",
              "  <tbody>\n",
              "    <tr>\n",
              "      <th>0</th>\n",
              "      <td>2020-01-31</td>\n",
              "      <td>6.0</td>\n",
              "    </tr>\n",
              "    <tr>\n",
              "      <th>1</th>\n",
              "      <td>2020-02-29</td>\n",
              "      <td>6.0</td>\n",
              "    </tr>\n",
              "    <tr>\n",
              "      <th>2</th>\n",
              "      <td>2020-03-17</td>\n",
              "      <td>5.0</td>\n",
              "    </tr>\n",
              "    <tr>\n",
              "      <th>3</th>\n",
              "      <td>2020-04-30</td>\n",
              "      <td>5.0</td>\n",
              "    </tr>\n",
              "    <tr>\n",
              "      <th>4</th>\n",
              "      <td>2020-05-12</td>\n",
              "      <td>4.5</td>\n",
              "    </tr>\n",
              "  </tbody>\n",
              "</table>\n",
              "</div>"
            ],
            "text/plain": [
              "        Date    %\n",
              "0 2020-01-31  6.0\n",
              "1 2020-02-29  6.0\n",
              "2 2020-03-17  5.0\n",
              "3 2020-04-30  5.0\n",
              "4 2020-05-12  4.5"
            ]
          },
          "execution_count": 15,
          "metadata": {},
          "output_type": "execute_result"
        }
      ],
      "source": [
        "ir = pd.read_excel('ir.xlsx')\n",
        "ir.head()"
      ]
    },
    {
      "cell_type": "code",
      "execution_count": 16,
      "metadata": {
        "colab": {
          "base_uri": "https://localhost:8080/",
          "height": 478
        },
        "id": "E4rCdRpu7e6D",
        "outputId": "531dd580-7bb3-4d47-851b-e8bf0674ee8f"
      },
      "outputs": [
        {
          "data": {
            "application/vnd.microsoft.datawrangler.viewer.v0+json": {
              "columns": [
                {
                  "name": "index",
                  "rawType": "int64",
                  "type": "integer"
                },
                {
                  "name": "Date",
                  "rawType": "datetime64[ns]",
                  "type": "datetime"
                },
                {
                  "name": "Interest rates",
                  "rawType": "float64",
                  "type": "float"
                }
              ],
              "conversionMethod": "pd.DataFrame",
              "ref": "b4176932-3f07-4828-86b9-3a06cb363dfd",
              "rows": [
                [
                  "0",
                  "2020-01-31 00:00:00",
                  "6.0"
                ],
                [
                  "1",
                  "2020-02-01 00:00:00",
                  "6.0"
                ],
                [
                  "2",
                  "2020-02-02 00:00:00",
                  "6.0"
                ],
                [
                  "3",
                  "2020-02-03 00:00:00",
                  "6.0"
                ],
                [
                  "4",
                  "2020-02-04 00:00:00",
                  "6.0"
                ],
                [
                  "5",
                  "2020-02-05 00:00:00",
                  "6.0"
                ],
                [
                  "6",
                  "2020-02-06 00:00:00",
                  "6.0"
                ],
                [
                  "7",
                  "2020-02-07 00:00:00",
                  "6.0"
                ],
                [
                  "8",
                  "2020-02-08 00:00:00",
                  "6.0"
                ],
                [
                  "9",
                  "2020-02-09 00:00:00",
                  "6.0"
                ],
                [
                  "10",
                  "2020-02-10 00:00:00",
                  "6.0"
                ],
                [
                  "11",
                  "2020-02-11 00:00:00",
                  "6.0"
                ],
                [
                  "12",
                  "2020-02-12 00:00:00",
                  "6.0"
                ],
                [
                  "13",
                  "2020-02-13 00:00:00",
                  "6.0"
                ],
                [
                  "14",
                  "2020-02-14 00:00:00",
                  "6.0"
                ],
                [
                  "15",
                  "2020-02-15 00:00:00",
                  "6.0"
                ],
                [
                  "16",
                  "2020-02-16 00:00:00",
                  "6.0"
                ],
                [
                  "17",
                  "2020-02-17 00:00:00",
                  "6.0"
                ],
                [
                  "18",
                  "2020-02-18 00:00:00",
                  "6.0"
                ],
                [
                  "19",
                  "2020-02-19 00:00:00",
                  "6.0"
                ],
                [
                  "20",
                  "2020-02-20 00:00:00",
                  "6.0"
                ],
                [
                  "21",
                  "2020-02-21 00:00:00",
                  "6.0"
                ],
                [
                  "22",
                  "2020-02-22 00:00:00",
                  "6.0"
                ],
                [
                  "23",
                  "2020-02-23 00:00:00",
                  "6.0"
                ],
                [
                  "24",
                  "2020-02-24 00:00:00",
                  "6.0"
                ],
                [
                  "25",
                  "2020-02-25 00:00:00",
                  "6.0"
                ],
                [
                  "26",
                  "2020-02-26 00:00:00",
                  "6.0"
                ],
                [
                  "27",
                  "2020-02-27 00:00:00",
                  "6.0"
                ],
                [
                  "28",
                  "2020-02-28 00:00:00",
                  "6.0"
                ],
                [
                  "29",
                  "2020-02-29 00:00:00",
                  "6.0"
                ],
                [
                  "30",
                  "2020-03-01 00:00:00",
                  "5.9411764705882355"
                ],
                [
                  "31",
                  "2020-03-02 00:00:00",
                  "5.882352941176471"
                ],
                [
                  "32",
                  "2020-03-03 00:00:00",
                  "5.823529411764706"
                ],
                [
                  "33",
                  "2020-03-04 00:00:00",
                  "5.764705882352941"
                ],
                [
                  "34",
                  "2020-03-05 00:00:00",
                  "5.705882352941177"
                ],
                [
                  "35",
                  "2020-03-06 00:00:00",
                  "5.647058823529412"
                ],
                [
                  "36",
                  "2020-03-07 00:00:00",
                  "5.588235294117647"
                ],
                [
                  "37",
                  "2020-03-08 00:00:00",
                  "5.529411764705882"
                ],
                [
                  "38",
                  "2020-03-09 00:00:00",
                  "5.470588235294118"
                ],
                [
                  "39",
                  "2020-03-10 00:00:00",
                  "5.411764705882353"
                ],
                [
                  "40",
                  "2020-03-11 00:00:00",
                  "5.352941176470588"
                ],
                [
                  "41",
                  "2020-03-12 00:00:00",
                  "5.294117647058823"
                ],
                [
                  "42",
                  "2020-03-13 00:00:00",
                  "5.235294117647059"
                ],
                [
                  "43",
                  "2020-03-14 00:00:00",
                  "5.176470588235294"
                ],
                [
                  "44",
                  "2020-03-15 00:00:00",
                  "5.117647058823529"
                ],
                [
                  "45",
                  "2020-03-16 00:00:00",
                  "5.0588235294117645"
                ],
                [
                  "46",
                  "2020-03-17 00:00:00",
                  "5.0"
                ],
                [
                  "47",
                  "2020-03-18 00:00:00",
                  "5.0"
                ],
                [
                  "48",
                  "2020-03-19 00:00:00",
                  "5.0"
                ],
                [
                  "49",
                  "2020-03-20 00:00:00",
                  "5.0"
                ]
              ],
              "shape": {
                "columns": 2,
                "rows": 1811
              }
            },
            "text/html": [
              "<div>\n",
              "<style scoped>\n",
              "    .dataframe tbody tr th:only-of-type {\n",
              "        vertical-align: middle;\n",
              "    }\n",
              "\n",
              "    .dataframe tbody tr th {\n",
              "        vertical-align: top;\n",
              "    }\n",
              "\n",
              "    .dataframe thead th {\n",
              "        text-align: right;\n",
              "    }\n",
              "</style>\n",
              "<table border=\"1\" class=\"dataframe\">\n",
              "  <thead>\n",
              "    <tr style=\"text-align: right;\">\n",
              "      <th></th>\n",
              "      <th>Date</th>\n",
              "      <th>Interest rates</th>\n",
              "    </tr>\n",
              "  </thead>\n",
              "  <tbody>\n",
              "    <tr>\n",
              "      <th>0</th>\n",
              "      <td>2020-01-31</td>\n",
              "      <td>6.0</td>\n",
              "    </tr>\n",
              "    <tr>\n",
              "      <th>1</th>\n",
              "      <td>2020-02-01</td>\n",
              "      <td>6.0</td>\n",
              "    </tr>\n",
              "    <tr>\n",
              "      <th>2</th>\n",
              "      <td>2020-02-02</td>\n",
              "      <td>6.0</td>\n",
              "    </tr>\n",
              "    <tr>\n",
              "      <th>3</th>\n",
              "      <td>2020-02-03</td>\n",
              "      <td>6.0</td>\n",
              "    </tr>\n",
              "    <tr>\n",
              "      <th>4</th>\n",
              "      <td>2020-02-04</td>\n",
              "      <td>6.0</td>\n",
              "    </tr>\n",
              "    <tr>\n",
              "      <th>...</th>\n",
              "      <td>...</td>\n",
              "      <td>...</td>\n",
              "    </tr>\n",
              "    <tr>\n",
              "      <th>1806</th>\n",
              "      <td>2025-01-10</td>\n",
              "      <td>4.5</td>\n",
              "    </tr>\n",
              "    <tr>\n",
              "      <th>1807</th>\n",
              "      <td>2025-01-11</td>\n",
              "      <td>4.5</td>\n",
              "    </tr>\n",
              "    <tr>\n",
              "      <th>1808</th>\n",
              "      <td>2025-01-12</td>\n",
              "      <td>4.5</td>\n",
              "    </tr>\n",
              "    <tr>\n",
              "      <th>1809</th>\n",
              "      <td>2025-01-13</td>\n",
              "      <td>4.5</td>\n",
              "    </tr>\n",
              "    <tr>\n",
              "      <th>1810</th>\n",
              "      <td>2025-01-14</td>\n",
              "      <td>4.5</td>\n",
              "    </tr>\n",
              "  </tbody>\n",
              "</table>\n",
              "<p>1811 rows × 2 columns</p>\n",
              "</div>"
            ],
            "text/plain": [
              "           Date  Interest rates\n",
              "0    2020-01-31             6.0\n",
              "1    2020-02-01             6.0\n",
              "2    2020-02-02             6.0\n",
              "3    2020-02-03             6.0\n",
              "4    2020-02-04             6.0\n",
              "...         ...             ...\n",
              "1806 2025-01-10             4.5\n",
              "1807 2025-01-11             4.5\n",
              "1808 2025-01-12             4.5\n",
              "1809 2025-01-13             4.5\n",
              "1810 2025-01-14             4.5\n",
              "\n",
              "[1811 rows x 2 columns]"
            ]
          },
          "execution_count": 16,
          "metadata": {},
          "output_type": "execute_result"
        }
      ],
      "source": [
        "ir['Date'] = pd.to_datetime(ir['Date'])\n",
        "ir.rename(columns={\"%\": \"Interest rates\"}, inplace=True)\n",
        "# Create a full daily date range from min to max date\n",
        "daily_dates = pd.date_range(start=dat_df.index.min(), end=dat_df.index.max(), freq=\"D\")\n",
        "daily_ir = pd.DataFrame({\"Date\": daily_dates})\n",
        "\n",
        "# Merge and forward-fill quarterly growth rates\n",
        "daily_ir = daily_ir.merge(ir, on = 'Date', how=\"left\")\n",
        "\n",
        "# Calculate daily growth rate assuming continuous compounding\n",
        "daily_ir['Interest rates'] = daily_ir['Interest rates'].interpolate(method = 'linear')\n",
        "daily_ir['Interest rates'] = daily_ir['Interest rates'].fillna(method = 'bfill')\n",
        "\n",
        "daily_ir"
      ]
    },
    {
      "cell_type": "code",
      "execution_count": 17,
      "metadata": {
        "colab": {
          "base_uri": "https://localhost:8080/",
          "height": 237
        },
        "id": "cRXKbwsx8Mxt",
        "outputId": "3f0151ae-6de5-4e52-eebf-70b55bc6ba3e"
      },
      "outputs": [
        {
          "data": {
            "application/vnd.microsoft.datawrangler.viewer.v0+json": {
              "columns": [
                {
                  "name": "Date",
                  "rawType": "datetime64[ns]",
                  "type": "datetime"
                },
                {
                  "name": "High",
                  "rawType": "float64",
                  "type": "float"
                },
                {
                  "name": "Low",
                  "rawType": "float64",
                  "type": "float"
                },
                {
                  "name": "Open",
                  "rawType": "float64",
                  "type": "float"
                },
                {
                  "name": "Close",
                  "rawType": "float64",
                  "type": "float"
                },
                {
                  "name": "Volume",
                  "rawType": "int64",
                  "type": "integer"
                },
                {
                  "name": "SMA_200",
                  "rawType": "float64",
                  "type": "float"
                },
                {
                  "name": "RSI",
                  "rawType": "float64",
                  "type": "float"
                },
                {
                  "name": "STOCH",
                  "rawType": "float64",
                  "type": "float"
                },
                {
                  "name": "GDP_Index",
                  "rawType": "float64",
                  "type": "float"
                },
                {
                  "name": "Interest rates",
                  "rawType": "float64",
                  "type": "float"
                }
              ],
              "conversionMethod": "pd.DataFrame",
              "ref": "b8e7a103-31be-413a-af22-b5399e7860f6",
              "rows": [
                [
                  "2020-01-31 00:00:00",
                  "18.55",
                  "18.55",
                  "18.55",
                  "18.55",
                  "10",
                  "17.11625",
                  "100.0",
                  "100.0",
                  "100.00432499876464",
                  "6.0"
                ],
                [
                  "2020-02-03 00:00:00",
                  "18.55",
                  "18.55",
                  "18.55",
                  "18.55",
                  "0",
                  "17.114",
                  "100.0",
                  "100.0",
                  "100.01730111742779",
                  "6.0"
                ],
                [
                  "2020-02-04 00:00:00",
                  "18.55",
                  "18.55",
                  "18.55",
                  "18.55",
                  "0",
                  "17.11175",
                  "100.0",
                  "100.0",
                  "100.02162686446556",
                  "6.0"
                ],
                [
                  "2020-02-05 00:00:00",
                  "18.55",
                  "18.55",
                  "18.55",
                  "18.55",
                  "0",
                  "17.107",
                  "100.0",
                  "100.0",
                  "100.02595279859183",
                  "6.0"
                ],
                [
                  "2020-02-06 00:00:00",
                  "18.55",
                  "18.55",
                  "18.55",
                  "18.55",
                  "0",
                  "17.109",
                  "100.0",
                  "100.0",
                  "100.03027891981469",
                  "6.0"
                ]
              ],
              "shape": {
                "columns": 10,
                "rows": 5
              }
            },
            "text/html": [
              "<div>\n",
              "<style scoped>\n",
              "    .dataframe tbody tr th:only-of-type {\n",
              "        vertical-align: middle;\n",
              "    }\n",
              "\n",
              "    .dataframe tbody tr th {\n",
              "        vertical-align: top;\n",
              "    }\n",
              "\n",
              "    .dataframe thead th {\n",
              "        text-align: right;\n",
              "    }\n",
              "</style>\n",
              "<table border=\"1\" class=\"dataframe\">\n",
              "  <thead>\n",
              "    <tr style=\"text-align: right;\">\n",
              "      <th></th>\n",
              "      <th>High</th>\n",
              "      <th>Low</th>\n",
              "      <th>Open</th>\n",
              "      <th>Close</th>\n",
              "      <th>Volume</th>\n",
              "      <th>SMA_200</th>\n",
              "      <th>RSI</th>\n",
              "      <th>STOCH</th>\n",
              "      <th>GDP_Index</th>\n",
              "      <th>Interest rates</th>\n",
              "    </tr>\n",
              "    <tr>\n",
              "      <th>Date</th>\n",
              "      <th></th>\n",
              "      <th></th>\n",
              "      <th></th>\n",
              "      <th></th>\n",
              "      <th></th>\n",
              "      <th></th>\n",
              "      <th></th>\n",
              "      <th></th>\n",
              "      <th></th>\n",
              "      <th></th>\n",
              "    </tr>\n",
              "  </thead>\n",
              "  <tbody>\n",
              "    <tr>\n",
              "      <th>2020-01-31</th>\n",
              "      <td>18.55</td>\n",
              "      <td>18.55</td>\n",
              "      <td>18.55</td>\n",
              "      <td>18.55</td>\n",
              "      <td>10</td>\n",
              "      <td>17.11625</td>\n",
              "      <td>100.0</td>\n",
              "      <td>100.0</td>\n",
              "      <td>100.004325</td>\n",
              "      <td>6.0</td>\n",
              "    </tr>\n",
              "    <tr>\n",
              "      <th>2020-02-03</th>\n",
              "      <td>18.55</td>\n",
              "      <td>18.55</td>\n",
              "      <td>18.55</td>\n",
              "      <td>18.55</td>\n",
              "      <td>0</td>\n",
              "      <td>17.11400</td>\n",
              "      <td>100.0</td>\n",
              "      <td>100.0</td>\n",
              "      <td>100.017301</td>\n",
              "      <td>6.0</td>\n",
              "    </tr>\n",
              "    <tr>\n",
              "      <th>2020-02-04</th>\n",
              "      <td>18.55</td>\n",
              "      <td>18.55</td>\n",
              "      <td>18.55</td>\n",
              "      <td>18.55</td>\n",
              "      <td>0</td>\n",
              "      <td>17.11175</td>\n",
              "      <td>100.0</td>\n",
              "      <td>100.0</td>\n",
              "      <td>100.021627</td>\n",
              "      <td>6.0</td>\n",
              "    </tr>\n",
              "    <tr>\n",
              "      <th>2020-02-05</th>\n",
              "      <td>18.55</td>\n",
              "      <td>18.55</td>\n",
              "      <td>18.55</td>\n",
              "      <td>18.55</td>\n",
              "      <td>0</td>\n",
              "      <td>17.10700</td>\n",
              "      <td>100.0</td>\n",
              "      <td>100.0</td>\n",
              "      <td>100.025953</td>\n",
              "      <td>6.0</td>\n",
              "    </tr>\n",
              "    <tr>\n",
              "      <th>2020-02-06</th>\n",
              "      <td>18.55</td>\n",
              "      <td>18.55</td>\n",
              "      <td>18.55</td>\n",
              "      <td>18.55</td>\n",
              "      <td>0</td>\n",
              "      <td>17.10900</td>\n",
              "      <td>100.0</td>\n",
              "      <td>100.0</td>\n",
              "      <td>100.030279</td>\n",
              "      <td>6.0</td>\n",
              "    </tr>\n",
              "  </tbody>\n",
              "</table>\n",
              "</div>"
            ],
            "text/plain": [
              "             High    Low   Open  Close  Volume   SMA_200    RSI  STOCH  \\\n",
              "Date                                                                     \n",
              "2020-01-31  18.55  18.55  18.55  18.55      10  17.11625  100.0  100.0   \n",
              "2020-02-03  18.55  18.55  18.55  18.55       0  17.11400  100.0  100.0   \n",
              "2020-02-04  18.55  18.55  18.55  18.55       0  17.11175  100.0  100.0   \n",
              "2020-02-05  18.55  18.55  18.55  18.55       0  17.10700  100.0  100.0   \n",
              "2020-02-06  18.55  18.55  18.55  18.55       0  17.10900  100.0  100.0   \n",
              "\n",
              "             GDP_Index  Interest rates  \n",
              "Date                                    \n",
              "2020-01-31  100.004325             6.0  \n",
              "2020-02-03  100.017301             6.0  \n",
              "2020-02-04  100.021627             6.0  \n",
              "2020-02-05  100.025953             6.0  \n",
              "2020-02-06  100.030279             6.0  "
            ]
          },
          "execution_count": 17,
          "metadata": {},
          "output_type": "execute_result"
        }
      ],
      "source": [
        "# Merge with 6 datasets\n",
        "daily_ir.set_index('Date', inplace = True)\n",
        "\n",
        "dat_df = dat_df.merge(daily_ir, left_index = True, right_index = True)\n",
        "\n",
        "# View one to see\n",
        "dat_df.head()"
      ]
    },
    {
      "cell_type": "code",
      "execution_count": 18,
      "metadata": {
        "colab": {
          "base_uri": "https://localhost:8080/",
          "height": 237
        },
        "id": "QboUYvnI-V6l",
        "outputId": "3e583600-2017-4378-bcd1-fe11fa20b26b"
      },
      "outputs": [
        {
          "data": {
            "application/vnd.microsoft.datawrangler.viewer.v0+json": {
              "columns": [
                {
                  "name": "Date",
                  "rawType": "datetime64[ns]",
                  "type": "datetime"
                },
                {
                  "name": "Close",
                  "rawType": "float64",
                  "type": "float"
                },
                {
                  "name": "SMA_200",
                  "rawType": "float64",
                  "type": "float"
                },
                {
                  "name": "RSI",
                  "rawType": "float64",
                  "type": "float"
                },
                {
                  "name": "STOCH",
                  "rawType": "float64",
                  "type": "float"
                },
                {
                  "name": "GDP_Index",
                  "rawType": "float64",
                  "type": "float"
                },
                {
                  "name": "Interest rates",
                  "rawType": "float64",
                  "type": "float"
                }
              ],
              "conversionMethod": "pd.DataFrame",
              "ref": "bd5d9e92-9d96-4188-b159-48e57c5827cd",
              "rows": [
                [
                  "2020-01-31 00:00:00",
                  "18.55",
                  "17.11625",
                  "100.0",
                  "100.0",
                  "100.00432499876464",
                  "6.0"
                ],
                [
                  "2020-02-03 00:00:00",
                  "18.55",
                  "17.114",
                  "100.0",
                  "100.0",
                  "100.01730111742779",
                  "6.0"
                ],
                [
                  "2020-02-04 00:00:00",
                  "18.55",
                  "17.11175",
                  "100.0",
                  "100.0",
                  "100.02162686446556",
                  "6.0"
                ],
                [
                  "2020-02-05 00:00:00",
                  "18.55",
                  "17.107",
                  "100.0",
                  "100.0",
                  "100.02595279859183",
                  "6.0"
                ],
                [
                  "2020-02-06 00:00:00",
                  "18.55",
                  "17.109",
                  "100.0",
                  "100.0",
                  "100.03027891981469",
                  "6.0"
                ]
              ],
              "shape": {
                "columns": 6,
                "rows": 5
              }
            },
            "text/html": [
              "<div>\n",
              "<style scoped>\n",
              "    .dataframe tbody tr th:only-of-type {\n",
              "        vertical-align: middle;\n",
              "    }\n",
              "\n",
              "    .dataframe tbody tr th {\n",
              "        vertical-align: top;\n",
              "    }\n",
              "\n",
              "    .dataframe thead th {\n",
              "        text-align: right;\n",
              "    }\n",
              "</style>\n",
              "<table border=\"1\" class=\"dataframe\">\n",
              "  <thead>\n",
              "    <tr style=\"text-align: right;\">\n",
              "      <th></th>\n",
              "      <th>Close</th>\n",
              "      <th>SMA_200</th>\n",
              "      <th>RSI</th>\n",
              "      <th>STOCH</th>\n",
              "      <th>GDP_Index</th>\n",
              "      <th>Interest rates</th>\n",
              "    </tr>\n",
              "    <tr>\n",
              "      <th>Date</th>\n",
              "      <th></th>\n",
              "      <th></th>\n",
              "      <th></th>\n",
              "      <th></th>\n",
              "      <th></th>\n",
              "      <th></th>\n",
              "    </tr>\n",
              "  </thead>\n",
              "  <tbody>\n",
              "    <tr>\n",
              "      <th>2020-01-31</th>\n",
              "      <td>18.55</td>\n",
              "      <td>17.11625</td>\n",
              "      <td>100.0</td>\n",
              "      <td>100.0</td>\n",
              "      <td>100.004325</td>\n",
              "      <td>6.0</td>\n",
              "    </tr>\n",
              "    <tr>\n",
              "      <th>2020-02-03</th>\n",
              "      <td>18.55</td>\n",
              "      <td>17.11400</td>\n",
              "      <td>100.0</td>\n",
              "      <td>100.0</td>\n",
              "      <td>100.017301</td>\n",
              "      <td>6.0</td>\n",
              "    </tr>\n",
              "    <tr>\n",
              "      <th>2020-02-04</th>\n",
              "      <td>18.55</td>\n",
              "      <td>17.11175</td>\n",
              "      <td>100.0</td>\n",
              "      <td>100.0</td>\n",
              "      <td>100.021627</td>\n",
              "      <td>6.0</td>\n",
              "    </tr>\n",
              "    <tr>\n",
              "      <th>2020-02-05</th>\n",
              "      <td>18.55</td>\n",
              "      <td>17.10700</td>\n",
              "      <td>100.0</td>\n",
              "      <td>100.0</td>\n",
              "      <td>100.025953</td>\n",
              "      <td>6.0</td>\n",
              "    </tr>\n",
              "    <tr>\n",
              "      <th>2020-02-06</th>\n",
              "      <td>18.55</td>\n",
              "      <td>17.10900</td>\n",
              "      <td>100.0</td>\n",
              "      <td>100.0</td>\n",
              "      <td>100.030279</td>\n",
              "      <td>6.0</td>\n",
              "    </tr>\n",
              "  </tbody>\n",
              "</table>\n",
              "</div>"
            ],
            "text/plain": [
              "            Close   SMA_200    RSI  STOCH   GDP_Index  Interest rates\n",
              "Date                                                                 \n",
              "2020-01-31  18.55  17.11625  100.0  100.0  100.004325             6.0\n",
              "2020-02-03  18.55  17.11400  100.0  100.0  100.017301             6.0\n",
              "2020-02-04  18.55  17.11175  100.0  100.0  100.021627             6.0\n",
              "2020-02-05  18.55  17.10700  100.0  100.0  100.025953             6.0\n",
              "2020-02-06  18.55  17.10900  100.0  100.0  100.030279             6.0"
            ]
          },
          "execution_count": 18,
          "metadata": {},
          "output_type": "execute_result"
        }
      ],
      "source": [
        "# Drop unnecessary columns\n",
        "dat_df.drop(['High', 'Low', 'Open', 'Volume'], axis = 1, inplace = True)\n",
        "\n",
        "dat_df.head()"
      ]
    },
    {
      "cell_type": "markdown",
      "metadata": {
        "id": "Nj6rQcmD-i2G"
      },
      "source": [
        "# **ARIMAX models**"
      ]
    },
    {
      "cell_type": "code",
      "execution_count": 19,
      "metadata": {},
      "outputs": [],
      "source": [
        "# Define evaluation metrics\n",
        "def calculate_accuracy(real, predict):\n",
        "    return (1 - np.sqrt(np.mean(np.square((real - predict) / real)))) * 100\n",
        "\n",
        "def evaluate_performance(real, predict):\n",
        "    mse = mean_squared_error(real, predict)\n",
        "    rmse = np.sqrt(mse)\n",
        "    accuracy = calculate_accuracy(real, predict)\n",
        "    return mse, rmse, accuracy"
      ]
    },
    {
      "cell_type": "code",
      "execution_count": 20,
      "metadata": {},
      "outputs": [],
      "source": [
        "# Split data into train and test (80:20)\n",
        "train_size = int(len(dat_df) * 0.8)\n",
        "train, test = dat_df.iloc[:train_size], dat_df.iloc[train_size:]\n",
        "\n",
        "# Define target variable and exogenous features\n",
        "y_train, y_test = train['Close'], test['Close']\n",
        "exog_train = train[['SMA_200', 'RSI', 'STOCH', 'GDP_Index', 'Interest rates']]\n",
        "exog_test = test[['SMA_200', 'RSI', 'STOCH', 'GDP_Index', 'Interest rates']]"
      ]
    },
    {
      "cell_type": "code",
      "execution_count": 21,
      "metadata": {},
      "outputs": [
        {
          "name": "stdout",
          "output_type": "stream",
          "text": [
            "Best ARIMA Order: (1, 1, 1)\n",
            "                               SARIMAX Results                                \n",
            "==============================================================================\n",
            "Dep. Variable:                      y   No. Observations:                  994\n",
            "Model:               SARIMAX(1, 1, 1)   Log Likelihood               -1369.915\n",
            "Date:                Fri, 07 Mar 2025   AIC                           2745.831\n",
            "Time:                        02:10:13   BIC                           2760.533\n",
            "Sample:                             0   HQIC                          2751.420\n",
            "                                - 994                                         \n",
            "Covariance Type:                  opg                                         \n",
            "==============================================================================\n",
            "                 coef    std err          z      P>|z|      [0.025      0.975]\n",
            "------------------------------------------------------------------------------\n",
            "ar.L1          0.7447      0.018     42.239      0.000       0.710       0.779\n",
            "ma.L1         -0.4216      0.023    -18.579      0.000      -0.466      -0.377\n",
            "sigma2         0.9240      0.020     45.296      0.000       0.884       0.964\n",
            "===================================================================================\n",
            "Ljung-Box (L1) (Q):                   0.00   Jarque-Bera (JB):              7353.12\n",
            "Prob(Q):                              0.99   Prob(JB):                         0.00\n",
            "Heteroskedasticity (H):               0.06   Skew:                            -1.42\n",
            "Prob(H) (two-sided):                  0.00   Kurtosis:                        16.03\n",
            "===================================================================================\n",
            "\n",
            "Warnings:\n",
            "[1] Covariance matrix calculated using the outer product of gradients (complex-step).\n"
          ]
        }
      ],
      "source": [
        "# Use auto_arima to find the best (p, d, q) order\n",
        "auto_arima_model = auto_arima(y_train, exogenous=exog_train, seasonal=False, stepwise=True, suppress_warnings=True)\n",
        "best_order = auto_arima_model.order\n",
        "print(f\"Best ARIMA Order: {best_order}\")\n",
        "print(auto_arima_model.summary())"
      ]
    },
    {
      "cell_type": "code",
      "execution_count": 22,
      "metadata": {},
      "outputs": [
        {
          "name": "stdout",
          "output_type": "stream",
          "text": [
            "                               SARIMAX Results                                \n",
            "==============================================================================\n",
            "Dep. Variable:                  Close   No. Observations:                  994\n",
            "Model:               SARIMAX(1, 1, 1)   Log Likelihood               -1037.495\n",
            "Date:                Fri, 07 Mar 2025   AIC                           2090.991\n",
            "Time:                        02:10:14   BIC                           2130.180\n",
            "Sample:                             0   HQIC                          2105.892\n",
            "                                - 994                                         \n",
            "Covariance Type:                  opg                                         \n",
            "==================================================================================\n",
            "                     coef    std err          z      P>|z|      [0.025      0.975]\n",
            "----------------------------------------------------------------------------------\n",
            "SMA_200            3.1401      0.574      5.468      0.000       2.015       4.266\n",
            "RSI                0.1187      0.003     35.010      0.000       0.112       0.125\n",
            "STOCH              0.0014      0.002      0.853      0.394      -0.002       0.005\n",
            "GDP_Index          0.0045      0.320      0.014      0.989      -0.622       0.631\n",
            "Interest rates     0.1928      2.652      0.073      0.942      -5.005       5.391\n",
            "ar.L1              0.7961      0.013     61.584      0.000       0.771       0.821\n",
            "ma.L1             -0.3385      0.016    -21.531      0.000      -0.369      -0.308\n",
            "sigma2             0.4752      0.008     57.966      0.000       0.459       0.491\n",
            "===================================================================================\n",
            "Ljung-Box (L1) (Q):                   0.02   Jarque-Bera (JB):             65678.40\n",
            "Prob(Q):                              0.88   Prob(JB):                         0.00\n",
            "Heteroskedasticity (H):               0.12   Skew:                            -2.84\n",
            "Prob(H) (two-sided):                  0.00   Kurtosis:                        42.48\n",
            "===================================================================================\n",
            "\n",
            "Warnings:\n",
            "[1] Covariance matrix calculated using the outer product of gradients (complex-step).\n"
          ]
        }
      ],
      "source": [
        "# Fit SARIMAX model using the best order\n",
        "sarimax_model = SARIMAX(y_train, exog=exog_train, order=best_order, enforce_stationarity=False, enforce_invertibility=False)\n",
        "sarimax_result = sarimax_model.fit(disp=False)\n",
        "# Print model summary\n",
        "print(sarimax_result.summary())"
      ]
    },
    {
      "cell_type": "code",
      "execution_count": 23,
      "metadata": {},
      "outputs": [
        {
          "data": {
            "image/png": "[encoded data removed]",
            "text/plain": [
              "<Figure size 1200x600 with 1 Axes>"
            ]
          },
          "metadata": {},
          "output_type": "display_data"
        }
      ],
      "source": [
        "# Make predictions on the test set\n",
        "predictions = sarimax_result.predict(start=len(y_train), end=len(y_train) + len(y_test) - 1, exog=exog_test)\n",
        "\n",
        "# Visualization\n",
        "plt.figure(figsize=(12, 6))\n",
        "plt.plot(test.index, y_test, label=\"Actual\", color=\"skyblue\")\n",
        "plt.plot(test.index, predictions, label=\"Predicted\", color=\"orange\", linestyle=\"dashed\")\n",
        "plt.xlabel(\"Date\")\n",
        "plt.ylabel(\"Stock Price\")\n",
        "plt.title(\"ARIMAX Stock Price Prediction - DAT\")\n",
        "plt.legend()\n",
        "plt.grid()\n",
        "plt.show()"
      ]
    },
    {
      "cell_type": "code",
      "execution_count": 24,
      "metadata": {},
      "outputs": [],
      "source": [
        "predictions.index = y_test.index  # Assign y_test's index to predictions"
      ]
    },
    {
      "cell_type": "code",
      "execution_count": 25,
      "metadata": {},
      "outputs": [
        {
          "name": "stdout",
          "output_type": "stream",
          "text": [
            "MSE: 16.06\n",
            "RMSE: 4.01\n",
            "Accuracy: 49.64%\n"
          ]
        }
      ],
      "source": [
        "# Evaluate performance\n",
        "mse, rmse, accuracy = evaluate_performance(y_test, predictions)\n",
        "\n",
        "print(f\"MSE: {mse:.2f}\")\n",
        "print(f\"RMSE: {rmse:.2f}\")\n",
        "print(f\"Accuracy: {accuracy:.2f}%\")"
      ]
    }
  ],
  "metadata": {
    "colab": {
      "provenance": [],
      "toc_visible": true
    },
    "kernelspec": {
      "display_name": "tensorflow",
      "language": "python",
      "name": "python3"
    },
    "language_info": {
      "codemirror_mode": {
        "name": "ipython",
        "version": 3
      },
      "file_extension": ".py",
      "mimetype": "text/x-python",
      "name": "python",
      "nbconvert_exporter": "python",
      "pygments_lexer": "ipython3",
      "version": "3.12.4"
    }
  },
  "nbformat": 4,
  "nbformat_minor": 0
}
