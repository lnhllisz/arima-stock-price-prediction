{
  "cells": [
    {
      "cell_type": "markdown",
      "metadata": {
        "id": "8GaP9jxzhN9D"
      },
      "source": [
        "# **Packages needed**"
      ]
    },
    {
      "cell_type": "code",
      "execution_count": 124,
      "metadata": {
        "id": "mJevNczahMDw"
      },
      "outputs": [],
      "source": [
        "import yfinance as yf\n",
        "from datetime import datetime\n",
        "import pandas as pd\n",
        "import numpy as np\n",
        "import ta\n",
        "from sklearn.preprocessing import MinMaxScaler\n",
        "from sklearn.metrics import mean_squared_error, mean_absolute_percentage_error\n",
        "from sklearn.model_selection import train_test_split\n",
        "from statsmodels.tsa.statespace.sarimax import SARIMAX\n",
        "from pmdarima import auto_arima\n",
        "import matplotlib.pyplot as plt\n",
        "import warnings\n",
        "warnings.filterwarnings('ignore')"
      ]
    },
    {
      "cell_type": "markdown",
      "metadata": {
        "id": "ZnoVf9LqhT_S"
      },
      "source": [
        "# **Data needed**"
      ]
    },
    {
      "cell_type": "code",
      "execution_count": 125,
      "metadata": {
        "colab": {
          "base_uri": "https://localhost:8080/"
        },
        "id": "IqEFDUdb9PUJ",
        "outputId": "9c2bdf51-5c78-481f-c93c-a30028c680aa"
      },
      "outputs": [
        {
          "name": "stdout",
          "output_type": "stream",
          "text": [
            "         Date   High    Low   Open  Close  Volume\n",
            "0  06/03/2025  21.20  20.80  21.10  20.80  360200\n",
            "1  05/03/2025  21.20  20.45  20.50  21.10  846800\n",
            "2  04/03/2025  20.55  20.30  20.40  20.50  379200\n",
            "3  03/03/2025  20.45  20.20  20.40  20.40  361400\n",
            "4  28/02/2025  20.85  20.40  20.65  20.55  316800\n"
          ]
        }
      ],
      "source": [
        "naf_df = pd.read_csv('naf_df.csv')\n",
        "\n",
        "print(naf_df.head())\n"
      ]
    },
    {
      "cell_type": "code",
      "execution_count": 126,
      "metadata": {
        "colab": {
          "base_uri": "https://localhost:8080/"
        },
        "id": "SFxse0srLT9A",
        "outputId": "06de13ff-b80c-4a9c-b3c1-bd42aefeda2b"
      },
      "outputs": [
        {
          "name": "stdout",
          "output_type": "stream",
          "text": [
            "<class 'pandas.core.frame.DataFrame'>\n",
            "RangeIndex: 1500 entries, 0 to 1499\n",
            "Data columns (total 6 columns):\n",
            " #   Column  Non-Null Count  Dtype  \n",
            "---  ------  --------------  -----  \n",
            " 0   Date    1500 non-null   object \n",
            " 1   High    1500 non-null   float64\n",
            " 2   Low     1500 non-null   float64\n",
            " 3   Open    1500 non-null   float64\n",
            " 4   Close   1500 non-null   float64\n",
            " 5   Volume  1500 non-null   int64  \n",
            "dtypes: float64(4), int64(1), object(1)\n",
            "memory usage: 70.4+ KB\n",
            "None\n"
          ]
        }
      ],
      "source": [
        "# View basic information\n",
        "print(naf_df.info())"
      ]
    },
    {
      "cell_type": "code",
      "execution_count": 127,
      "metadata": {
        "colab": {
          "base_uri": "https://localhost:8080/",
          "height": 434
        },
        "id": "3sxepfNGLXVx",
        "outputId": "5fdc0474-52df-4863-91a8-e3d3ed9d53fa"
      },
      "outputs": [
        {
          "data": {
            "application/vnd.microsoft.datawrangler.viewer.v0+json": {
              "columns": [
                {
                  "name": "index",
                  "rawType": "int64",
                  "type": "integer"
                },
                {
                  "name": "Date",
                  "rawType": "datetime64[ns]",
                  "type": "datetime"
                },
                {
                  "name": "High",
                  "rawType": "float64",
                  "type": "float"
                },
                {
                  "name": "Low",
                  "rawType": "float64",
                  "type": "float"
                },
                {
                  "name": "Open",
                  "rawType": "float64",
                  "type": "float"
                },
                {
                  "name": "Close",
                  "rawType": "float64",
                  "type": "float"
                },
                {
                  "name": "Volume",
                  "rawType": "int64",
                  "type": "integer"
                }
              ],
              "conversionMethod": "pd.DataFrame",
              "ref": "ff908c2a-d670-4f71-99e9-8e2d69df6cbc",
              "rows": [
                [
                  "0",
                  "2025-03-06 00:00:00",
                  "21.2",
                  "20.8",
                  "21.1",
                  "20.8",
                  "360200"
                ],
                [
                  "1",
                  "2025-03-05 00:00:00",
                  "21.2",
                  "20.45",
                  "20.5",
                  "21.1",
                  "846800"
                ],
                [
                  "2",
                  "2025-03-04 00:00:00",
                  "20.55",
                  "20.3",
                  "20.4",
                  "20.5",
                  "379200"
                ],
                [
                  "3",
                  "2025-03-03 00:00:00",
                  "20.45",
                  "20.2",
                  "20.4",
                  "20.4",
                  "361400"
                ],
                [
                  "4",
                  "2025-02-28 00:00:00",
                  "20.85",
                  "20.4",
                  "20.65",
                  "20.55",
                  "316800"
                ]
              ],
              "shape": {
                "columns": 6,
                "rows": 5
              }
            },
            "text/html": [
              "<div>\n",
              "<style scoped>\n",
              "    .dataframe tbody tr th:only-of-type {\n",
              "        vertical-align: middle;\n",
              "    }\n",
              "\n",
              "    .dataframe tbody tr th {\n",
              "        vertical-align: top;\n",
              "    }\n",
              "\n",
              "    .dataframe thead th {\n",
              "        text-align: right;\n",
              "    }\n",
              "</style>\n",
              "<table border=\"1\" class=\"dataframe\">\n",
              "  <thead>\n",
              "    <tr style=\"text-align: right;\">\n",
              "      <th></th>\n",
              "      <th>Date</th>\n",
              "      <th>High</th>\n",
              "      <th>Low</th>\n",
              "      <th>Open</th>\n",
              "      <th>Close</th>\n",
              "      <th>Volume</th>\n",
              "    </tr>\n",
              "  </thead>\n",
              "  <tbody>\n",
              "    <tr>\n",
              "      <th>0</th>\n",
              "      <td>2025-03-06</td>\n",
              "      <td>21.20</td>\n",
              "      <td>20.80</td>\n",
              "      <td>21.10</td>\n",
              "      <td>20.80</td>\n",
              "      <td>360200</td>\n",
              "    </tr>\n",
              "    <tr>\n",
              "      <th>1</th>\n",
              "      <td>2025-03-05</td>\n",
              "      <td>21.20</td>\n",
              "      <td>20.45</td>\n",
              "      <td>20.50</td>\n",
              "      <td>21.10</td>\n",
              "      <td>846800</td>\n",
              "    </tr>\n",
              "    <tr>\n",
              "      <th>2</th>\n",
              "      <td>2025-03-04</td>\n",
              "      <td>20.55</td>\n",
              "      <td>20.30</td>\n",
              "      <td>20.40</td>\n",
              "      <td>20.50</td>\n",
              "      <td>379200</td>\n",
              "    </tr>\n",
              "    <tr>\n",
              "      <th>3</th>\n",
              "      <td>2025-03-03</td>\n",
              "      <td>20.45</td>\n",
              "      <td>20.20</td>\n",
              "      <td>20.40</td>\n",
              "      <td>20.40</td>\n",
              "      <td>361400</td>\n",
              "    </tr>\n",
              "    <tr>\n",
              "      <th>4</th>\n",
              "      <td>2025-02-28</td>\n",
              "      <td>20.85</td>\n",
              "      <td>20.40</td>\n",
              "      <td>20.65</td>\n",
              "      <td>20.55</td>\n",
              "      <td>316800</td>\n",
              "    </tr>\n",
              "  </tbody>\n",
              "</table>\n",
              "</div>"
            ],
            "text/plain": [
              "        Date   High    Low   Open  Close  Volume\n",
              "0 2025-03-06  21.20  20.80  21.10  20.80  360200\n",
              "1 2025-03-05  21.20  20.45  20.50  21.10  846800\n",
              "2 2025-03-04  20.55  20.30  20.40  20.50  379200\n",
              "3 2025-03-03  20.45  20.20  20.40  20.40  361400\n",
              "4 2025-02-28  20.85  20.40  20.65  20.55  316800"
            ]
          },
          "execution_count": 127,
          "metadata": {},
          "output_type": "execute_result"
        }
      ],
      "source": [
        "# Change all to datetimelike\n",
        "naf_df['Date'] = pd.to_datetime(naf_df['Date'], dayfirst=True)\n",
        "\n",
        "# View one of them to recheck\n",
        "naf_df.head()"
      ]
    },
    {
      "cell_type": "code",
      "execution_count": 128,
      "metadata": {
        "colab": {
          "base_uri": "https://localhost:8080/",
          "height": 206
        },
        "id": "NWZf26vUpxTp",
        "outputId": "c06b7f0f-99b8-4aa7-c68d-7ff7c486233b"
      },
      "outputs": [
        {
          "data": {
            "application/vnd.microsoft.datawrangler.viewer.v0+json": {
              "columns": [
                {
                  "name": "index",
                  "rawType": "int64",
                  "type": "integer"
                },
                {
                  "name": "Date",
                  "rawType": "datetime64[ns]",
                  "type": "datetime"
                },
                {
                  "name": "High",
                  "rawType": "float64",
                  "type": "float"
                },
                {
                  "name": "Low",
                  "rawType": "float64",
                  "type": "float"
                },
                {
                  "name": "Open",
                  "rawType": "float64",
                  "type": "float"
                },
                {
                  "name": "Close",
                  "rawType": "float64",
                  "type": "float"
                },
                {
                  "name": "Volume",
                  "rawType": "int64",
                  "type": "integer"
                }
              ],
              "conversionMethod": "pd.DataFrame",
              "ref": "9c587cd1-65e2-4468-9222-1262b0c4b074",
              "rows": [
                [
                  "1499",
                  "2019-03-06 00:00:00",
                  "15.5",
                  "15.15",
                  "15.3",
                  "15.5",
                  "80080"
                ],
                [
                  "1498",
                  "2019-03-07 00:00:00",
                  "15.6",
                  "15.3",
                  "15.5",
                  "15.6",
                  "157010"
                ],
                [
                  "1497",
                  "2019-03-08 00:00:00",
                  "15.5",
                  "15.2",
                  "15.5",
                  "15.2",
                  "103080"
                ],
                [
                  "1496",
                  "2019-03-11 00:00:00",
                  "15.5",
                  "15.2",
                  "15.2",
                  "15.5",
                  "59060"
                ],
                [
                  "1495",
                  "2019-03-12 00:00:00",
                  "15.5",
                  "15.2",
                  "15.5",
                  "15.2",
                  "71310"
                ]
              ],
              "shape": {
                "columns": 6,
                "rows": 5
              }
            },
            "text/html": [
              "<div>\n",
              "<style scoped>\n",
              "    .dataframe tbody tr th:only-of-type {\n",
              "        vertical-align: middle;\n",
              "    }\n",
              "\n",
              "    .dataframe tbody tr th {\n",
              "        vertical-align: top;\n",
              "    }\n",
              "\n",
              "    .dataframe thead th {\n",
              "        text-align: right;\n",
              "    }\n",
              "</style>\n",
              "<table border=\"1\" class=\"dataframe\">\n",
              "  <thead>\n",
              "    <tr style=\"text-align: right;\">\n",
              "      <th></th>\n",
              "      <th>Date</th>\n",
              "      <th>High</th>\n",
              "      <th>Low</th>\n",
              "      <th>Open</th>\n",
              "      <th>Close</th>\n",
              "      <th>Volume</th>\n",
              "    </tr>\n",
              "  </thead>\n",
              "  <tbody>\n",
              "    <tr>\n",
              "      <th>1499</th>\n",
              "      <td>2019-03-06</td>\n",
              "      <td>15.5</td>\n",
              "      <td>15.15</td>\n",
              "      <td>15.3</td>\n",
              "      <td>15.5</td>\n",
              "      <td>80080</td>\n",
              "    </tr>\n",
              "    <tr>\n",
              "      <th>1498</th>\n",
              "      <td>2019-03-07</td>\n",
              "      <td>15.6</td>\n",
              "      <td>15.30</td>\n",
              "      <td>15.5</td>\n",
              "      <td>15.6</td>\n",
              "      <td>157010</td>\n",
              "    </tr>\n",
              "    <tr>\n",
              "      <th>1497</th>\n",
              "      <td>2019-03-08</td>\n",
              "      <td>15.5</td>\n",
              "      <td>15.20</td>\n",
              "      <td>15.5</td>\n",
              "      <td>15.2</td>\n",
              "      <td>103080</td>\n",
              "    </tr>\n",
              "    <tr>\n",
              "      <th>1496</th>\n",
              "      <td>2019-03-11</td>\n",
              "      <td>15.5</td>\n",
              "      <td>15.20</td>\n",
              "      <td>15.2</td>\n",
              "      <td>15.5</td>\n",
              "      <td>59060</td>\n",
              "    </tr>\n",
              "    <tr>\n",
              "      <th>1495</th>\n",
              "      <td>2019-03-12</td>\n",
              "      <td>15.5</td>\n",
              "      <td>15.20</td>\n",
              "      <td>15.5</td>\n",
              "      <td>15.2</td>\n",
              "      <td>71310</td>\n",
              "    </tr>\n",
              "  </tbody>\n",
              "</table>\n",
              "</div>"
            ],
            "text/plain": [
              "           Date  High    Low  Open  Close  Volume\n",
              "1499 2019-03-06  15.5  15.15  15.3   15.5   80080\n",
              "1498 2019-03-07  15.6  15.30  15.5   15.6  157010\n",
              "1497 2019-03-08  15.5  15.20  15.5   15.2  103080\n",
              "1496 2019-03-11  15.5  15.20  15.2   15.5   59060\n",
              "1495 2019-03-12  15.5  15.20  15.5   15.2   71310"
            ]
          },
          "execution_count": 128,
          "metadata": {},
          "output_type": "execute_result"
        }
      ],
      "source": [
        "# Reverse the datasets\n",
        "naf_df = naf_df.iloc[::-1]\n",
        "\n",
        "# View one of them to recheck\n",
        "naf_df.head()"
      ]
    },
    {
      "cell_type": "markdown",
      "metadata": {
        "id": "LmPJ09QdracD"
      },
      "source": [
        "## **Technical indicators**"
      ]
    },
    {
      "cell_type": "code",
      "execution_count": 129,
      "metadata": {
        "colab": {
          "base_uri": "https://localhost:8080/",
          "height": 206
        },
        "id": "4pE_Wi_3L5Rf",
        "outputId": "b1dcfb19-a198-4c7e-e003-828808158b09"
      },
      "outputs": [
        {
          "data": {
            "application/vnd.microsoft.datawrangler.viewer.v0+json": {
              "columns": [
                {
                  "name": "index",
                  "rawType": "int64",
                  "type": "integer"
                },
                {
                  "name": "Date",
                  "rawType": "datetime64[ns]",
                  "type": "datetime"
                },
                {
                  "name": "High",
                  "rawType": "float64",
                  "type": "float"
                },
                {
                  "name": "Low",
                  "rawType": "float64",
                  "type": "float"
                },
                {
                  "name": "Open",
                  "rawType": "float64",
                  "type": "float"
                },
                {
                  "name": "Close",
                  "rawType": "float64",
                  "type": "float"
                },
                {
                  "name": "Volume",
                  "rawType": "int64",
                  "type": "integer"
                },
                {
                  "name": "SMA_200",
                  "rawType": "float64",
                  "type": "float"
                }
              ],
              "conversionMethod": "pd.DataFrame",
              "ref": "52260c19-754d-433e-b0d0-aa8b83bd2fb0",
              "rows": [
                [
                  "1300",
                  "2019-12-17 00:00:00",
                  "25.0",
                  "24.5",
                  "24.8",
                  "24.6",
                  "143760",
                  "19.1425"
                ],
                [
                  "1299",
                  "2019-12-18 00:00:00",
                  "24.7",
                  "24.2",
                  "24.55",
                  "24.4",
                  "65890",
                  "19.187"
                ],
                [
                  "1298",
                  "2019-12-19 00:00:00",
                  "24.8",
                  "24.2",
                  "24.2",
                  "24.7",
                  "93800",
                  "19.2325"
                ],
                [
                  "1297",
                  "2019-12-20 00:00:00",
                  "26.4",
                  "24.5",
                  "24.6",
                  "26.35",
                  "500150",
                  "19.288249999999998"
                ],
                [
                  "1296",
                  "2019-12-23 00:00:00",
                  "26.5",
                  "26.2",
                  "26.5",
                  "26.5",
                  "234170",
                  "19.343249999999998"
                ]
              ],
              "shape": {
                "columns": 7,
                "rows": 5
              }
            },
            "text/html": [
              "<div>\n",
              "<style scoped>\n",
              "    .dataframe tbody tr th:only-of-type {\n",
              "        vertical-align: middle;\n",
              "    }\n",
              "\n",
              "    .dataframe tbody tr th {\n",
              "        vertical-align: top;\n",
              "    }\n",
              "\n",
              "    .dataframe thead th {\n",
              "        text-align: right;\n",
              "    }\n",
              "</style>\n",
              "<table border=\"1\" class=\"dataframe\">\n",
              "  <thead>\n",
              "    <tr style=\"text-align: right;\">\n",
              "      <th></th>\n",
              "      <th>Date</th>\n",
              "      <th>High</th>\n",
              "      <th>Low</th>\n",
              "      <th>Open</th>\n",
              "      <th>Close</th>\n",
              "      <th>Volume</th>\n",
              "      <th>SMA_200</th>\n",
              "    </tr>\n",
              "  </thead>\n",
              "  <tbody>\n",
              "    <tr>\n",
              "      <th>1300</th>\n",
              "      <td>2019-12-17</td>\n",
              "      <td>25.0</td>\n",
              "      <td>24.5</td>\n",
              "      <td>24.80</td>\n",
              "      <td>24.60</td>\n",
              "      <td>143760</td>\n",
              "      <td>19.14250</td>\n",
              "    </tr>\n",
              "    <tr>\n",
              "      <th>1299</th>\n",
              "      <td>2019-12-18</td>\n",
              "      <td>24.7</td>\n",
              "      <td>24.2</td>\n",
              "      <td>24.55</td>\n",
              "      <td>24.40</td>\n",
              "      <td>65890</td>\n",
              "      <td>19.18700</td>\n",
              "    </tr>\n",
              "    <tr>\n",
              "      <th>1298</th>\n",
              "      <td>2019-12-19</td>\n",
              "      <td>24.8</td>\n",
              "      <td>24.2</td>\n",
              "      <td>24.20</td>\n",
              "      <td>24.70</td>\n",
              "      <td>93800</td>\n",
              "      <td>19.23250</td>\n",
              "    </tr>\n",
              "    <tr>\n",
              "      <th>1297</th>\n",
              "      <td>2019-12-20</td>\n",
              "      <td>26.4</td>\n",
              "      <td>24.5</td>\n",
              "      <td>24.60</td>\n",
              "      <td>26.35</td>\n",
              "      <td>500150</td>\n",
              "      <td>19.28825</td>\n",
              "    </tr>\n",
              "    <tr>\n",
              "      <th>1296</th>\n",
              "      <td>2019-12-23</td>\n",
              "      <td>26.5</td>\n",
              "      <td>26.2</td>\n",
              "      <td>26.50</td>\n",
              "      <td>26.50</td>\n",
              "      <td>234170</td>\n",
              "      <td>19.34325</td>\n",
              "    </tr>\n",
              "  </tbody>\n",
              "</table>\n",
              "</div>"
            ],
            "text/plain": [
              "           Date  High   Low   Open  Close  Volume   SMA_200\n",
              "1300 2019-12-17  25.0  24.5  24.80  24.60  143760  19.14250\n",
              "1299 2019-12-18  24.7  24.2  24.55  24.40   65890  19.18700\n",
              "1298 2019-12-19  24.8  24.2  24.20  24.70   93800  19.23250\n",
              "1297 2019-12-20  26.4  24.5  24.60  26.35  500150  19.28825\n",
              "1296 2019-12-23  26.5  26.2  26.50  26.50  234170  19.34325"
            ]
          },
          "execution_count": 129,
          "metadata": {},
          "output_type": "execute_result"
        }
      ],
      "source": [
        "# Calculate simple moving average\n",
        "naf_df['SMA_200'] = naf_df['Close'].rolling(window = 200).mean()\n",
        "\n",
        "# Drop all empty rows\n",
        "naf_df.dropna(inplace = True)\n",
        "\n",
        "# View one to check\n",
        "naf_df.head()"
      ]
    },
    {
      "cell_type": "code",
      "execution_count": 130,
      "metadata": {
        "colab": {
          "base_uri": "https://localhost:8080/",
          "height": 206
        },
        "id": "ei4985bGtDNR",
        "outputId": "fa65a191-e6fa-4d55-f1f8-53ad4d5449b5"
      },
      "outputs": [
        {
          "data": {
            "application/vnd.microsoft.datawrangler.viewer.v0+json": {
              "columns": [
                {
                  "name": "index",
                  "rawType": "int64",
                  "type": "integer"
                },
                {
                  "name": "Date",
                  "rawType": "datetime64[ns]",
                  "type": "datetime"
                },
                {
                  "name": "High",
                  "rawType": "float64",
                  "type": "float"
                },
                {
                  "name": "Low",
                  "rawType": "float64",
                  "type": "float"
                },
                {
                  "name": "Open",
                  "rawType": "float64",
                  "type": "float"
                },
                {
                  "name": "Close",
                  "rawType": "float64",
                  "type": "float"
                },
                {
                  "name": "Volume",
                  "rawType": "int64",
                  "type": "integer"
                },
                {
                  "name": "SMA_200",
                  "rawType": "float64",
                  "type": "float"
                },
                {
                  "name": "RSI",
                  "rawType": "float64",
                  "type": "float"
                }
              ],
              "conversionMethod": "pd.DataFrame",
              "ref": "f7e70df3-f5d5-4dca-ae8b-e5a5f91634e7",
              "rows": [
                [
                  "1300",
                  "2019-12-17 00:00:00",
                  "25.0",
                  "24.5",
                  "24.8",
                  "24.6",
                  "143760",
                  "19.1425",
                  null
                ],
                [
                  "1299",
                  "2019-12-18 00:00:00",
                  "24.7",
                  "24.2",
                  "24.55",
                  "24.4",
                  "65890",
                  "19.187",
                  null
                ],
                [
                  "1298",
                  "2019-12-19 00:00:00",
                  "24.8",
                  "24.2",
                  "24.2",
                  "24.7",
                  "93800",
                  "19.2325",
                  null
                ],
                [
                  "1297",
                  "2019-12-20 00:00:00",
                  "26.4",
                  "24.5",
                  "24.6",
                  "26.35",
                  "500150",
                  "19.288249999999998",
                  null
                ],
                [
                  "1296",
                  "2019-12-23 00:00:00",
                  "26.5",
                  "26.2",
                  "26.5",
                  "26.5",
                  "234170",
                  "19.343249999999998",
                  null
                ]
              ],
              "shape": {
                "columns": 8,
                "rows": 5
              }
            },
            "text/html": [
              "<div>\n",
              "<style scoped>\n",
              "    .dataframe tbody tr th:only-of-type {\n",
              "        vertical-align: middle;\n",
              "    }\n",
              "\n",
              "    .dataframe tbody tr th {\n",
              "        vertical-align: top;\n",
              "    }\n",
              "\n",
              "    .dataframe thead th {\n",
              "        text-align: right;\n",
              "    }\n",
              "</style>\n",
              "<table border=\"1\" class=\"dataframe\">\n",
              "  <thead>\n",
              "    <tr style=\"text-align: right;\">\n",
              "      <th></th>\n",
              "      <th>Date</th>\n",
              "      <th>High</th>\n",
              "      <th>Low</th>\n",
              "      <th>Open</th>\n",
              "      <th>Close</th>\n",
              "      <th>Volume</th>\n",
              "      <th>SMA_200</th>\n",
              "      <th>RSI</th>\n",
              "    </tr>\n",
              "  </thead>\n",
              "  <tbody>\n",
              "    <tr>\n",
              "      <th>1300</th>\n",
              "      <td>2019-12-17</td>\n",
              "      <td>25.0</td>\n",
              "      <td>24.5</td>\n",
              "      <td>24.80</td>\n",
              "      <td>24.60</td>\n",
              "      <td>143760</td>\n",
              "      <td>19.14250</td>\n",
              "      <td>NaN</td>\n",
              "    </tr>\n",
              "    <tr>\n",
              "      <th>1299</th>\n",
              "      <td>2019-12-18</td>\n",
              "      <td>24.7</td>\n",
              "      <td>24.2</td>\n",
              "      <td>24.55</td>\n",
              "      <td>24.40</td>\n",
              "      <td>65890</td>\n",
              "      <td>19.18700</td>\n",
              "      <td>NaN</td>\n",
              "    </tr>\n",
              "    <tr>\n",
              "      <th>1298</th>\n",
              "      <td>2019-12-19</td>\n",
              "      <td>24.8</td>\n",
              "      <td>24.2</td>\n",
              "      <td>24.20</td>\n",
              "      <td>24.70</td>\n",
              "      <td>93800</td>\n",
              "      <td>19.23250</td>\n",
              "      <td>NaN</td>\n",
              "    </tr>\n",
              "    <tr>\n",
              "      <th>1297</th>\n",
              "      <td>2019-12-20</td>\n",
              "      <td>26.4</td>\n",
              "      <td>24.5</td>\n",
              "      <td>24.60</td>\n",
              "      <td>26.35</td>\n",
              "      <td>500150</td>\n",
              "      <td>19.28825</td>\n",
              "      <td>NaN</td>\n",
              "    </tr>\n",
              "    <tr>\n",
              "      <th>1296</th>\n",
              "      <td>2019-12-23</td>\n",
              "      <td>26.5</td>\n",
              "      <td>26.2</td>\n",
              "      <td>26.50</td>\n",
              "      <td>26.50</td>\n",
              "      <td>234170</td>\n",
              "      <td>19.34325</td>\n",
              "      <td>NaN</td>\n",
              "    </tr>\n",
              "  </tbody>\n",
              "</table>\n",
              "</div>"
            ],
            "text/plain": [
              "           Date  High   Low   Open  Close  Volume   SMA_200  RSI\n",
              "1300 2019-12-17  25.0  24.5  24.80  24.60  143760  19.14250  NaN\n",
              "1299 2019-12-18  24.7  24.2  24.55  24.40   65890  19.18700  NaN\n",
              "1298 2019-12-19  24.8  24.2  24.20  24.70   93800  19.23250  NaN\n",
              "1297 2019-12-20  26.4  24.5  24.60  26.35  500150  19.28825  NaN\n",
              "1296 2019-12-23  26.5  26.2  26.50  26.50  234170  19.34325  NaN"
            ]
          },
          "execution_count": 130,
          "metadata": {},
          "output_type": "execute_result"
        }
      ],
      "source": [
        "# Calculate RSI\n",
        "naf_df['RSI'] = ta.momentum.RSIIndicator(naf_df['Close'].squeeze(), window = 14).rsi()\n",
        "\n",
        "# View one to check\n",
        "naf_df.head()"
      ]
    },
    {
      "cell_type": "code",
      "execution_count": 131,
      "metadata": {
        "colab": {
          "base_uri": "https://localhost:8080/",
          "height": 206
        },
        "id": "dNUb_s9Xuayz",
        "outputId": "cc06af37-148f-484b-9f8f-c1f8baa1e9b2"
      },
      "outputs": [
        {
          "data": {
            "application/vnd.microsoft.datawrangler.viewer.v0+json": {
              "columns": [
                {
                  "name": "index",
                  "rawType": "int64",
                  "type": "integer"
                },
                {
                  "name": "Date",
                  "rawType": "datetime64[ns]",
                  "type": "datetime"
                },
                {
                  "name": "High",
                  "rawType": "float64",
                  "type": "float"
                },
                {
                  "name": "Low",
                  "rawType": "float64",
                  "type": "float"
                },
                {
                  "name": "Open",
                  "rawType": "float64",
                  "type": "float"
                },
                {
                  "name": "Close",
                  "rawType": "float64",
                  "type": "float"
                },
                {
                  "name": "Volume",
                  "rawType": "int64",
                  "type": "integer"
                },
                {
                  "name": "SMA_200",
                  "rawType": "float64",
                  "type": "float"
                },
                {
                  "name": "RSI",
                  "rawType": "float64",
                  "type": "float"
                },
                {
                  "name": "STOCH",
                  "rawType": "float64",
                  "type": "float"
                }
              ],
              "conversionMethod": "pd.DataFrame",
              "ref": "19f0c9e1-cd76-4dca-9c7f-e879dd1de331",
              "rows": [
                [
                  "1300",
                  "2019-12-17 00:00:00",
                  "25.0",
                  "24.5",
                  "24.8",
                  "24.6",
                  "143760",
                  "19.1425",
                  null,
                  null
                ],
                [
                  "1299",
                  "2019-12-18 00:00:00",
                  "24.7",
                  "24.2",
                  "24.55",
                  "24.4",
                  "65890",
                  "19.187",
                  null,
                  null
                ],
                [
                  "1298",
                  "2019-12-19 00:00:00",
                  "24.8",
                  "24.2",
                  "24.2",
                  "24.7",
                  "93800",
                  "19.2325",
                  null,
                  null
                ],
                [
                  "1297",
                  "2019-12-20 00:00:00",
                  "26.4",
                  "24.5",
                  "24.6",
                  "26.35",
                  "500150",
                  "19.288249999999998",
                  null,
                  null
                ],
                [
                  "1296",
                  "2019-12-23 00:00:00",
                  "26.5",
                  "26.2",
                  "26.5",
                  "26.5",
                  "234170",
                  "19.343249999999998",
                  null,
                  null
                ]
              ],
              "shape": {
                "columns": 9,
                "rows": 5
              }
            },
            "text/html": [
              "<div>\n",
              "<style scoped>\n",
              "    .dataframe tbody tr th:only-of-type {\n",
              "        vertical-align: middle;\n",
              "    }\n",
              "\n",
              "    .dataframe tbody tr th {\n",
              "        vertical-align: top;\n",
              "    }\n",
              "\n",
              "    .dataframe thead th {\n",
              "        text-align: right;\n",
              "    }\n",
              "</style>\n",
              "<table border=\"1\" class=\"dataframe\">\n",
              "  <thead>\n",
              "    <tr style=\"text-align: right;\">\n",
              "      <th></th>\n",
              "      <th>Date</th>\n",
              "      <th>High</th>\n",
              "      <th>Low</th>\n",
              "      <th>Open</th>\n",
              "      <th>Close</th>\n",
              "      <th>Volume</th>\n",
              "      <th>SMA_200</th>\n",
              "      <th>RSI</th>\n",
              "      <th>STOCH</th>\n",
              "    </tr>\n",
              "  </thead>\n",
              "  <tbody>\n",
              "    <tr>\n",
              "      <th>1300</th>\n",
              "      <td>2019-12-17</td>\n",
              "      <td>25.0</td>\n",
              "      <td>24.5</td>\n",
              "      <td>24.80</td>\n",
              "      <td>24.60</td>\n",
              "      <td>143760</td>\n",
              "      <td>19.14250</td>\n",
              "      <td>NaN</td>\n",
              "      <td>NaN</td>\n",
              "    </tr>\n",
              "    <tr>\n",
              "      <th>1299</th>\n",
              "      <td>2019-12-18</td>\n",
              "      <td>24.7</td>\n",
              "      <td>24.2</td>\n",
              "      <td>24.55</td>\n",
              "      <td>24.40</td>\n",
              "      <td>65890</td>\n",
              "      <td>19.18700</td>\n",
              "      <td>NaN</td>\n",
              "      <td>NaN</td>\n",
              "    </tr>\n",
              "    <tr>\n",
              "      <th>1298</th>\n",
              "      <td>2019-12-19</td>\n",
              "      <td>24.8</td>\n",
              "      <td>24.2</td>\n",
              "      <td>24.20</td>\n",
              "      <td>24.70</td>\n",
              "      <td>93800</td>\n",
              "      <td>19.23250</td>\n",
              "      <td>NaN</td>\n",
              "      <td>NaN</td>\n",
              "    </tr>\n",
              "    <tr>\n",
              "      <th>1297</th>\n",
              "      <td>2019-12-20</td>\n",
              "      <td>26.4</td>\n",
              "      <td>24.5</td>\n",
              "      <td>24.60</td>\n",
              "      <td>26.35</td>\n",
              "      <td>500150</td>\n",
              "      <td>19.28825</td>\n",
              "      <td>NaN</td>\n",
              "      <td>NaN</td>\n",
              "    </tr>\n",
              "    <tr>\n",
              "      <th>1296</th>\n",
              "      <td>2019-12-23</td>\n",
              "      <td>26.5</td>\n",
              "      <td>26.2</td>\n",
              "      <td>26.50</td>\n",
              "      <td>26.50</td>\n",
              "      <td>234170</td>\n",
              "      <td>19.34325</td>\n",
              "      <td>NaN</td>\n",
              "      <td>NaN</td>\n",
              "    </tr>\n",
              "  </tbody>\n",
              "</table>\n",
              "</div>"
            ],
            "text/plain": [
              "           Date  High   Low   Open  Close  Volume   SMA_200  RSI  STOCH\n",
              "1300 2019-12-17  25.0  24.5  24.80  24.60  143760  19.14250  NaN    NaN\n",
              "1299 2019-12-18  24.7  24.2  24.55  24.40   65890  19.18700  NaN    NaN\n",
              "1298 2019-12-19  24.8  24.2  24.20  24.70   93800  19.23250  NaN    NaN\n",
              "1297 2019-12-20  26.4  24.5  24.60  26.35  500150  19.28825  NaN    NaN\n",
              "1296 2019-12-23  26.5  26.2  26.50  26.50  234170  19.34325  NaN    NaN"
            ]
          },
          "execution_count": 131,
          "metadata": {},
          "output_type": "execute_result"
        }
      ],
      "source": [
        "# Calculate stochastic oscillator\n",
        "naf_df['STOCH'] = ta.momentum.StochasticOscillator(high = naf_df['High'], low = naf_df['Low'], close = naf_df['Close'], window = 14).stoch()\n",
        "\n",
        "# View one to see\n",
        "naf_df.head()"
      ]
    },
    {
      "cell_type": "code",
      "execution_count": 132,
      "metadata": {
        "colab": {
          "base_uri": "https://localhost:8080/",
          "height": 237
        },
        "id": "sbsq3wl4u-PX",
        "outputId": "d72bf3eb-3524-4faf-c1a9-87eb1219d245"
      },
      "outputs": [
        {
          "data": {
            "application/vnd.microsoft.datawrangler.viewer.v0+json": {
              "columns": [
                {
                  "name": "Date",
                  "rawType": "datetime64[ns]",
                  "type": "datetime"
                },
                {
                  "name": "High",
                  "rawType": "float64",
                  "type": "float"
                },
                {
                  "name": "Low",
                  "rawType": "float64",
                  "type": "float"
                },
                {
                  "name": "Open",
                  "rawType": "float64",
                  "type": "float"
                },
                {
                  "name": "Close",
                  "rawType": "float64",
                  "type": "float"
                },
                {
                  "name": "Volume",
                  "rawType": "int64",
                  "type": "integer"
                },
                {
                  "name": "SMA_200",
                  "rawType": "float64",
                  "type": "float"
                },
                {
                  "name": "RSI",
                  "rawType": "float64",
                  "type": "float"
                },
                {
                  "name": "STOCH",
                  "rawType": "float64",
                  "type": "float"
                }
              ],
              "conversionMethod": "pd.DataFrame",
              "ref": "a8298c75-c554-4678-9c2c-eccbd0d4bd3a",
              "rows": [
                [
                  "2020-01-22 00:00:00",
                  "26.0",
                  "25.5",
                  "25.9",
                  "25.9",
                  "8950",
                  "20.4465",
                  "54.39516347081081",
                  "36.363636363636246"
                ],
                [
                  "2020-01-30 00:00:00",
                  "26.2",
                  "24.7",
                  "25.9",
                  "25.8",
                  "11370",
                  "20.499499999999998",
                  "52.38938116339677",
                  "42.30769230769234"
                ],
                [
                  "2020-01-31 00:00:00",
                  "25.7",
                  "24.5",
                  "25.7",
                  "25.5",
                  "7800",
                  "20.55125",
                  "46.81250123058304",
                  "35.71428571428571"
                ],
                [
                  "2020-02-03 00:00:00",
                  "25.2",
                  "23.75",
                  "24.45",
                  "24.45",
                  "137960",
                  "20.598000000000003",
                  "33.40798740538048",
                  "19.718309859154907"
                ],
                [
                  "2020-02-04 00:00:00",
                  "24.0",
                  "23.6",
                  "24.0",
                  "23.8",
                  "5390",
                  "20.641499999999997",
                  "28.05280514295778",
                  "5.4054054054053875"
                ]
              ],
              "shape": {
                "columns": 8,
                "rows": 5
              }
            },
            "text/html": [
              "<div>\n",
              "<style scoped>\n",
              "    .dataframe tbody tr th:only-of-type {\n",
              "        vertical-align: middle;\n",
              "    }\n",
              "\n",
              "    .dataframe tbody tr th {\n",
              "        vertical-align: top;\n",
              "    }\n",
              "\n",
              "    .dataframe thead th {\n",
              "        text-align: right;\n",
              "    }\n",
              "</style>\n",
              "<table border=\"1\" class=\"dataframe\">\n",
              "  <thead>\n",
              "    <tr style=\"text-align: right;\">\n",
              "      <th></th>\n",
              "      <th>High</th>\n",
              "      <th>Low</th>\n",
              "      <th>Open</th>\n",
              "      <th>Close</th>\n",
              "      <th>Volume</th>\n",
              "      <th>SMA_200</th>\n",
              "      <th>RSI</th>\n",
              "      <th>STOCH</th>\n",
              "    </tr>\n",
              "    <tr>\n",
              "      <th>Date</th>\n",
              "      <th></th>\n",
              "      <th></th>\n",
              "      <th></th>\n",
              "      <th></th>\n",
              "      <th></th>\n",
              "      <th></th>\n",
              "      <th></th>\n",
              "      <th></th>\n",
              "    </tr>\n",
              "  </thead>\n",
              "  <tbody>\n",
              "    <tr>\n",
              "      <th>2020-01-22</th>\n",
              "      <td>26.0</td>\n",
              "      <td>25.50</td>\n",
              "      <td>25.90</td>\n",
              "      <td>25.90</td>\n",
              "      <td>8950</td>\n",
              "      <td>20.44650</td>\n",
              "      <td>54.395163</td>\n",
              "      <td>36.363636</td>\n",
              "    </tr>\n",
              "    <tr>\n",
              "      <th>2020-01-30</th>\n",
              "      <td>26.2</td>\n",
              "      <td>24.70</td>\n",
              "      <td>25.90</td>\n",
              "      <td>25.80</td>\n",
              "      <td>11370</td>\n",
              "      <td>20.49950</td>\n",
              "      <td>52.389381</td>\n",
              "      <td>42.307692</td>\n",
              "    </tr>\n",
              "    <tr>\n",
              "      <th>2020-01-31</th>\n",
              "      <td>25.7</td>\n",
              "      <td>24.50</td>\n",
              "      <td>25.70</td>\n",
              "      <td>25.50</td>\n",
              "      <td>7800</td>\n",
              "      <td>20.55125</td>\n",
              "      <td>46.812501</td>\n",
              "      <td>35.714286</td>\n",
              "    </tr>\n",
              "    <tr>\n",
              "      <th>2020-02-03</th>\n",
              "      <td>25.2</td>\n",
              "      <td>23.75</td>\n",
              "      <td>24.45</td>\n",
              "      <td>24.45</td>\n",
              "      <td>137960</td>\n",
              "      <td>20.59800</td>\n",
              "      <td>33.407987</td>\n",
              "      <td>19.718310</td>\n",
              "    </tr>\n",
              "    <tr>\n",
              "      <th>2020-02-04</th>\n",
              "      <td>24.0</td>\n",
              "      <td>23.60</td>\n",
              "      <td>24.00</td>\n",
              "      <td>23.80</td>\n",
              "      <td>5390</td>\n",
              "      <td>20.64150</td>\n",
              "      <td>28.052805</td>\n",
              "      <td>5.405405</td>\n",
              "    </tr>\n",
              "  </tbody>\n",
              "</table>\n",
              "</div>"
            ],
            "text/plain": [
              "            High    Low   Open  Close  Volume   SMA_200        RSI      STOCH\n",
              "Date                                                                         \n",
              "2020-01-22  26.0  25.50  25.90  25.90    8950  20.44650  54.395163  36.363636\n",
              "2020-01-30  26.2  24.70  25.90  25.80   11370  20.49950  52.389381  42.307692\n",
              "2020-01-31  25.7  24.50  25.70  25.50    7800  20.55125  46.812501  35.714286\n",
              "2020-02-03  25.2  23.75  24.45  24.45  137960  20.59800  33.407987  19.718310\n",
              "2020-02-04  24.0  23.60  24.00  23.80    5390  20.64150  28.052805   5.405405"
            ]
          },
          "execution_count": 132,
          "metadata": {},
          "output_type": "execute_result"
        }
      ],
      "source": [
        "# Drop all null columns\n",
        "naf_df.dropna(inplace = True)\n",
        "\n",
        "# Filter to get only from 2020-01-22 to 2025-01-14\n",
        "naf_df = naf_df[(naf_df['Date'] >= '2020-01-22') & (naf_df['Date'] <= '2025-01-14')]\n",
        "\n",
        "# And set date to be index\n",
        "naf_df.set_index('Date', inplace = True)\n",
        "\n",
        "# View one to check\n",
        "naf_df.head()"
      ]
    },
    {
      "cell_type": "markdown",
      "metadata": {
        "id": "m-Tr_KEov5g3"
      },
      "source": [
        "# **Add more data**"
      ]
    },
    {
      "cell_type": "code",
      "execution_count": 133,
      "metadata": {
        "colab": {
          "base_uri": "https://localhost:8080/",
          "height": 676
        },
        "id": "PNtRGtVIvuzw",
        "outputId": "37899fa3-fee2-4197-bdb4-8056716aa043"
      },
      "outputs": [
        {
          "data": {
            "application/vnd.microsoft.datawrangler.viewer.v0+json": {
              "columns": [
                {
                  "name": "index",
                  "rawType": "int64",
                  "type": "integer"
                },
                {
                  "name": "Quarter",
                  "rawType": "object",
                  "type": "string"
                },
                {
                  "name": "%Growth",
                  "rawType": "float64",
                  "type": "float"
                }
              ],
              "conversionMethod": "pd.DataFrame",
              "ref": "54f36c1d-cf5b-4325-b3c4-22857286174b",
              "rows": [
                [
                  "0",
                  "Q1 2020",
                  "3.21"
                ],
                [
                  "1",
                  "Q2 2020",
                  "0.39"
                ],
                [
                  "2",
                  "Q3 2020",
                  "2.69"
                ],
                [
                  "3",
                  "Q4 2020",
                  "4.48"
                ],
                [
                  "4",
                  "Q1 2021",
                  "4.72"
                ],
                [
                  "5",
                  "Q2 2021",
                  "6.73"
                ],
                [
                  "6",
                  "Q3 2021",
                  "-6.02"
                ],
                [
                  "7",
                  "Q4 2021",
                  "5.22"
                ],
                [
                  "8",
                  "Q1 2022",
                  "5.05"
                ],
                [
                  "9",
                  "Q2 2022",
                  "7.99"
                ],
                [
                  "10",
                  "Q3 2022",
                  "13.71"
                ],
                [
                  "11",
                  "Q4 2022",
                  "5.92"
                ],
                [
                  "12",
                  "Q1 2023",
                  "3.41"
                ],
                [
                  "13",
                  "Q2 2023",
                  "4.25"
                ],
                [
                  "14",
                  "Q3 2023",
                  "5.47"
                ],
                [
                  "15",
                  "Q4 2023",
                  "6.72"
                ],
                [
                  "16",
                  "Q1 2024",
                  "5.98"
                ],
                [
                  "17",
                  "Q2 2024",
                  "7.25"
                ],
                [
                  "18",
                  "Q3 2024",
                  "7.43"
                ],
                [
                  "19",
                  "Q4 2024",
                  "7.55"
                ]
              ],
              "shape": {
                "columns": 2,
                "rows": 20
              }
            },
            "text/html": [
              "<div>\n",
              "<style scoped>\n",
              "    .dataframe tbody tr th:only-of-type {\n",
              "        vertical-align: middle;\n",
              "    }\n",
              "\n",
              "    .dataframe tbody tr th {\n",
              "        vertical-align: top;\n",
              "    }\n",
              "\n",
              "    .dataframe thead th {\n",
              "        text-align: right;\n",
              "    }\n",
              "</style>\n",
              "<table border=\"1\" class=\"dataframe\">\n",
              "  <thead>\n",
              "    <tr style=\"text-align: right;\">\n",
              "      <th></th>\n",
              "      <th>Quarter</th>\n",
              "      <th>%Growth</th>\n",
              "    </tr>\n",
              "  </thead>\n",
              "  <tbody>\n",
              "    <tr>\n",
              "      <th>0</th>\n",
              "      <td>Q1 2020</td>\n",
              "      <td>3.21</td>\n",
              "    </tr>\n",
              "    <tr>\n",
              "      <th>1</th>\n",
              "      <td>Q2 2020</td>\n",
              "      <td>0.39</td>\n",
              "    </tr>\n",
              "    <tr>\n",
              "      <th>2</th>\n",
              "      <td>Q3 2020</td>\n",
              "      <td>2.69</td>\n",
              "    </tr>\n",
              "    <tr>\n",
              "      <th>3</th>\n",
              "      <td>Q4 2020</td>\n",
              "      <td>4.48</td>\n",
              "    </tr>\n",
              "    <tr>\n",
              "      <th>4</th>\n",
              "      <td>Q1 2021</td>\n",
              "      <td>4.72</td>\n",
              "    </tr>\n",
              "    <tr>\n",
              "      <th>5</th>\n",
              "      <td>Q2 2021</td>\n",
              "      <td>6.73</td>\n",
              "    </tr>\n",
              "    <tr>\n",
              "      <th>6</th>\n",
              "      <td>Q3 2021</td>\n",
              "      <td>-6.02</td>\n",
              "    </tr>\n",
              "    <tr>\n",
              "      <th>7</th>\n",
              "      <td>Q4 2021</td>\n",
              "      <td>5.22</td>\n",
              "    </tr>\n",
              "    <tr>\n",
              "      <th>8</th>\n",
              "      <td>Q1 2022</td>\n",
              "      <td>5.05</td>\n",
              "    </tr>\n",
              "    <tr>\n",
              "      <th>9</th>\n",
              "      <td>Q2 2022</td>\n",
              "      <td>7.99</td>\n",
              "    </tr>\n",
              "    <tr>\n",
              "      <th>10</th>\n",
              "      <td>Q3 2022</td>\n",
              "      <td>13.71</td>\n",
              "    </tr>\n",
              "    <tr>\n",
              "      <th>11</th>\n",
              "      <td>Q4 2022</td>\n",
              "      <td>5.92</td>\n",
              "    </tr>\n",
              "    <tr>\n",
              "      <th>12</th>\n",
              "      <td>Q1 2023</td>\n",
              "      <td>3.41</td>\n",
              "    </tr>\n",
              "    <tr>\n",
              "      <th>13</th>\n",
              "      <td>Q2 2023</td>\n",
              "      <td>4.25</td>\n",
              "    </tr>\n",
              "    <tr>\n",
              "      <th>14</th>\n",
              "      <td>Q3 2023</td>\n",
              "      <td>5.47</td>\n",
              "    </tr>\n",
              "    <tr>\n",
              "      <th>15</th>\n",
              "      <td>Q4 2023</td>\n",
              "      <td>6.72</td>\n",
              "    </tr>\n",
              "    <tr>\n",
              "      <th>16</th>\n",
              "      <td>Q1 2024</td>\n",
              "      <td>5.98</td>\n",
              "    </tr>\n",
              "    <tr>\n",
              "      <th>17</th>\n",
              "      <td>Q2 2024</td>\n",
              "      <td>7.25</td>\n",
              "    </tr>\n",
              "    <tr>\n",
              "      <th>18</th>\n",
              "      <td>Q3 2024</td>\n",
              "      <td>7.43</td>\n",
              "    </tr>\n",
              "    <tr>\n",
              "      <th>19</th>\n",
              "      <td>Q4 2024</td>\n",
              "      <td>7.55</td>\n",
              "    </tr>\n",
              "  </tbody>\n",
              "</table>\n",
              "</div>"
            ],
            "text/plain": [
              "    Quarter  %Growth\n",
              "0   Q1 2020     3.21\n",
              "1   Q2 2020     0.39\n",
              "2   Q3 2020     2.69\n",
              "3   Q4 2020     4.48\n",
              "4   Q1 2021     4.72\n",
              "5   Q2 2021     6.73\n",
              "6   Q3 2021    -6.02\n",
              "7   Q4 2021     5.22\n",
              "8   Q1 2022     5.05\n",
              "9   Q2 2022     7.99\n",
              "10  Q3 2022    13.71\n",
              "11  Q4 2022     5.92\n",
              "12  Q1 2023     3.41\n",
              "13  Q2 2023     4.25\n",
              "14  Q3 2023     5.47\n",
              "15  Q4 2023     6.72\n",
              "16  Q1 2024     5.98\n",
              "17  Q2 2024     7.25\n",
              "18  Q3 2024     7.43\n",
              "19  Q4 2024     7.55"
            ]
          },
          "execution_count": 133,
          "metadata": {},
          "output_type": "execute_result"
        }
      ],
      "source": [
        "# Add GDP data in\n",
        "gdp = pd.read_csv('gdp.csv', parse_dates=[\"Quarter\"])\n",
        "gdp"
      ]
    },
    {
      "cell_type": "code",
      "execution_count": 134,
      "metadata": {
        "id": "5tZLGePbwBTV"
      },
      "outputs": [],
      "source": [
        "# Convert quarter of GDP dataset back to datetimelike\n",
        "gdp['Quarter'] = gdp['Quarter'].astype(str)\n",
        "gdp['Quarter'] = gdp['Quarter'].str.replace('Q1', '-01-01', regex=True)\\\n",
        "                                .str.replace('Q2', '-04-01', regex=True)\\\n",
        "                                .str.replace('Q3', '-07-01', regex=True)\\\n",
        "                                .str.replace('Q4', '-10-01', regex=True)"
      ]
    },
    {
      "cell_type": "code",
      "execution_count": 135,
      "metadata": {
        "colab": {
          "base_uri": "https://localhost:8080/",
          "height": 676
        },
        "id": "NeXkChYtw2L7",
        "outputId": "6490b783-34e4-4f5f-a126-6614fa45bd2b"
      },
      "outputs": [
        {
          "data": {
            "application/vnd.microsoft.datawrangler.viewer.v0+json": {
              "columns": [
                {
                  "name": "index",
                  "rawType": "int64",
                  "type": "integer"
                },
                {
                  "name": "Quarter",
                  "rawType": "datetime64[ns]",
                  "type": "datetime"
                },
                {
                  "name": "%Growth",
                  "rawType": "float64",
                  "type": "float"
                }
              ],
              "conversionMethod": "pd.DataFrame",
              "ref": "80d22d56-cb98-465b-980c-1ddf2b1d13d9",
              "rows": [
                [
                  "0",
                  "2020-01-01 00:00:00",
                  "3.21"
                ],
                [
                  "1",
                  "2020-04-01 00:00:00",
                  "0.39"
                ],
                [
                  "2",
                  "2020-07-01 00:00:00",
                  "2.69"
                ],
                [
                  "3",
                  "2020-10-01 00:00:00",
                  "4.48"
                ],
                [
                  "4",
                  "2021-01-01 00:00:00",
                  "4.72"
                ],
                [
                  "5",
                  "2021-04-01 00:00:00",
                  "6.73"
                ],
                [
                  "6",
                  "2021-07-01 00:00:00",
                  "-6.02"
                ],
                [
                  "7",
                  "2021-10-01 00:00:00",
                  "5.22"
                ],
                [
                  "8",
                  "2022-01-01 00:00:00",
                  "5.05"
                ],
                [
                  "9",
                  "2022-04-01 00:00:00",
                  "7.99"
                ],
                [
                  "10",
                  "2022-07-01 00:00:00",
                  "13.71"
                ],
                [
                  "11",
                  "2022-10-01 00:00:00",
                  "5.92"
                ],
                [
                  "12",
                  "2023-01-01 00:00:00",
                  "3.41"
                ],
                [
                  "13",
                  "2023-04-01 00:00:00",
                  "4.25"
                ],
                [
                  "14",
                  "2023-07-01 00:00:00",
                  "5.47"
                ],
                [
                  "15",
                  "2023-10-01 00:00:00",
                  "6.72"
                ],
                [
                  "16",
                  "2024-01-01 00:00:00",
                  "5.98"
                ],
                [
                  "17",
                  "2024-04-01 00:00:00",
                  "7.25"
                ],
                [
                  "18",
                  "2024-07-01 00:00:00",
                  "7.43"
                ],
                [
                  "19",
                  "2024-10-01 00:00:00",
                  "7.55"
                ]
              ],
              "shape": {
                "columns": 2,
                "rows": 20
              }
            },
            "text/html": [
              "<div>\n",
              "<style scoped>\n",
              "    .dataframe tbody tr th:only-of-type {\n",
              "        vertical-align: middle;\n",
              "    }\n",
              "\n",
              "    .dataframe tbody tr th {\n",
              "        vertical-align: top;\n",
              "    }\n",
              "\n",
              "    .dataframe thead th {\n",
              "        text-align: right;\n",
              "    }\n",
              "</style>\n",
              "<table border=\"1\" class=\"dataframe\">\n",
              "  <thead>\n",
              "    <tr style=\"text-align: right;\">\n",
              "      <th></th>\n",
              "      <th>Quarter</th>\n",
              "      <th>%Growth</th>\n",
              "    </tr>\n",
              "  </thead>\n",
              "  <tbody>\n",
              "    <tr>\n",
              "      <th>0</th>\n",
              "      <td>2020-01-01</td>\n",
              "      <td>3.21</td>\n",
              "    </tr>\n",
              "    <tr>\n",
              "      <th>1</th>\n",
              "      <td>2020-04-01</td>\n",
              "      <td>0.39</td>\n",
              "    </tr>\n",
              "    <tr>\n",
              "      <th>2</th>\n",
              "      <td>2020-07-01</td>\n",
              "      <td>2.69</td>\n",
              "    </tr>\n",
              "    <tr>\n",
              "      <th>3</th>\n",
              "      <td>2020-10-01</td>\n",
              "      <td>4.48</td>\n",
              "    </tr>\n",
              "    <tr>\n",
              "      <th>4</th>\n",
              "      <td>2021-01-01</td>\n",
              "      <td>4.72</td>\n",
              "    </tr>\n",
              "    <tr>\n",
              "      <th>5</th>\n",
              "      <td>2021-04-01</td>\n",
              "      <td>6.73</td>\n",
              "    </tr>\n",
              "    <tr>\n",
              "      <th>6</th>\n",
              "      <td>2021-07-01</td>\n",
              "      <td>-6.02</td>\n",
              "    </tr>\n",
              "    <tr>\n",
              "      <th>7</th>\n",
              "      <td>2021-10-01</td>\n",
              "      <td>5.22</td>\n",
              "    </tr>\n",
              "    <tr>\n",
              "      <th>8</th>\n",
              "      <td>2022-01-01</td>\n",
              "      <td>5.05</td>\n",
              "    </tr>\n",
              "    <tr>\n",
              "      <th>9</th>\n",
              "      <td>2022-04-01</td>\n",
              "      <td>7.99</td>\n",
              "    </tr>\n",
              "    <tr>\n",
              "      <th>10</th>\n",
              "      <td>2022-07-01</td>\n",
              "      <td>13.71</td>\n",
              "    </tr>\n",
              "    <tr>\n",
              "      <th>11</th>\n",
              "      <td>2022-10-01</td>\n",
              "      <td>5.92</td>\n",
              "    </tr>\n",
              "    <tr>\n",
              "      <th>12</th>\n",
              "      <td>2023-01-01</td>\n",
              "      <td>3.41</td>\n",
              "    </tr>\n",
              "    <tr>\n",
              "      <th>13</th>\n",
              "      <td>2023-04-01</td>\n",
              "      <td>4.25</td>\n",
              "    </tr>\n",
              "    <tr>\n",
              "      <th>14</th>\n",
              "      <td>2023-07-01</td>\n",
              "      <td>5.47</td>\n",
              "    </tr>\n",
              "    <tr>\n",
              "      <th>15</th>\n",
              "      <td>2023-10-01</td>\n",
              "      <td>6.72</td>\n",
              "    </tr>\n",
              "    <tr>\n",
              "      <th>16</th>\n",
              "      <td>2024-01-01</td>\n",
              "      <td>5.98</td>\n",
              "    </tr>\n",
              "    <tr>\n",
              "      <th>17</th>\n",
              "      <td>2024-04-01</td>\n",
              "      <td>7.25</td>\n",
              "    </tr>\n",
              "    <tr>\n",
              "      <th>18</th>\n",
              "      <td>2024-07-01</td>\n",
              "      <td>7.43</td>\n",
              "    </tr>\n",
              "    <tr>\n",
              "      <th>19</th>\n",
              "      <td>2024-10-01</td>\n",
              "      <td>7.55</td>\n",
              "    </tr>\n",
              "  </tbody>\n",
              "</table>\n",
              "</div>"
            ],
            "text/plain": [
              "      Quarter  %Growth\n",
              "0  2020-01-01     3.21\n",
              "1  2020-04-01     0.39\n",
              "2  2020-07-01     2.69\n",
              "3  2020-10-01     4.48\n",
              "4  2021-01-01     4.72\n",
              "5  2021-04-01     6.73\n",
              "6  2021-07-01    -6.02\n",
              "7  2021-10-01     5.22\n",
              "8  2022-01-01     5.05\n",
              "9  2022-04-01     7.99\n",
              "10 2022-07-01    13.71\n",
              "11 2022-10-01     5.92\n",
              "12 2023-01-01     3.41\n",
              "13 2023-04-01     4.25\n",
              "14 2023-07-01     5.47\n",
              "15 2023-10-01     6.72\n",
              "16 2024-01-01     5.98\n",
              "17 2024-04-01     7.25\n",
              "18 2024-07-01     7.43\n",
              "19 2024-10-01     7.55"
            ]
          },
          "execution_count": 135,
          "metadata": {},
          "output_type": "execute_result"
        }
      ],
      "source": [
        "gdp['Quarter'] = pd.to_datetime(gdp['Quarter'], errors='coerce')\n",
        "gdp"
      ]
    },
    {
      "cell_type": "code",
      "execution_count": 136,
      "metadata": {
        "colab": {
          "base_uri": "https://localhost:8080/",
          "height": 423
        },
        "id": "KCGxkZACxFZ2",
        "outputId": "2f0dfdda-e5f0-4d81-f350-51f446f15d8f"
      },
      "outputs": [
        {
          "data": {
            "application/vnd.microsoft.datawrangler.viewer.v0+json": {
              "columns": [
                {
                  "name": "index",
                  "rawType": "int64",
                  "type": "integer"
                },
                {
                  "name": "Date",
                  "rawType": "datetime64[ns]",
                  "type": "datetime"
                },
                {
                  "name": "Quarter",
                  "rawType": "datetime64[ns]",
                  "type": "datetime"
                },
                {
                  "name": "%Growth",
                  "rawType": "float64",
                  "type": "float"
                },
                {
                  "name": "Daily growth",
                  "rawType": "float64",
                  "type": "float"
                },
                {
                  "name": "GDP_Index",
                  "rawType": "float64",
                  "type": "float"
                }
              ],
              "conversionMethod": "pd.DataFrame",
              "ref": "13912725-9ec0-4eff-bce5-c7b1115b3138",
              "rows": [
                [
                  "0",
                  "2020-01-22 00:00:00",
                  null,
                  "0.0039000000000000003",
                  "4.324905239270948e-05",
                  "100.00432499876464"
                ],
                [
                  "1",
                  "2020-01-23 00:00:00",
                  null,
                  "0.0039000000000000003",
                  "4.324905239270948e-05",
                  "100.00865018458545"
                ],
                [
                  "2",
                  "2020-01-24 00:00:00",
                  null,
                  "0.0039000000000000003",
                  "4.324905239270948e-05",
                  "100.01297555747047"
                ],
                [
                  "3",
                  "2020-01-25 00:00:00",
                  null,
                  "0.0039000000000000003",
                  "4.324905239270948e-05",
                  "100.01730111742779"
                ],
                [
                  "4",
                  "2020-01-26 00:00:00",
                  null,
                  "0.0039000000000000003",
                  "4.324905239270948e-05",
                  "100.02162686446556"
                ],
                [
                  "5",
                  "2020-01-27 00:00:00",
                  null,
                  "0.0039000000000000003",
                  "4.324905239270948e-05",
                  "100.02595279859183"
                ],
                [
                  "6",
                  "2020-01-28 00:00:00",
                  null,
                  "0.0039000000000000003",
                  "4.324905239270948e-05",
                  "100.03027891981469"
                ],
                [
                  "7",
                  "2020-01-29 00:00:00",
                  null,
                  "0.0039000000000000003",
                  "4.324905239270948e-05",
                  "100.03460522814225"
                ],
                [
                  "8",
                  "2020-01-30 00:00:00",
                  null,
                  "0.0039000000000000003",
                  "4.324905239270948e-05",
                  "100.03893172358258"
                ],
                [
                  "9",
                  "2020-01-31 00:00:00",
                  null,
                  "0.0039000000000000003",
                  "4.324905239270948e-05",
                  "100.04325840614379"
                ],
                [
                  "10",
                  "2020-02-01 00:00:00",
                  null,
                  "0.0039000000000000003",
                  "4.324905239270948e-05",
                  "100.04758527583397"
                ],
                [
                  "11",
                  "2020-02-02 00:00:00",
                  null,
                  "0.0039000000000000003",
                  "4.324905239270948e-05",
                  "100.05191233266122"
                ],
                [
                  "12",
                  "2020-02-03 00:00:00",
                  null,
                  "0.0039000000000000003",
                  "4.324905239270948e-05",
                  "100.05623957663362"
                ],
                [
                  "13",
                  "2020-02-04 00:00:00",
                  null,
                  "0.0039000000000000003",
                  "4.324905239270948e-05",
                  "100.06056700775925"
                ],
                [
                  "14",
                  "2020-02-05 00:00:00",
                  null,
                  "0.0039000000000000003",
                  "4.324905239270948e-05",
                  "100.06489462604623"
                ],
                [
                  "15",
                  "2020-02-06 00:00:00",
                  null,
                  "0.0039000000000000003",
                  "4.324905239270948e-05",
                  "100.06922243150265"
                ],
                [
                  "16",
                  "2020-02-07 00:00:00",
                  null,
                  "0.0039000000000000003",
                  "4.324905239270948e-05",
                  "100.0735504241366"
                ],
                [
                  "17",
                  "2020-02-08 00:00:00",
                  null,
                  "0.0039000000000000003",
                  "4.324905239270948e-05",
                  "100.07787860395618"
                ],
                [
                  "18",
                  "2020-02-09 00:00:00",
                  null,
                  "0.0039000000000000003",
                  "4.324905239270948e-05",
                  "100.08220697096948"
                ],
                [
                  "19",
                  "2020-02-10 00:00:00",
                  null,
                  "0.0039000000000000003",
                  "4.324905239270948e-05",
                  "100.0865355251846"
                ],
                [
                  "20",
                  "2020-02-11 00:00:00",
                  null,
                  "0.0039000000000000003",
                  "4.324905239270948e-05",
                  "100.09086426660964"
                ],
                [
                  "21",
                  "2020-02-12 00:00:00",
                  null,
                  "0.0039000000000000003",
                  "4.324905239270948e-05",
                  "100.0951931952527"
                ],
                [
                  "22",
                  "2020-02-13 00:00:00",
                  null,
                  "0.0039000000000000003",
                  "4.324905239270948e-05",
                  "100.09952231112187"
                ],
                [
                  "23",
                  "2020-02-14 00:00:00",
                  null,
                  "0.0039000000000000003",
                  "4.324905239270948e-05",
                  "100.10385161422523"
                ],
                [
                  "24",
                  "2020-02-15 00:00:00",
                  null,
                  "0.0039000000000000003",
                  "4.324905239270948e-05",
                  "100.10818110457092"
                ],
                [
                  "25",
                  "2020-02-16 00:00:00",
                  null,
                  "0.0039000000000000003",
                  "4.324905239270948e-05",
                  "100.112510782167"
                ],
                [
                  "26",
                  "2020-02-17 00:00:00",
                  null,
                  "0.0039000000000000003",
                  "4.324905239270948e-05",
                  "100.1168406470216"
                ],
                [
                  "27",
                  "2020-02-18 00:00:00",
                  null,
                  "0.0039000000000000003",
                  "4.324905239270948e-05",
                  "100.12117069914277"
                ],
                [
                  "28",
                  "2020-02-19 00:00:00",
                  null,
                  "0.0039000000000000003",
                  "4.324905239270948e-05",
                  "100.12550093853866"
                ],
                [
                  "29",
                  "2020-02-20 00:00:00",
                  null,
                  "0.0039000000000000003",
                  "4.324905239270948e-05",
                  "100.12983136521736"
                ],
                [
                  "30",
                  "2020-02-21 00:00:00",
                  null,
                  "0.0039000000000000003",
                  "4.324905239270948e-05",
                  "100.13416197918694"
                ],
                [
                  "31",
                  "2020-02-22 00:00:00",
                  null,
                  "0.0039000000000000003",
                  "4.324905239270948e-05",
                  "100.13849278045552"
                ],
                [
                  "32",
                  "2020-02-23 00:00:00",
                  null,
                  "0.0039000000000000003",
                  "4.324905239270948e-05",
                  "100.14282376903121"
                ],
                [
                  "33",
                  "2020-02-24 00:00:00",
                  null,
                  "0.0039000000000000003",
                  "4.324905239270948e-05",
                  "100.14715494492211"
                ],
                [
                  "34",
                  "2020-02-25 00:00:00",
                  null,
                  "0.0039000000000000003",
                  "4.324905239270948e-05",
                  "100.1514863081363"
                ],
                [
                  "35",
                  "2020-02-26 00:00:00",
                  null,
                  "0.0039000000000000003",
                  "4.324905239270948e-05",
                  "100.1558178586819"
                ],
                [
                  "36",
                  "2020-02-27 00:00:00",
                  null,
                  "0.0039000000000000003",
                  "4.324905239270948e-05",
                  "100.16014959656701"
                ],
                [
                  "37",
                  "2020-02-28 00:00:00",
                  null,
                  "0.0039000000000000003",
                  "4.324905239270948e-05",
                  "100.16448152179973"
                ],
                [
                  "38",
                  "2020-02-29 00:00:00",
                  null,
                  "0.0039000000000000003",
                  "4.324905239270948e-05",
                  "100.16881363438816"
                ],
                [
                  "39",
                  "2020-03-01 00:00:00",
                  null,
                  "0.0039000000000000003",
                  "4.324905239270948e-05",
                  "100.17314593434041"
                ],
                [
                  "40",
                  "2020-03-02 00:00:00",
                  null,
                  "0.0039000000000000003",
                  "4.324905239270948e-05",
                  "100.17747842166457"
                ],
                [
                  "41",
                  "2020-03-03 00:00:00",
                  null,
                  "0.0039000000000000003",
                  "4.324905239270948e-05",
                  "100.18181109636876"
                ],
                [
                  "42",
                  "2020-03-04 00:00:00",
                  null,
                  "0.0039000000000000003",
                  "4.324905239270948e-05",
                  "100.18614395846109"
                ],
                [
                  "43",
                  "2020-03-05 00:00:00",
                  null,
                  "0.0039000000000000003",
                  "4.324905239270948e-05",
                  "100.19047700794962"
                ],
                [
                  "44",
                  "2020-03-06 00:00:00",
                  null,
                  "0.0039000000000000003",
                  "4.324905239270948e-05",
                  "100.19481024484251"
                ],
                [
                  "45",
                  "2020-03-07 00:00:00",
                  null,
                  "0.0039000000000000003",
                  "4.324905239270948e-05",
                  "100.19914366914786"
                ],
                [
                  "46",
                  "2020-03-08 00:00:00",
                  null,
                  "0.0039000000000000003",
                  "4.324905239270948e-05",
                  "100.20347728087373"
                ],
                [
                  "47",
                  "2020-03-09 00:00:00",
                  null,
                  "0.0039000000000000003",
                  "4.324905239270948e-05",
                  "100.20781108002825"
                ],
                [
                  "48",
                  "2020-03-10 00:00:00",
                  null,
                  "0.0039000000000000003",
                  "4.324905239270948e-05",
                  "100.21214506661956"
                ],
                [
                  "49",
                  "2020-03-11 00:00:00",
                  null,
                  "0.0039000000000000003",
                  "4.324905239270948e-05",
                  "100.21647924065572"
                ]
              ],
              "shape": {
                "columns": 5,
                "rows": 1820
              }
            },
            "text/html": [
              "<div>\n",
              "<style scoped>\n",
              "    .dataframe tbody tr th:only-of-type {\n",
              "        vertical-align: middle;\n",
              "    }\n",
              "\n",
              "    .dataframe tbody tr th {\n",
              "        vertical-align: top;\n",
              "    }\n",
              "\n",
              "    .dataframe thead th {\n",
              "        text-align: right;\n",
              "    }\n",
              "</style>\n",
              "<table border=\"1\" class=\"dataframe\">\n",
              "  <thead>\n",
              "    <tr style=\"text-align: right;\">\n",
              "      <th></th>\n",
              "      <th>Date</th>\n",
              "      <th>Quarter</th>\n",
              "      <th>%Growth</th>\n",
              "      <th>Daily growth</th>\n",
              "      <th>GDP_Index</th>\n",
              "    </tr>\n",
              "  </thead>\n",
              "  <tbody>\n",
              "    <tr>\n",
              "      <th>0</th>\n",
              "      <td>2020-01-22</td>\n",
              "      <td>NaT</td>\n",
              "      <td>0.0039</td>\n",
              "      <td>0.000043</td>\n",
              "      <td>100.004325</td>\n",
              "    </tr>\n",
              "    <tr>\n",
              "      <th>1</th>\n",
              "      <td>2020-01-23</td>\n",
              "      <td>NaT</td>\n",
              "      <td>0.0039</td>\n",
              "      <td>0.000043</td>\n",
              "      <td>100.008650</td>\n",
              "    </tr>\n",
              "    <tr>\n",
              "      <th>2</th>\n",
              "      <td>2020-01-24</td>\n",
              "      <td>NaT</td>\n",
              "      <td>0.0039</td>\n",
              "      <td>0.000043</td>\n",
              "      <td>100.012976</td>\n",
              "    </tr>\n",
              "    <tr>\n",
              "      <th>3</th>\n",
              "      <td>2020-01-25</td>\n",
              "      <td>NaT</td>\n",
              "      <td>0.0039</td>\n",
              "      <td>0.000043</td>\n",
              "      <td>100.017301</td>\n",
              "    </tr>\n",
              "    <tr>\n",
              "      <th>4</th>\n",
              "      <td>2020-01-26</td>\n",
              "      <td>NaT</td>\n",
              "      <td>0.0039</td>\n",
              "      <td>0.000043</td>\n",
              "      <td>100.021627</td>\n",
              "    </tr>\n",
              "    <tr>\n",
              "      <th>...</th>\n",
              "      <td>...</td>\n",
              "      <td>...</td>\n",
              "      <td>...</td>\n",
              "      <td>...</td>\n",
              "      <td>...</td>\n",
              "    </tr>\n",
              "    <tr>\n",
              "      <th>1815</th>\n",
              "      <td>2025-01-10</td>\n",
              "      <td>NaT</td>\n",
              "      <td>0.0755</td>\n",
              "      <td>0.000809</td>\n",
              "      <td>284.930202</td>\n",
              "    </tr>\n",
              "    <tr>\n",
              "      <th>1816</th>\n",
              "      <td>2025-01-11</td>\n",
              "      <td>NaT</td>\n",
              "      <td>0.0755</td>\n",
              "      <td>0.000809</td>\n",
              "      <td>285.160727</td>\n",
              "    </tr>\n",
              "    <tr>\n",
              "      <th>1817</th>\n",
              "      <td>2025-01-12</td>\n",
              "      <td>NaT</td>\n",
              "      <td>0.0755</td>\n",
              "      <td>0.000809</td>\n",
              "      <td>285.391438</td>\n",
              "    </tr>\n",
              "    <tr>\n",
              "      <th>1818</th>\n",
              "      <td>2025-01-13</td>\n",
              "      <td>NaT</td>\n",
              "      <td>0.0755</td>\n",
              "      <td>0.000809</td>\n",
              "      <td>285.622336</td>\n",
              "    </tr>\n",
              "    <tr>\n",
              "      <th>1819</th>\n",
              "      <td>2025-01-14</td>\n",
              "      <td>NaT</td>\n",
              "      <td>0.0755</td>\n",
              "      <td>0.000809</td>\n",
              "      <td>285.853421</td>\n",
              "    </tr>\n",
              "  </tbody>\n",
              "</table>\n",
              "<p>1820 rows × 5 columns</p>\n",
              "</div>"
            ],
            "text/plain": [
              "           Date Quarter  %Growth  Daily growth   GDP_Index\n",
              "0    2020-01-22     NaT   0.0039      0.000043  100.004325\n",
              "1    2020-01-23     NaT   0.0039      0.000043  100.008650\n",
              "2    2020-01-24     NaT   0.0039      0.000043  100.012976\n",
              "3    2020-01-25     NaT   0.0039      0.000043  100.017301\n",
              "4    2020-01-26     NaT   0.0039      0.000043  100.021627\n",
              "...         ...     ...      ...           ...         ...\n",
              "1815 2025-01-10     NaT   0.0755      0.000809  284.930202\n",
              "1816 2025-01-11     NaT   0.0755      0.000809  285.160727\n",
              "1817 2025-01-12     NaT   0.0755      0.000809  285.391438\n",
              "1818 2025-01-13     NaT   0.0755      0.000809  285.622336\n",
              "1819 2025-01-14     NaT   0.0755      0.000809  285.853421\n",
              "\n",
              "[1820 rows x 5 columns]"
            ]
          },
          "execution_count": 136,
          "metadata": {},
          "output_type": "execute_result"
        }
      ],
      "source": [
        "# Convert quarterly % growth to decimal\n",
        "gdp['%Growth'] = gdp['%Growth'] / 100\n",
        "\n",
        "# Create a full daily date range\n",
        "daily_dates = pd.date_range(start = naf_df.index.min(), end = naf_df.index.max(), freq = 'D')\n",
        "gdp_daily = pd.DataFrame({'Date': daily_dates})\n",
        "\n",
        "# Merge and forward-fill quarterly growth rates\n",
        "gdp_daily = gdp_daily.merge(gdp, left_on = 'Date', right_on = 'Quarter', how = 'left')\n",
        "gdp_daily['%Growth'] = gdp_daily['%Growth'].bfill().ffill()\n",
        "\n",
        "# Calculate daily growth rate assuming continuous compounding\n",
        "gdp_daily['Daily growth'] = np.log(1 + gdp_daily['%Growth']) / 90\n",
        "\n",
        "# Apply cumulative growth from a base value\n",
        "gdp_daily['GDP_Index'] = 100 * np.exp(gdp_daily['Daily growth'].cumsum())\n",
        "\n",
        "gdp_daily"
      ]
    },
    {
      "cell_type": "code",
      "execution_count": 137,
      "metadata": {
        "colab": {
          "base_uri": "https://localhost:8080/",
          "height": 237
        },
        "id": "8HFu2nts1JJ9",
        "outputId": "69775b68-a3de-4d0c-fc09-2f929b4c1ad9"
      },
      "outputs": [
        {
          "data": {
            "application/vnd.microsoft.datawrangler.viewer.v0+json": {
              "columns": [
                {
                  "name": "Date",
                  "rawType": "datetime64[ns]",
                  "type": "datetime"
                },
                {
                  "name": "High",
                  "rawType": "float64",
                  "type": "float"
                },
                {
                  "name": "Low",
                  "rawType": "float64",
                  "type": "float"
                },
                {
                  "name": "Open",
                  "rawType": "float64",
                  "type": "float"
                },
                {
                  "name": "Close",
                  "rawType": "float64",
                  "type": "float"
                },
                {
                  "name": "Volume",
                  "rawType": "int64",
                  "type": "integer"
                },
                {
                  "name": "SMA_200",
                  "rawType": "float64",
                  "type": "float"
                },
                {
                  "name": "RSI",
                  "rawType": "float64",
                  "type": "float"
                },
                {
                  "name": "STOCH",
                  "rawType": "float64",
                  "type": "float"
                },
                {
                  "name": "GDP_Index",
                  "rawType": "float64",
                  "type": "float"
                }
              ],
              "conversionMethod": "pd.DataFrame",
              "ref": "075d56b9-2531-4c65-8bc0-fbc3527b1a1f",
              "rows": [
                [
                  "2020-01-22 00:00:00",
                  "26.0",
                  "25.5",
                  "25.9",
                  "25.9",
                  "8950",
                  "20.4465",
                  "54.39516347081081",
                  "36.363636363636246",
                  "100.00432499876464"
                ],
                [
                  "2020-01-30 00:00:00",
                  "26.2",
                  "24.7",
                  "25.9",
                  "25.8",
                  "11370",
                  "20.499499999999998",
                  "52.38938116339677",
                  "42.30769230769234",
                  "100.03893172358258"
                ],
                [
                  "2020-01-31 00:00:00",
                  "25.7",
                  "24.5",
                  "25.7",
                  "25.5",
                  "7800",
                  "20.55125",
                  "46.81250123058304",
                  "35.71428571428571",
                  "100.04325840614379"
                ],
                [
                  "2020-02-03 00:00:00",
                  "25.2",
                  "23.75",
                  "24.45",
                  "24.45",
                  "137960",
                  "20.598000000000003",
                  "33.40798740538048",
                  "19.718309859154907",
                  "100.05623957663362"
                ],
                [
                  "2020-02-04 00:00:00",
                  "24.0",
                  "23.6",
                  "24.0",
                  "23.8",
                  "5390",
                  "20.641499999999997",
                  "28.05280514295778",
                  "5.4054054054053875",
                  "100.06056700775925"
                ]
              ],
              "shape": {
                "columns": 9,
                "rows": 5
              }
            },
            "text/html": [
              "<div>\n",
              "<style scoped>\n",
              "    .dataframe tbody tr th:only-of-type {\n",
              "        vertical-align: middle;\n",
              "    }\n",
              "\n",
              "    .dataframe tbody tr th {\n",
              "        vertical-align: top;\n",
              "    }\n",
              "\n",
              "    .dataframe thead th {\n",
              "        text-align: right;\n",
              "    }\n",
              "</style>\n",
              "<table border=\"1\" class=\"dataframe\">\n",
              "  <thead>\n",
              "    <tr style=\"text-align: right;\">\n",
              "      <th></th>\n",
              "      <th>High</th>\n",
              "      <th>Low</th>\n",
              "      <th>Open</th>\n",
              "      <th>Close</th>\n",
              "      <th>Volume</th>\n",
              "      <th>SMA_200</th>\n",
              "      <th>RSI</th>\n",
              "      <th>STOCH</th>\n",
              "      <th>GDP_Index</th>\n",
              "    </tr>\n",
              "    <tr>\n",
              "      <th>Date</th>\n",
              "      <th></th>\n",
              "      <th></th>\n",
              "      <th></th>\n",
              "      <th></th>\n",
              "      <th></th>\n",
              "      <th></th>\n",
              "      <th></th>\n",
              "      <th></th>\n",
              "      <th></th>\n",
              "    </tr>\n",
              "  </thead>\n",
              "  <tbody>\n",
              "    <tr>\n",
              "      <th>2020-01-22</th>\n",
              "      <td>26.0</td>\n",
              "      <td>25.50</td>\n",
              "      <td>25.90</td>\n",
              "      <td>25.90</td>\n",
              "      <td>8950</td>\n",
              "      <td>20.44650</td>\n",
              "      <td>54.395163</td>\n",
              "      <td>36.363636</td>\n",
              "      <td>100.004325</td>\n",
              "    </tr>\n",
              "    <tr>\n",
              "      <th>2020-01-30</th>\n",
              "      <td>26.2</td>\n",
              "      <td>24.70</td>\n",
              "      <td>25.90</td>\n",
              "      <td>25.80</td>\n",
              "      <td>11370</td>\n",
              "      <td>20.49950</td>\n",
              "      <td>52.389381</td>\n",
              "      <td>42.307692</td>\n",
              "      <td>100.038932</td>\n",
              "    </tr>\n",
              "    <tr>\n",
              "      <th>2020-01-31</th>\n",
              "      <td>25.7</td>\n",
              "      <td>24.50</td>\n",
              "      <td>25.70</td>\n",
              "      <td>25.50</td>\n",
              "      <td>7800</td>\n",
              "      <td>20.55125</td>\n",
              "      <td>46.812501</td>\n",
              "      <td>35.714286</td>\n",
              "      <td>100.043258</td>\n",
              "    </tr>\n",
              "    <tr>\n",
              "      <th>2020-02-03</th>\n",
              "      <td>25.2</td>\n",
              "      <td>23.75</td>\n",
              "      <td>24.45</td>\n",
              "      <td>24.45</td>\n",
              "      <td>137960</td>\n",
              "      <td>20.59800</td>\n",
              "      <td>33.407987</td>\n",
              "      <td>19.718310</td>\n",
              "      <td>100.056240</td>\n",
              "    </tr>\n",
              "    <tr>\n",
              "      <th>2020-02-04</th>\n",
              "      <td>24.0</td>\n",
              "      <td>23.60</td>\n",
              "      <td>24.00</td>\n",
              "      <td>23.80</td>\n",
              "      <td>5390</td>\n",
              "      <td>20.64150</td>\n",
              "      <td>28.052805</td>\n",
              "      <td>5.405405</td>\n",
              "      <td>100.060567</td>\n",
              "    </tr>\n",
              "  </tbody>\n",
              "</table>\n",
              "</div>"
            ],
            "text/plain": [
              "            High    Low   Open  Close  Volume   SMA_200        RSI      STOCH  \\\n",
              "Date                                                                            \n",
              "2020-01-22  26.0  25.50  25.90  25.90    8950  20.44650  54.395163  36.363636   \n",
              "2020-01-30  26.2  24.70  25.90  25.80   11370  20.49950  52.389381  42.307692   \n",
              "2020-01-31  25.7  24.50  25.70  25.50    7800  20.55125  46.812501  35.714286   \n",
              "2020-02-03  25.2  23.75  24.45  24.45  137960  20.59800  33.407987  19.718310   \n",
              "2020-02-04  24.0  23.60  24.00  23.80    5390  20.64150  28.052805   5.405405   \n",
              "\n",
              "             GDP_Index  \n",
              "Date                    \n",
              "2020-01-22  100.004325  \n",
              "2020-01-30  100.038932  \n",
              "2020-01-31  100.043258  \n",
              "2020-02-03  100.056240  \n",
              "2020-02-04  100.060567  "
            ]
          },
          "execution_count": 137,
          "metadata": {},
          "output_type": "execute_result"
        }
      ],
      "source": [
        "# We use GDP index\n",
        "gdp_daily = gdp_daily[['Date', 'GDP_Index']]\n",
        "gdp_daily.set_index('Date', inplace = True)\n",
        "\n",
        "# Merge this with 6 datasets\n",
        "naf_df = naf_df.merge(gdp_daily, left_index = True, right_index = True)\n",
        "\n",
        "# View one to check\n",
        "naf_df.head()"
      ]
    },
    {
      "cell_type": "markdown",
      "metadata": {
        "id": "0qTGiKmh6P15"
      },
      "source": [
        "## **Interest rates**"
      ]
    },
    {
      "cell_type": "code",
      "execution_count": 138,
      "metadata": {
        "colab": {
          "base_uri": "https://localhost:8080/",
          "height": 206
        },
        "id": "OpeVMnB06LD3",
        "outputId": "1dd4ff84-3eaf-41db-9816-0c59ffd2eefc"
      },
      "outputs": [
        {
          "data": {
            "application/vnd.microsoft.datawrangler.viewer.v0+json": {
              "columns": [
                {
                  "name": "index",
                  "rawType": "int64",
                  "type": "integer"
                },
                {
                  "name": "Date",
                  "rawType": "datetime64[ns]",
                  "type": "datetime"
                },
                {
                  "name": "%",
                  "rawType": "float64",
                  "type": "float"
                }
              ],
              "conversionMethod": "pd.DataFrame",
              "ref": "4469f4c3-dc6d-4085-a524-48453501b347",
              "rows": [
                [
                  "0",
                  "2020-01-31 00:00:00",
                  "6.0"
                ],
                [
                  "1",
                  "2020-02-29 00:00:00",
                  "6.0"
                ],
                [
                  "2",
                  "2020-03-17 00:00:00",
                  "5.0"
                ],
                [
                  "3",
                  "2020-04-30 00:00:00",
                  "5.0"
                ],
                [
                  "4",
                  "2020-05-12 00:00:00",
                  "4.5"
                ]
              ],
              "shape": {
                "columns": 2,
                "rows": 5
              }
            },
            "text/html": [
              "<div>\n",
              "<style scoped>\n",
              "    .dataframe tbody tr th:only-of-type {\n",
              "        vertical-align: middle;\n",
              "    }\n",
              "\n",
              "    .dataframe tbody tr th {\n",
              "        vertical-align: top;\n",
              "    }\n",
              "\n",
              "    .dataframe thead th {\n",
              "        text-align: right;\n",
              "    }\n",
              "</style>\n",
              "<table border=\"1\" class=\"dataframe\">\n",
              "  <thead>\n",
              "    <tr style=\"text-align: right;\">\n",
              "      <th></th>\n",
              "      <th>Date</th>\n",
              "      <th>%</th>\n",
              "    </tr>\n",
              "  </thead>\n",
              "  <tbody>\n",
              "    <tr>\n",
              "      <th>0</th>\n",
              "      <td>2020-01-31</td>\n",
              "      <td>6.0</td>\n",
              "    </tr>\n",
              "    <tr>\n",
              "      <th>1</th>\n",
              "      <td>2020-02-29</td>\n",
              "      <td>6.0</td>\n",
              "    </tr>\n",
              "    <tr>\n",
              "      <th>2</th>\n",
              "      <td>2020-03-17</td>\n",
              "      <td>5.0</td>\n",
              "    </tr>\n",
              "    <tr>\n",
              "      <th>3</th>\n",
              "      <td>2020-04-30</td>\n",
              "      <td>5.0</td>\n",
              "    </tr>\n",
              "    <tr>\n",
              "      <th>4</th>\n",
              "      <td>2020-05-12</td>\n",
              "      <td>4.5</td>\n",
              "    </tr>\n",
              "  </tbody>\n",
              "</table>\n",
              "</div>"
            ],
            "text/plain": [
              "        Date    %\n",
              "0 2020-01-31  6.0\n",
              "1 2020-02-29  6.0\n",
              "2 2020-03-17  5.0\n",
              "3 2020-04-30  5.0\n",
              "4 2020-05-12  4.5"
            ]
          },
          "execution_count": 138,
          "metadata": {},
          "output_type": "execute_result"
        }
      ],
      "source": [
        "ir = pd.read_excel('ir.xlsx')\n",
        "ir.head()"
      ]
    },
    {
      "cell_type": "code",
      "execution_count": 139,
      "metadata": {
        "colab": {
          "base_uri": "https://localhost:8080/",
          "height": 478
        },
        "id": "E4rCdRpu7e6D",
        "outputId": "531dd580-7bb3-4d47-851b-e8bf0674ee8f"
      },
      "outputs": [
        {
          "data": {
            "application/vnd.microsoft.datawrangler.viewer.v0+json": {
              "columns": [
                {
                  "name": "index",
                  "rawType": "int64",
                  "type": "integer"
                },
                {
                  "name": "Date",
                  "rawType": "datetime64[ns]",
                  "type": "datetime"
                },
                {
                  "name": "Interest rates",
                  "rawType": "float64",
                  "type": "float"
                }
              ],
              "conversionMethod": "pd.DataFrame",
              "ref": "07a1aa83-f320-4abe-87d7-35e43af9ce0a",
              "rows": [
                [
                  "0",
                  "2020-01-22 00:00:00",
                  "6.0"
                ],
                [
                  "1",
                  "2020-01-23 00:00:00",
                  "6.0"
                ],
                [
                  "2",
                  "2020-01-24 00:00:00",
                  "6.0"
                ],
                [
                  "3",
                  "2020-01-25 00:00:00",
                  "6.0"
                ],
                [
                  "4",
                  "2020-01-26 00:00:00",
                  "6.0"
                ],
                [
                  "5",
                  "2020-01-27 00:00:00",
                  "6.0"
                ],
                [
                  "6",
                  "2020-01-28 00:00:00",
                  "6.0"
                ],
                [
                  "7",
                  "2020-01-29 00:00:00",
                  "6.0"
                ],
                [
                  "8",
                  "2020-01-30 00:00:00",
                  "6.0"
                ],
                [
                  "9",
                  "2020-01-31 00:00:00",
                  "6.0"
                ],
                [
                  "10",
                  "2020-02-01 00:00:00",
                  "6.0"
                ],
                [
                  "11",
                  "2020-02-02 00:00:00",
                  "6.0"
                ],
                [
                  "12",
                  "2020-02-03 00:00:00",
                  "6.0"
                ],
                [
                  "13",
                  "2020-02-04 00:00:00",
                  "6.0"
                ],
                [
                  "14",
                  "2020-02-05 00:00:00",
                  "6.0"
                ],
                [
                  "15",
                  "2020-02-06 00:00:00",
                  "6.0"
                ],
                [
                  "16",
                  "2020-02-07 00:00:00",
                  "6.0"
                ],
                [
                  "17",
                  "2020-02-08 00:00:00",
                  "6.0"
                ],
                [
                  "18",
                  "2020-02-09 00:00:00",
                  "6.0"
                ],
                [
                  "19",
                  "2020-02-10 00:00:00",
                  "6.0"
                ],
                [
                  "20",
                  "2020-02-11 00:00:00",
                  "6.0"
                ],
                [
                  "21",
                  "2020-02-12 00:00:00",
                  "6.0"
                ],
                [
                  "22",
                  "2020-02-13 00:00:00",
                  "6.0"
                ],
                [
                  "23",
                  "2020-02-14 00:00:00",
                  "6.0"
                ],
                [
                  "24",
                  "2020-02-15 00:00:00",
                  "6.0"
                ],
                [
                  "25",
                  "2020-02-16 00:00:00",
                  "6.0"
                ],
                [
                  "26",
                  "2020-02-17 00:00:00",
                  "6.0"
                ],
                [
                  "27",
                  "2020-02-18 00:00:00",
                  "6.0"
                ],
                [
                  "28",
                  "2020-02-19 00:00:00",
                  "6.0"
                ],
                [
                  "29",
                  "2020-02-20 00:00:00",
                  "6.0"
                ],
                [
                  "30",
                  "2020-02-21 00:00:00",
                  "6.0"
                ],
                [
                  "31",
                  "2020-02-22 00:00:00",
                  "6.0"
                ],
                [
                  "32",
                  "2020-02-23 00:00:00",
                  "6.0"
                ],
                [
                  "33",
                  "2020-02-24 00:00:00",
                  "6.0"
                ],
                [
                  "34",
                  "2020-02-25 00:00:00",
                  "6.0"
                ],
                [
                  "35",
                  "2020-02-26 00:00:00",
                  "6.0"
                ],
                [
                  "36",
                  "2020-02-27 00:00:00",
                  "6.0"
                ],
                [
                  "37",
                  "2020-02-28 00:00:00",
                  "6.0"
                ],
                [
                  "38",
                  "2020-02-29 00:00:00",
                  "6.0"
                ],
                [
                  "39",
                  "2020-03-01 00:00:00",
                  "5.9411764705882355"
                ],
                [
                  "40",
                  "2020-03-02 00:00:00",
                  "5.882352941176471"
                ],
                [
                  "41",
                  "2020-03-03 00:00:00",
                  "5.823529411764706"
                ],
                [
                  "42",
                  "2020-03-04 00:00:00",
                  "5.764705882352941"
                ],
                [
                  "43",
                  "2020-03-05 00:00:00",
                  "5.705882352941177"
                ],
                [
                  "44",
                  "2020-03-06 00:00:00",
                  "5.647058823529412"
                ],
                [
                  "45",
                  "2020-03-07 00:00:00",
                  "5.588235294117647"
                ],
                [
                  "46",
                  "2020-03-08 00:00:00",
                  "5.529411764705882"
                ],
                [
                  "47",
                  "2020-03-09 00:00:00",
                  "5.470588235294118"
                ],
                [
                  "48",
                  "2020-03-10 00:00:00",
                  "5.411764705882353"
                ],
                [
                  "49",
                  "2020-03-11 00:00:00",
                  "5.352941176470588"
                ]
              ],
              "shape": {
                "columns": 2,
                "rows": 1820
              }
            },
            "text/html": [
              "<div>\n",
              "<style scoped>\n",
              "    .dataframe tbody tr th:only-of-type {\n",
              "        vertical-align: middle;\n",
              "    }\n",
              "\n",
              "    .dataframe tbody tr th {\n",
              "        vertical-align: top;\n",
              "    }\n",
              "\n",
              "    .dataframe thead th {\n",
              "        text-align: right;\n",
              "    }\n",
              "</style>\n",
              "<table border=\"1\" class=\"dataframe\">\n",
              "  <thead>\n",
              "    <tr style=\"text-align: right;\">\n",
              "      <th></th>\n",
              "      <th>Date</th>\n",
              "      <th>Interest rates</th>\n",
              "    </tr>\n",
              "  </thead>\n",
              "  <tbody>\n",
              "    <tr>\n",
              "      <th>0</th>\n",
              "      <td>2020-01-22</td>\n",
              "      <td>6.0</td>\n",
              "    </tr>\n",
              "    <tr>\n",
              "      <th>1</th>\n",
              "      <td>2020-01-23</td>\n",
              "      <td>6.0</td>\n",
              "    </tr>\n",
              "    <tr>\n",
              "      <th>2</th>\n",
              "      <td>2020-01-24</td>\n",
              "      <td>6.0</td>\n",
              "    </tr>\n",
              "    <tr>\n",
              "      <th>3</th>\n",
              "      <td>2020-01-25</td>\n",
              "      <td>6.0</td>\n",
              "    </tr>\n",
              "    <tr>\n",
              "      <th>4</th>\n",
              "      <td>2020-01-26</td>\n",
              "      <td>6.0</td>\n",
              "    </tr>\n",
              "    <tr>\n",
              "      <th>...</th>\n",
              "      <td>...</td>\n",
              "      <td>...</td>\n",
              "    </tr>\n",
              "    <tr>\n",
              "      <th>1815</th>\n",
              "      <td>2025-01-10</td>\n",
              "      <td>4.5</td>\n",
              "    </tr>\n",
              "    <tr>\n",
              "      <th>1816</th>\n",
              "      <td>2025-01-11</td>\n",
              "      <td>4.5</td>\n",
              "    </tr>\n",
              "    <tr>\n",
              "      <th>1817</th>\n",
              "      <td>2025-01-12</td>\n",
              "      <td>4.5</td>\n",
              "    </tr>\n",
              "    <tr>\n",
              "      <th>1818</th>\n",
              "      <td>2025-01-13</td>\n",
              "      <td>4.5</td>\n",
              "    </tr>\n",
              "    <tr>\n",
              "      <th>1819</th>\n",
              "      <td>2025-01-14</td>\n",
              "      <td>4.5</td>\n",
              "    </tr>\n",
              "  </tbody>\n",
              "</table>\n",
              "<p>1820 rows × 2 columns</p>\n",
              "</div>"
            ],
            "text/plain": [
              "           Date  Interest rates\n",
              "0    2020-01-22             6.0\n",
              "1    2020-01-23             6.0\n",
              "2    2020-01-24             6.0\n",
              "3    2020-01-25             6.0\n",
              "4    2020-01-26             6.0\n",
              "...         ...             ...\n",
              "1815 2025-01-10             4.5\n",
              "1816 2025-01-11             4.5\n",
              "1817 2025-01-12             4.5\n",
              "1818 2025-01-13             4.5\n",
              "1819 2025-01-14             4.5\n",
              "\n",
              "[1820 rows x 2 columns]"
            ]
          },
          "execution_count": 139,
          "metadata": {},
          "output_type": "execute_result"
        }
      ],
      "source": [
        "ir['Date'] = pd.to_datetime(ir['Date'])\n",
        "ir.rename(columns={\"%\": \"Interest rates\"}, inplace=True)\n",
        "# Create a full daily date range from min to max date\n",
        "daily_dates = pd.date_range(start=naf_df.index.min(), end=naf_df.index.max(), freq=\"D\")\n",
        "daily_ir = pd.DataFrame({\"Date\": daily_dates})\n",
        "\n",
        "# Merge and forward-fill quarterly growth rates\n",
        "daily_ir = daily_ir.merge(ir, on = 'Date', how=\"left\")\n",
        "\n",
        "# Calculate daily growth rate assuming continuous compounding\n",
        "daily_ir['Interest rates'] = daily_ir['Interest rates'].interpolate(method = 'linear')\n",
        "daily_ir['Interest rates'] = daily_ir['Interest rates'].fillna(method = 'bfill')\n",
        "\n",
        "daily_ir"
      ]
    },
    {
      "cell_type": "code",
      "execution_count": 140,
      "metadata": {
        "colab": {
          "base_uri": "https://localhost:8080/",
          "height": 237
        },
        "id": "cRXKbwsx8Mxt",
        "outputId": "3f0151ae-6de5-4e52-eebf-70b55bc6ba3e"
      },
      "outputs": [
        {
          "data": {
            "application/vnd.microsoft.datawrangler.viewer.v0+json": {
              "columns": [
                {
                  "name": "Date",
                  "rawType": "datetime64[ns]",
                  "type": "datetime"
                },
                {
                  "name": "High",
                  "rawType": "float64",
                  "type": "float"
                },
                {
                  "name": "Low",
                  "rawType": "float64",
                  "type": "float"
                },
                {
                  "name": "Open",
                  "rawType": "float64",
                  "type": "float"
                },
                {
                  "name": "Close",
                  "rawType": "float64",
                  "type": "float"
                },
                {
                  "name": "Volume",
                  "rawType": "int64",
                  "type": "integer"
                },
                {
                  "name": "SMA_200",
                  "rawType": "float64",
                  "type": "float"
                },
                {
                  "name": "RSI",
                  "rawType": "float64",
                  "type": "float"
                },
                {
                  "name": "STOCH",
                  "rawType": "float64",
                  "type": "float"
                },
                {
                  "name": "GDP_Index",
                  "rawType": "float64",
                  "type": "float"
                },
                {
                  "name": "Interest rates",
                  "rawType": "float64",
                  "type": "float"
                }
              ],
              "conversionMethod": "pd.DataFrame",
              "ref": "ac131f7a-b772-4d30-85d4-c2bc45d19ae9",
              "rows": [
                [
                  "2020-01-22 00:00:00",
                  "26.0",
                  "25.5",
                  "25.9",
                  "25.9",
                  "8950",
                  "20.4465",
                  "54.39516347081081",
                  "36.363636363636246",
                  "100.00432499876464",
                  "6.0"
                ],
                [
                  "2020-01-30 00:00:00",
                  "26.2",
                  "24.7",
                  "25.9",
                  "25.8",
                  "11370",
                  "20.499499999999998",
                  "52.38938116339677",
                  "42.30769230769234",
                  "100.03893172358258",
                  "6.0"
                ],
                [
                  "2020-01-31 00:00:00",
                  "25.7",
                  "24.5",
                  "25.7",
                  "25.5",
                  "7800",
                  "20.55125",
                  "46.81250123058304",
                  "35.71428571428571",
                  "100.04325840614379",
                  "6.0"
                ],
                [
                  "2020-02-03 00:00:00",
                  "25.2",
                  "23.75",
                  "24.45",
                  "24.45",
                  "137960",
                  "20.598000000000003",
                  "33.40798740538048",
                  "19.718309859154907",
                  "100.05623957663362",
                  "6.0"
                ],
                [
                  "2020-02-04 00:00:00",
                  "24.0",
                  "23.6",
                  "24.0",
                  "23.8",
                  "5390",
                  "20.641499999999997",
                  "28.05280514295778",
                  "5.4054054054053875",
                  "100.06056700775925",
                  "6.0"
                ]
              ],
              "shape": {
                "columns": 10,
                "rows": 5
              }
            },
            "text/html": [
              "<div>\n",
              "<style scoped>\n",
              "    .dataframe tbody tr th:only-of-type {\n",
              "        vertical-align: middle;\n",
              "    }\n",
              "\n",
              "    .dataframe tbody tr th {\n",
              "        vertical-align: top;\n",
              "    }\n",
              "\n",
              "    .dataframe thead th {\n",
              "        text-align: right;\n",
              "    }\n",
              "</style>\n",
              "<table border=\"1\" class=\"dataframe\">\n",
              "  <thead>\n",
              "    <tr style=\"text-align: right;\">\n",
              "      <th></th>\n",
              "      <th>High</th>\n",
              "      <th>Low</th>\n",
              "      <th>Open</th>\n",
              "      <th>Close</th>\n",
              "      <th>Volume</th>\n",
              "      <th>SMA_200</th>\n",
              "      <th>RSI</th>\n",
              "      <th>STOCH</th>\n",
              "      <th>GDP_Index</th>\n",
              "      <th>Interest rates</th>\n",
              "    </tr>\n",
              "    <tr>\n",
              "      <th>Date</th>\n",
              "      <th></th>\n",
              "      <th></th>\n",
              "      <th></th>\n",
              "      <th></th>\n",
              "      <th></th>\n",
              "      <th></th>\n",
              "      <th></th>\n",
              "      <th></th>\n",
              "      <th></th>\n",
              "      <th></th>\n",
              "    </tr>\n",
              "  </thead>\n",
              "  <tbody>\n",
              "    <tr>\n",
              "      <th>2020-01-22</th>\n",
              "      <td>26.0</td>\n",
              "      <td>25.50</td>\n",
              "      <td>25.90</td>\n",
              "      <td>25.90</td>\n",
              "      <td>8950</td>\n",
              "      <td>20.44650</td>\n",
              "      <td>54.395163</td>\n",
              "      <td>36.363636</td>\n",
              "      <td>100.004325</td>\n",
              "      <td>6.0</td>\n",
              "    </tr>\n",
              "    <tr>\n",
              "      <th>2020-01-30</th>\n",
              "      <td>26.2</td>\n",
              "      <td>24.70</td>\n",
              "      <td>25.90</td>\n",
              "      <td>25.80</td>\n",
              "      <td>11370</td>\n",
              "      <td>20.49950</td>\n",
              "      <td>52.389381</td>\n",
              "      <td>42.307692</td>\n",
              "      <td>100.038932</td>\n",
              "      <td>6.0</td>\n",
              "    </tr>\n",
              "    <tr>\n",
              "      <th>2020-01-31</th>\n",
              "      <td>25.7</td>\n",
              "      <td>24.50</td>\n",
              "      <td>25.70</td>\n",
              "      <td>25.50</td>\n",
              "      <td>7800</td>\n",
              "      <td>20.55125</td>\n",
              "      <td>46.812501</td>\n",
              "      <td>35.714286</td>\n",
              "      <td>100.043258</td>\n",
              "      <td>6.0</td>\n",
              "    </tr>\n",
              "    <tr>\n",
              "      <th>2020-02-03</th>\n",
              "      <td>25.2</td>\n",
              "      <td>23.75</td>\n",
              "      <td>24.45</td>\n",
              "      <td>24.45</td>\n",
              "      <td>137960</td>\n",
              "      <td>20.59800</td>\n",
              "      <td>33.407987</td>\n",
              "      <td>19.718310</td>\n",
              "      <td>100.056240</td>\n",
              "      <td>6.0</td>\n",
              "    </tr>\n",
              "    <tr>\n",
              "      <th>2020-02-04</th>\n",
              "      <td>24.0</td>\n",
              "      <td>23.60</td>\n",
              "      <td>24.00</td>\n",
              "      <td>23.80</td>\n",
              "      <td>5390</td>\n",
              "      <td>20.64150</td>\n",
              "      <td>28.052805</td>\n",
              "      <td>5.405405</td>\n",
              "      <td>100.060567</td>\n",
              "      <td>6.0</td>\n",
              "    </tr>\n",
              "  </tbody>\n",
              "</table>\n",
              "</div>"
            ],
            "text/plain": [
              "            High    Low   Open  Close  Volume   SMA_200        RSI      STOCH  \\\n",
              "Date                                                                            \n",
              "2020-01-22  26.0  25.50  25.90  25.90    8950  20.44650  54.395163  36.363636   \n",
              "2020-01-30  26.2  24.70  25.90  25.80   11370  20.49950  52.389381  42.307692   \n",
              "2020-01-31  25.7  24.50  25.70  25.50    7800  20.55125  46.812501  35.714286   \n",
              "2020-02-03  25.2  23.75  24.45  24.45  137960  20.59800  33.407987  19.718310   \n",
              "2020-02-04  24.0  23.60  24.00  23.80    5390  20.64150  28.052805   5.405405   \n",
              "\n",
              "             GDP_Index  Interest rates  \n",
              "Date                                    \n",
              "2020-01-22  100.004325             6.0  \n",
              "2020-01-30  100.038932             6.0  \n",
              "2020-01-31  100.043258             6.0  \n",
              "2020-02-03  100.056240             6.0  \n",
              "2020-02-04  100.060567             6.0  "
            ]
          },
          "execution_count": 140,
          "metadata": {},
          "output_type": "execute_result"
        }
      ],
      "source": [
        "# Merge with 6 datasets\n",
        "daily_ir.set_index('Date', inplace = True)\n",
        "\n",
        "naf_df = naf_df.merge(daily_ir, left_index = True, right_index = True)\n",
        "\n",
        "# View one to see\n",
        "naf_df.head()"
      ]
    },
    {
      "cell_type": "code",
      "execution_count": 141,
      "metadata": {
        "colab": {
          "base_uri": "https://localhost:8080/",
          "height": 237
        },
        "id": "QboUYvnI-V6l",
        "outputId": "3e583600-2017-4378-bcd1-fe11fa20b26b"
      },
      "outputs": [
        {
          "data": {
            "application/vnd.microsoft.datawrangler.viewer.v0+json": {
              "columns": [
                {
                  "name": "Date",
                  "rawType": "datetime64[ns]",
                  "type": "datetime"
                },
                {
                  "name": "Close",
                  "rawType": "float64",
                  "type": "float"
                },
                {
                  "name": "SMA_200",
                  "rawType": "float64",
                  "type": "float"
                },
                {
                  "name": "RSI",
                  "rawType": "float64",
                  "type": "float"
                },
                {
                  "name": "STOCH",
                  "rawType": "float64",
                  "type": "float"
                },
                {
                  "name": "GDP_Index",
                  "rawType": "float64",
                  "type": "float"
                },
                {
                  "name": "Interest rates",
                  "rawType": "float64",
                  "type": "float"
                }
              ],
              "conversionMethod": "pd.DataFrame",
              "ref": "241c135a-0446-4c06-a189-4e0f358c2d9c",
              "rows": [
                [
                  "2020-01-22 00:00:00",
                  "25.9",
                  "20.4465",
                  "54.39516347081081",
                  "36.363636363636246",
                  "100.00432499876464",
                  "6.0"
                ],
                [
                  "2020-01-30 00:00:00",
                  "25.8",
                  "20.499499999999998",
                  "52.38938116339677",
                  "42.30769230769234",
                  "100.03893172358258",
                  "6.0"
                ],
                [
                  "2020-01-31 00:00:00",
                  "25.5",
                  "20.55125",
                  "46.81250123058304",
                  "35.71428571428571",
                  "100.04325840614379",
                  "6.0"
                ],
                [
                  "2020-02-03 00:00:00",
                  "24.45",
                  "20.598000000000003",
                  "33.40798740538048",
                  "19.718309859154907",
                  "100.05623957663362",
                  "6.0"
                ],
                [
                  "2020-02-04 00:00:00",
                  "23.8",
                  "20.641499999999997",
                  "28.05280514295778",
                  "5.4054054054053875",
                  "100.06056700775925",
                  "6.0"
                ]
              ],
              "shape": {
                "columns": 6,
                "rows": 5
              }
            },
            "text/html": [
              "<div>\n",
              "<style scoped>\n",
              "    .dataframe tbody tr th:only-of-type {\n",
              "        vertical-align: middle;\n",
              "    }\n",
              "\n",
              "    .dataframe tbody tr th {\n",
              "        vertical-align: top;\n",
              "    }\n",
              "\n",
              "    .dataframe thead th {\n",
              "        text-align: right;\n",
              "    }\n",
              "</style>\n",
              "<table border=\"1\" class=\"dataframe\">\n",
              "  <thead>\n",
              "    <tr style=\"text-align: right;\">\n",
              "      <th></th>\n",
              "      <th>Close</th>\n",
              "      <th>SMA_200</th>\n",
              "      <th>RSI</th>\n",
              "      <th>STOCH</th>\n",
              "      <th>GDP_Index</th>\n",
              "      <th>Interest rates</th>\n",
              "    </tr>\n",
              "    <tr>\n",
              "      <th>Date</th>\n",
              "      <th></th>\n",
              "      <th></th>\n",
              "      <th></th>\n",
              "      <th></th>\n",
              "      <th></th>\n",
              "      <th></th>\n",
              "    </tr>\n",
              "  </thead>\n",
              "  <tbody>\n",
              "    <tr>\n",
              "      <th>2020-01-22</th>\n",
              "      <td>25.90</td>\n",
              "      <td>20.44650</td>\n",
              "      <td>54.395163</td>\n",
              "      <td>36.363636</td>\n",
              "      <td>100.004325</td>\n",
              "      <td>6.0</td>\n",
              "    </tr>\n",
              "    <tr>\n",
              "      <th>2020-01-30</th>\n",
              "      <td>25.80</td>\n",
              "      <td>20.49950</td>\n",
              "      <td>52.389381</td>\n",
              "      <td>42.307692</td>\n",
              "      <td>100.038932</td>\n",
              "      <td>6.0</td>\n",
              "    </tr>\n",
              "    <tr>\n",
              "      <th>2020-01-31</th>\n",
              "      <td>25.50</td>\n",
              "      <td>20.55125</td>\n",
              "      <td>46.812501</td>\n",
              "      <td>35.714286</td>\n",
              "      <td>100.043258</td>\n",
              "      <td>6.0</td>\n",
              "    </tr>\n",
              "    <tr>\n",
              "      <th>2020-02-03</th>\n",
              "      <td>24.45</td>\n",
              "      <td>20.59800</td>\n",
              "      <td>33.407987</td>\n",
              "      <td>19.718310</td>\n",
              "      <td>100.056240</td>\n",
              "      <td>6.0</td>\n",
              "    </tr>\n",
              "    <tr>\n",
              "      <th>2020-02-04</th>\n",
              "      <td>23.80</td>\n",
              "      <td>20.64150</td>\n",
              "      <td>28.052805</td>\n",
              "      <td>5.405405</td>\n",
              "      <td>100.060567</td>\n",
              "      <td>6.0</td>\n",
              "    </tr>\n",
              "  </tbody>\n",
              "</table>\n",
              "</div>"
            ],
            "text/plain": [
              "            Close   SMA_200        RSI      STOCH   GDP_Index  Interest rates\n",
              "Date                                                                         \n",
              "2020-01-22  25.90  20.44650  54.395163  36.363636  100.004325             6.0\n",
              "2020-01-30  25.80  20.49950  52.389381  42.307692  100.038932             6.0\n",
              "2020-01-31  25.50  20.55125  46.812501  35.714286  100.043258             6.0\n",
              "2020-02-03  24.45  20.59800  33.407987  19.718310  100.056240             6.0\n",
              "2020-02-04  23.80  20.64150  28.052805   5.405405  100.060567             6.0"
            ]
          },
          "execution_count": 141,
          "metadata": {},
          "output_type": "execute_result"
        }
      ],
      "source": [
        "# Drop unnecessary columns\n",
        "naf_df.drop(['High', 'Low', 'Open', 'Volume'], axis = 1, inplace = True)\n",
        "\n",
        "naf_df.head()"
      ]
    },
    {
      "cell_type": "markdown",
      "metadata": {
        "id": "Nj6rQcmD-i2G"
      },
      "source": [
        "# **ARIMAX models**"
      ]
    },
    {
      "cell_type": "code",
      "execution_count": 142,
      "metadata": {},
      "outputs": [],
      "source": [
        "# Define evaluation metrics\n",
        "def calculate_accuracy(real, predict):\n",
        "    return (1 - np.sqrt(np.mean(np.square((real - predict) / real)))) * 100\n",
        "\n",
        "def evaluate_performance(real, predict):\n",
        "    mse = mean_squared_error(real, predict)\n",
        "    rmse = np.sqrt(mse)\n",
        "    accuracy = calculate_accuracy(real, predict)\n",
        "    return mse, rmse, accuracy"
      ]
    },
    {
      "cell_type": "code",
      "execution_count": 143,
      "metadata": {},
      "outputs": [],
      "source": [
        "# Split data into train and test (80:20)\n",
        "train_size = int(len(naf_df) * 0.8)\n",
        "train, test = naf_df.iloc[:train_size], naf_df.iloc[train_size:]\n",
        "\n",
        "# Define target variable and exogenous features\n",
        "y_train, y_test = train['Close'], test['Close']\n",
        "exog_train = train[['SMA_200', 'RSI', 'STOCH', 'GDP_Index', 'Interest rates']]\n",
        "exog_test = test[['SMA_200', 'RSI', 'STOCH', 'GDP_Index', 'Interest rates']]"
      ]
    },
    {
      "cell_type": "code",
      "execution_count": 144,
      "metadata": {},
      "outputs": [
        {
          "name": "stdout",
          "output_type": "stream",
          "text": [
            "Best ARIMA Order: (0, 1, 1)\n",
            "                               SARIMAX Results                                \n",
            "==============================================================================\n",
            "Dep. Variable:                      y   No. Observations:                  996\n",
            "Model:               SARIMAX(0, 1, 1)   Log Likelihood                -595.403\n",
            "Date:                Fri, 07 Mar 2025   AIC                           1194.806\n",
            "Time:                        02:01:19   BIC                           1204.611\n",
            "Sample:                             0   HQIC                          1198.533\n",
            "                                - 996                                         \n",
            "Covariance Type:                  opg                                         \n",
            "==============================================================================\n",
            "                 coef    std err          z      P>|z|      [0.025      0.975]\n",
            "------------------------------------------------------------------------------\n",
            "ma.L1          0.1540      0.023      6.692      0.000       0.109       0.199\n",
            "sigma2         0.1938      0.006     33.481      0.000       0.182       0.205\n",
            "===================================================================================\n",
            "Ljung-Box (L1) (Q):                   0.00   Jarque-Bera (JB):               278.79\n",
            "Prob(Q):                              0.96   Prob(JB):                         0.00\n",
            "Heteroskedasticity (H):               0.30   Skew:                             0.19\n",
            "Prob(H) (two-sided):                  0.00   Kurtosis:                         5.57\n",
            "===================================================================================\n",
            "\n",
            "Warnings:\n",
            "[1] Covariance matrix calculated using the outer product of gradients (complex-step).\n"
          ]
        }
      ],
      "source": [
        "# Use auto_arima to find the best (p, d, q) order\n",
        "auto_arima_model = auto_arima(y_train, exogenous=exog_train, seasonal=False, stepwise=True, suppress_warnings=True)\n",
        "best_order = auto_arima_model.order\n",
        "print(f\"Best ARIMA Order: {best_order}\")\n",
        "print(auto_arima_model.summary())"
      ]
    },
    {
      "cell_type": "code",
      "execution_count": 145,
      "metadata": {},
      "outputs": [
        {
          "name": "stdout",
          "output_type": "stream",
          "text": [
            "                               SARIMAX Results                                \n",
            "==============================================================================\n",
            "Dep. Variable:                  Close   No. Observations:                  996\n",
            "Model:               SARIMAX(0, 1, 1)   Log Likelihood                 160.461\n",
            "Date:                Fri, 07 Mar 2025   AIC                           -306.922\n",
            "Time:                        02:01:20   BIC                           -272.617\n",
            "Sample:                             0   HQIC                          -293.879\n",
            "                                - 996                                         \n",
            "Covariance Type:                  opg                                         \n",
            "==================================================================================\n",
            "                     coef    std err          z      P>|z|      [0.025      0.975]\n",
            "----------------------------------------------------------------------------------\n",
            "SMA_200            0.6598      0.221      2.989      0.003       0.227       1.092\n",
            "RSI                0.0806      0.002     50.349      0.000       0.077       0.084\n",
            "STOCH              0.0005      0.001      0.810      0.418      -0.001       0.002\n",
            "GDP_Index         -0.1277      0.035     -3.615      0.000      -0.197      -0.058\n",
            "Interest rates     0.1787      0.496      0.360      0.719      -0.793       1.151\n",
            "ma.L1              0.2169      0.024      9.061      0.000       0.170       0.264\n",
            "sigma2             0.0424      0.001     38.723      0.000       0.040       0.045\n",
            "===================================================================================\n",
            "Ljung-Box (L1) (Q):                   0.30   Jarque-Bera (JB):              1188.40\n",
            "Prob(Q):                              0.59   Prob(JB):                         0.00\n",
            "Heteroskedasticity (H):               0.81   Skew:                            -0.03\n",
            "Prob(H) (two-sided):                  0.05   Kurtosis:                         8.36\n",
            "===================================================================================\n",
            "\n",
            "Warnings:\n",
            "[1] Covariance matrix calculated using the outer product of gradients (complex-step).\n"
          ]
        }
      ],
      "source": [
        "# Fit SARIMAX model using the best order\n",
        "sarimax_model = SARIMAX(y_train, exog=exog_train, order=best_order, enforce_stationarity=False, enforce_invertibility=False)\n",
        "sarimax_result = sarimax_model.fit(disp=False)\n",
        "# Print model summary\n",
        "print(sarimax_result.summary())"
      ]
    },
    {
      "cell_type": "code",
      "execution_count": 146,
      "metadata": {},
      "outputs": [
        {
          "data": {
            "image/png": "[encoded data removed]",
            "text/plain": [
              "<Figure size 1200x600 with 1 Axes>"
            ]
          },
          "metadata": {},
          "output_type": "display_data"
        }
      ],
      "source": [
        "# Make predictions on the test set\n",
        "predictions = sarimax_result.predict(start=len(y_train), end=len(y_train) + len(y_test) - 1, exog=exog_test)\n",
        "\n",
        "# Visualization\n",
        "plt.figure(figsize=(12, 6))\n",
        "plt.plot(test.index, y_test, label=\"Actual\", color=\"skyblue\")\n",
        "plt.plot(test.index, predictions, label=\"Predicted\", color=\"orange\", linestyle=\"dashed\")\n",
        "plt.xlabel(\"Date\")\n",
        "plt.ylabel(\"Stock Price\")\n",
        "plt.title(\"ARIMAX Stock Price Prediction - NAF\")\n",
        "plt.legend()\n",
        "plt.grid()\n",
        "plt.show()"
      ]
    },
    {
      "cell_type": "code",
      "execution_count": 147,
      "metadata": {},
      "outputs": [],
      "source": [
        "predictions.index = y_test.index  # Assign y_test's index to predictions"
      ]
    },
    {
      "cell_type": "code",
      "execution_count": 148,
      "metadata": {},
      "outputs": [
        {
          "name": "stdout",
          "output_type": "stream",
          "text": [
            "MSE: 44.98\n",
            "RMSE: 6.71\n",
            "Accuracy: 65.81%\n"
          ]
        }
      ],
      "source": [
        "# Evaluate performance\n",
        "mse, rmse, accuracy = evaluate_performance(y_test, predictions)\n",
        "\n",
        "print(f\"MSE: {mse:.2f}\")\n",
        "print(f\"RMSE: {rmse:.2f}\")\n",
        "print(f\"Accuracy: {accuracy:.2f}%\")"
      ]
    }
  ],
  "metadata": {
    "colab": {
      "provenance": [],
      "toc_visible": true
    },
    "kernelspec": {
      "display_name": "tensorflow",
      "language": "python",
      "name": "python3"
    },
    "language_info": {
      "codemirror_mode": {
        "name": "ipython",
        "version": 3
      },
      "file_extension": ".py",
      "mimetype": "text/x-python",
      "name": "python",
      "nbconvert_exporter": "python",
      "pygments_lexer": "ipython3",
      "version": "3.12.4"
    }
  },
  "nbformat": 4,
  "nbformat_minor": 0
}
